{
 "cells": [
  {
   "cell_type": "markdown",
   "metadata": {},
   "source": [
    "# Week1 7월 3일 화요일 \n",
    "\n",
    "# Python 기본문법 2 : 조건, 반복, 예외처리, 파일입출력, Function"
   ]
  },
  {
   "cell_type": "code",
   "execution_count": 1,
   "metadata": {},
   "outputs": [
    {
     "name": "stdout",
     "output_type": "stream",
     "text": [
      "ID :  1001630650952\n",
      "ID (+=) :  1001630650952\n",
      "ID (list = list +...) :  1001630651144\n"
     ]
    }
   ],
   "source": [
    "# list - mutable \n",
    "\n",
    "a_list = []\n",
    "print('ID : ', id(a_list))\n",
    "\n",
    "a_list += [1] \n",
    "print('ID (+=) : ', id(a_list)) # ID 값 변하지 않음\n",
    "\n",
    "a_list = a_list + [2]\n",
    "print('ID (list = list +...) : ', id(a_list)) # ID 값 변함"
   ]
  },
  {
   "cell_type": "code",
   "execution_count": 2,
   "metadata": {},
   "outputs": [
    {
     "name": "stdout",
     "output_type": "stream",
     "text": [
      "ID :  1001630698240\n",
      "ID (+=) :  1001619856200\n",
      "ID (tuple = tuple +...) :  1001630193056\n"
     ]
    }
   ],
   "source": [
    "# tuple - immutable \n",
    "# ID값 언제든지 변함\n",
    "\n",
    "a_tuple = (1,) # 튜플은 원소를 1개만 쓰려면 저렇게 쉼표를 꼭 써줘야해 안쓰면 int라고 생각\n",
    "print('ID : ', id(a_tuple))\n",
    "\n",
    "a_tuple += (2,)\n",
    "print('ID (+=) : ', id(a_tuple)) \n",
    "\n",
    "a_tuple = a_tuple + (3,)\n",
    "print('ID (tuple = tuple +...) : ', id(a_tuple)) "
   ]
  },
  {
   "cell_type": "code",
   "execution_count": 3,
   "metadata": {},
   "outputs": [
    {
     "name": "stdout",
     "output_type": "stream",
     "text": [
      "[] \n",
      "ID (initial):  1001646090312 \n",
      "\n",
      "[1] \n",
      "ID (append):  1001646090312 \n",
      "\n",
      "[1, 2] \n",
      "ID (extend):  1001646090312 \n",
      "\n"
     ]
    }
   ],
   "source": [
    "# append, extend -> ID(메모리) 값 변하지 않음\n",
    "\n",
    "a_list = []\n",
    "print(a_list, '\\nID (initial): ', id(a_list), '\\n')\n",
    "\n",
    "a_list.append(1)\n",
    "print(a_list, '\\nID (append): ', id(a_list), '\\n')\n",
    "\n",
    "a_list.extend([2])\n",
    "print(a_list, '\\nID (extend): ', id(a_list), '\\n')"
   ]
  },
  {
   "cell_type": "code",
   "execution_count": null,
   "metadata": {
    "collapsed": true
   },
   "outputs": [],
   "source": [
    "issubclass(bool, int)"
   ]
  },
  {
   "cell_type": "markdown",
   "metadata": {},
   "source": [
    "bool은 int의 subclass 이다 -> 그래서 bool인 숫자형(numeric)이다"
   ]
  },
  {
   "cell_type": "code",
   "execution_count": null,
   "metadata": {
    "collapsed": true
   },
   "outputs": [],
   "source": [
    "issubclass(set, dict)"
   ]
  },
  {
   "cell_type": "markdown",
   "metadata": {},
   "source": [
    "set은 dict의 일부만 상속받아서 subclass는 아니다. "
   ]
  },
  {
   "cell_type": "markdown",
   "metadata": {},
   "source": [
    "dic의 key로는 아무거나 올 수 있으나 immutable 타입 원소만 올수 있다"
   ]
  },
  {
   "cell_type": "code",
   "execution_count": null,
   "metadata": {
    "collapsed": true
   },
   "outputs": [],
   "source": [
    "{[1,2,3]}"
   ]
  },
  {
   "cell_type": "markdown",
   "metadata": {},
   "source": [
    "set의 원소로도 immutable 타입 원소만 올 수 있다"
   ]
  },
  {
   "cell_type": "code",
   "execution_count": null,
   "metadata": {
    "collapsed": true
   },
   "outputs": [],
   "source": [
    "{1, 'aaa'}"
   ]
  },
  {
   "cell_type": "markdown",
   "metadata": {},
   "source": [
    "Container(<-> flat) : 원소로 다양한 타입을 가질 수 있는 형태\n",
    "\n",
    "ex) set, list, tuple, set(mutable 제외), dic"
   ]
  },
  {
   "cell_type": "code",
   "execution_count": null,
   "metadata": {
    "collapsed": true
   },
   "outputs": [],
   "source": [
    "issubclass(frozenset, set)"
   ]
  },
  {
   "cell_type": "markdown",
   "metadata": {},
   "source": [
    "frozenset은 set의 서브클래스가 아니다(일부만 상속 받았다)\n",
    "\n",
    "파이썬은 자바처럼 다중 상속이 된다. 다중 상속으로 frozen은 set과 immutable을 상속받았다."
   ]
  },
  {
   "cell_type": "code",
   "execution_count": null,
   "metadata": {
    "collapsed": true
   },
   "outputs": [],
   "source": [
    "a=-5\n",
    "b=-5\n",
    "print('a is b', bool(a is b))\n",
    "\n",
    "c =-6\n",
    "d =-6\n",
    "print('c is d', bool(c is d))"
   ]
  },
  {
   "cell_type": "markdown",
   "metadata": {},
   "source": [
    "같다에는 2가지가 있다. 1) 값이 같다 (=) 2) 값도 같고 메모리값 같다 (is)\n",
    "\n",
    "-5 부터 256 까지는 빨리쓰려고 캐시에 저장한다 그래서 숫자형은 -5에서 256까지 메모리 값이 같다"
   ]
  },
  {
   "cell_type": "markdown",
   "metadata": {},
   "source": [
    "산술연산자는 숫자형에서 모두 사용할 수 있다\n",
    "\n",
    "'+ - * / // %'\n",
    "\n",
    "연산자 오버로딩"
   ]
  },
  {
   "cell_type": "markdown",
   "metadata": {},
   "source": [
    "비교 연산자 : 숫자, 문자, list, tuple, set 에서 사용 가능 -> 결과 : True, False 기본"
   ]
  },
  {
   "cell_type": "markdown",
   "metadata": {},
   "source": [
    "멤버십 연산자 : in + iterable"
   ]
  },
  {
   "cell_type": "code",
   "execution_count": null,
   "metadata": {
    "collapsed": true
   },
   "outputs": [],
   "source": [
    "'a' in 'abcd'"
   ]
  },
  {
   "cell_type": "code",
   "execution_count": null,
   "metadata": {
    "collapsed": true
   },
   "outputs": [],
   "source": [
    "True and True"
   ]
  },
  {
   "cell_type": "code",
   "execution_count": null,
   "metadata": {
    "collapsed": true
   },
   "outputs": [],
   "source": [
    "True or False"
   ]
  },
  {
   "cell_type": "code",
   "execution_count": null,
   "metadata": {
    "collapsed": true
   },
   "outputs": [],
   "source": [
    "True and 3"
   ]
  },
  {
   "cell_type": "code",
   "execution_count": null,
   "metadata": {
    "collapsed": true
   },
   "outputs": [],
   "source": [
    "1 and 0"
   ]
  },
  {
   "cell_type": "code",
   "execution_count": null,
   "metadata": {
    "collapsed": true
   },
   "outputs": [],
   "source": [
    "0 and 1"
   ]
  },
  {
   "cell_type": "code",
   "execution_count": null,
   "metadata": {
    "collapsed": true
   },
   "outputs": [],
   "source": [
    "1 or 0"
   ]
  },
  {
   "cell_type": "code",
   "execution_count": null,
   "metadata": {
    "collapsed": true
   },
   "outputs": [],
   "source": [
    "0 or 1"
   ]
  },
  {
   "cell_type": "code",
   "execution_count": null,
   "metadata": {
    "collapsed": true
   },
   "outputs": [],
   "source": [
    "0 or 0"
   ]
  },
  {
   "cell_type": "code",
   "execution_count": null,
   "metadata": {
    "collapsed": true
   },
   "outputs": [],
   "source": [
    "0 or []"
   ]
  },
  {
   "cell_type": "markdown",
   "metadata": {},
   "source": [
    "Ture : 기본값이 아닌, 없는게 아닌, 0이 아닌\n",
    "\n",
    "int(), str(), float()  =  False 이므로 이게 아닌 친구들은 전부 True"
   ]
  },
  {
   "cell_type": "markdown",
   "metadata": {},
   "source": [
    "논리 연산자 : AND, OR -> 결과 : 무조건 True, False 를 반환하지 않고 값을 반환\n",
    "\n",
    "Short Circuit\n",
    "\n",
    "A and B 에서는 1) A가 False이면 바로 A 반환 / A가 True이면 , 2) B가 True 면 B를 반환(True가 아닌) -> True, False를 갖는 값을 반환!\n",
    "\n",
    "A or B 에서는 1) A가 True 면 B를 보지 않고 A를 반환 / A가 False 면 2) B가 True면 B를 반환 / B가 False면 ? False인 B 반환"
   ]
  },
  {
   "cell_type": "code",
   "execution_count": null,
   "metadata": {
    "collapsed": true
   },
   "outputs": [],
   "source": [
    "a = [] or [1,2,3]\n",
    "a"
   ]
  },
  {
   "cell_type": "code",
   "execution_count": null,
   "metadata": {
    "collapsed": true
   },
   "outputs": [],
   "source": [
    "7>1 and 't' in 'it' and 4>2+3 and 7>3/0"
   ]
  },
  {
   "cell_type": "code",
   "execution_count": null,
   "metadata": {
    "collapsed": true
   },
   "outputs": [],
   "source": [
    "3/0"
   ]
  },
  {
   "cell_type": "markdown",
   "metadata": {},
   "source": [
    "3/0은 에러지만 파이썬은 왼쪽에서 오른쪽으로 계산하기 때문에 3/0까지 계산할 필요 없기 때문에 에러가 안남."
   ]
  },
  {
   "cell_type": "markdown",
   "metadata": {},
   "source": [
    "statement \n",
    "1. assignment ( =)\n",
    "2. if - space 4칸 띄우기(indentation) (tab 쓰지 말기!)"
   ]
  },
  {
   "cell_type": "markdown",
   "metadata": {},
   "source": [
    "파이써닉 : 파이썬 만의 독특한 방식"
   ]
  },
  {
   "cell_type": "code",
   "execution_count": null,
   "metadata": {
    "collapsed": true
   },
   "outputs": [],
   "source": [
    "if 5 :\n",
    "    print('True')"
   ]
  },
  {
   "cell_type": "code",
   "execution_count": null,
   "metadata": {
    "collapsed": true
   },
   "outputs": [],
   "source": [
    "for i in '문근영': #str\n",
    "    print(i)\n",
    "    \n",
    "for i in '문','근','영' : # tuple\n",
    "    print(i)"
   ]
  },
  {
   "cell_type": "markdown",
   "metadata": {},
   "source": [
    "range : 눈에 안보이는 iterable / sequence\n",
    "\n",
    "눈에 보이기 위해서 list, tubple, set 등이 필요"
   ]
  },
  {
   "cell_type": "code",
   "execution_count": null,
   "metadata": {
    "collapsed": true
   },
   "outputs": [],
   "source": [
    "list(range(10))"
   ]
  },
  {
   "cell_type": "code",
   "execution_count": null,
   "metadata": {
    "collapsed": true
   },
   "outputs": [],
   "source": [
    "dir(range)"
   ]
  },
  {
   "cell_type": "code",
   "execution_count": null,
   "metadata": {
    "collapsed": true
   },
   "outputs": [],
   "source": [
    "list(range(7,1))"
   ]
  },
  {
   "cell_type": "code",
   "execution_count": null,
   "metadata": {
    "collapsed": true
   },
   "outputs": [],
   "source": [
    "type(range)"
   ]
  },
  {
   "cell_type": "markdown",
   "metadata": {},
   "source": [
    "range : class니깐 literal 방식의 표현이 없다"
   ]
  },
  {
   "cell_type": "code",
   "execution_count": null,
   "metadata": {
    "collapsed": true
   },
   "outputs": [],
   "source": [
    "range() and range(10)"
   ]
  },
  {
   "cell_type": "markdown",
   "metadata": {},
   "source": [
    "range는 무조건 1개의 원소를 받아야해"
   ]
  },
  {
   "cell_type": "code",
   "execution_count": null,
   "metadata": {
    "collapsed": true
   },
   "outputs": [],
   "source": [
    "range(0) and range(10)"
   ]
  },
  {
   "cell_type": "markdown",
   "metadata": {},
   "source": [
    "range는 false가 0을 넣은 것이다!"
   ]
  },
  {
   "cell_type": "code",
   "execution_count": null,
   "metadata": {
    "collapsed": true
   },
   "outputs": [],
   "source": [
    "i = 1\n",
    "for i in range(10) :\n",
    "    print(i)\n",
    "print('i', i)"
   ]
  },
  {
   "cell_type": "markdown",
   "metadata": {},
   "source": [
    "scope가 없다 for을 벗어났는데도 i값이 1이 아니라 for 문에서의 마지막 값 1이다!"
   ]
  },
  {
   "cell_type": "code",
   "execution_count": null,
   "metadata": {
    "collapsed": true
   },
   "outputs": [],
   "source": [
    "for i in range(10) :\n",
    "    print(i)\n",
    "else:\n",
    "    print('fin')"
   ]
  },
  {
   "cell_type": "markdown",
   "metadata": {},
   "source": [
    "for에도 else가 있다. (if와 다른 else) for문이 완벽하게 끝나면 else문 시작"
   ]
  },
  {
   "cell_type": "code",
   "execution_count": null,
   "metadata": {
    "collapsed": true
   },
   "outputs": [],
   "source": []
  },
  {
   "cell_type": "code",
   "execution_count": null,
   "metadata": {
    "collapsed": true
   },
   "outputs": [],
   "source": [
    "for i in range(10) :\n",
    "    print(i)\n",
    "    if i == 3:\n",
    "        break;\n",
    "else:\n",
    "    print('fin')"
   ]
  },
  {
   "cell_type": "markdown",
   "metadata": {},
   "source": [
    "break 때문에 for문 완벽하게 실행이 안되었으므로 else가 실행이 안됨"
   ]
  },
  {
   "cell_type": "code",
   "execution_count": null,
   "metadata": {
    "collapsed": true
   },
   "outputs": [],
   "source": [
    "sum = 0\n",
    "for i in range(1,100,2) :\n",
    "    sum = sum + i\n",
    "    print(i, s)\n",
    "else : \n",
    "    print('1부터 100까지 홀수의 합 : ', sum)"
   ]
  },
  {
   "cell_type": "code",
   "execution_count": null,
   "metadata": {
    "collapsed": true
   },
   "outputs": [],
   "source": [
    "sum(range(1,100,2))"
   ]
  },
  {
   "cell_type": "markdown",
   "metadata": {},
   "source": [
    "에러 나는 이유 : sum이라는 키워드를 이미 변수명으로 사용했기 때문에"
   ]
  },
  {
   "cell_type": "code",
   "execution_count": null,
   "metadata": {
    "collapsed": true
   },
   "outputs": [],
   "source": [
    "del sum"
   ]
  },
  {
   "cell_type": "code",
   "execution_count": null,
   "metadata": {
    "collapsed": true
   },
   "outputs": [],
   "source": [
    "sum(range(1,100,2))"
   ]
  },
  {
   "cell_type": "code",
   "execution_count": null,
   "metadata": {
    "collapsed": true
   },
   "outputs": [],
   "source": [
    "a = [-1.1, 1, 1.1]\n",
    "sum(a)"
   ]
  },
  {
   "cell_type": "code",
   "execution_count": null,
   "metadata": {
    "collapsed": true
   },
   "outputs": [],
   "source": [
    "a = [-1e50, 1, 1e50]\n",
    "sum(a)"
   ]
  },
  {
   "cell_type": "markdown",
   "metadata": {},
   "source": [
    "sum은 부동소수점의 문제가 있담"
   ]
  },
  {
   "cell_type": "code",
   "execution_count": null,
   "metadata": {
    "collapsed": true
   },
   "outputs": [],
   "source": [
    "%time sum([1,2,3])"
   ]
  },
  {
   "cell_type": "markdown",
   "metadata": {},
   "source": [
    "%time : 걸린시간"
   ]
  },
  {
   "cell_type": "code",
   "execution_count": null,
   "metadata": {
    "collapsed": true
   },
   "outputs": [],
   "source": [
    "%timeit sum([1,2,3])"
   ]
  },
  {
   "cell_type": "markdown",
   "metadata": {},
   "source": [
    "%timeit : 루프 하나 당 걸린 평균 시간"
   ]
  },
  {
   "cell_type": "code",
   "execution_count": null,
   "metadata": {
    "collapsed": true
   },
   "outputs": [],
   "source": [
    "import math\n",
    "%timeit math.fsum(a)"
   ]
  },
  {
   "cell_type": "markdown",
   "metadata": {},
   "source": [
    "math.fsum 은 sum보다 느리지만 부동소수점 문제를 해결해줌"
   ]
  },
  {
   "cell_type": "code",
   "execution_count": null,
   "metadata": {
    "collapsed": true
   },
   "outputs": [],
   "source": [
    "%timeit sum(a)"
   ]
  },
  {
   "cell_type": "code",
   "execution_count": null,
   "metadata": {
    "collapsed": true
   },
   "outputs": [],
   "source": [
    "x =1.1\n",
    "y =2.2\n",
    "z = 3.3\n",
    "z == x+y"
   ]
  },
  {
   "cell_type": "markdown",
   "metadata": {},
   "source": [
    "부동 소수점 문제를 해결하기 위해 math 패키지를 사용해라!"
   ]
  },
  {
   "cell_type": "code",
   "execution_count": null,
   "metadata": {
    "collapsed": true
   },
   "outputs": [],
   "source": [
    "t = (1,)\n",
    "type(t)"
   ]
  },
  {
   "cell_type": "code",
   "execution_count": null,
   "metadata": {
    "collapsed": true
   },
   "outputs": [],
   "source": [
    "t1 = (1)\n",
    "type(t1)"
   ]
  },
  {
   "cell_type": "code",
   "execution_count": null,
   "metadata": {
    "collapsed": true
   },
   "outputs": [],
   "source": [
    "a = 10\n",
    "while a<11:\n",
    "    print(a)\n",
    "    a += 1\n",
    "else:\n",
    "    print('end', a)"
   ]
  },
  {
   "cell_type": "code",
   "execution_count": null,
   "metadata": {
    "collapsed": true
   },
   "outputs": [],
   "source": [
    "a = 10\n",
    "while a>11:\n",
    "    print(a)\n",
    "    a += 1\n",
    "else:\n",
    "    print('end',a )"
   ]
  },
  {
   "cell_type": "markdown",
   "metadata": {},
   "source": [
    "while 문 조건에 안맞아도 else문 실행이 됨"
   ]
  },
  {
   "cell_type": "code",
   "execution_count": null,
   "metadata": {
    "collapsed": true
   },
   "outputs": [],
   "source": [
    "a = 10\n",
    "while a<11:\n",
    "    print(a)\n",
    "    a += 1\n",
    "    if a == 11 :\n",
    "        break\n",
    "else:\n",
    "    print('end',a )"
   ]
  },
  {
   "cell_type": "markdown",
   "metadata": {},
   "source": [
    "break 쓰면 else 문 안나옴"
   ]
  },
  {
   "cell_type": "markdown",
   "metadata": {},
   "source": [
    "while은 안에 조건을 또 달아야되기 때문에 쓰지 말고 for문을 선호해라"
   ]
  },
  {
   "cell_type": "code",
   "execution_count": null,
   "metadata": {
    "collapsed": true
   },
   "outputs": [],
   "source": [
    "# quiz 1 : 1에서 100까지 3의 배수를 while문으로 작성해라 -> 너무 길어짐\n",
    "a = 1\n",
    "s = 0\n",
    "while a < 100 :\n",
    "    if a % 3 == 0 :\n",
    "        s += a\n",
    "    a+=1\n",
    "else :\n",
    "    print('end', s)"
   ]
  },
  {
   "cell_type": "code",
   "execution_count": null,
   "metadata": {
    "collapsed": true
   },
   "outputs": [],
   "source": [
    "a = 10\n",
    "b = 15 if a>5 else 5 \n",
    "print(a, b)"
   ]
  },
  {
   "cell_type": "code",
   "execution_count": null,
   "metadata": {
    "collapsed": true
   },
   "outputs": [],
   "source": [
    "a = 10\n",
    "b = 15 if a>5 # else 생력하면 안돼!!\n",
    "print(a, b)"
   ]
  },
  {
   "cell_type": "markdown",
   "metadata": {},
   "source": [
    "조건식 : 삼항 연산자 처럼 함수 인자값에 활용"
   ]
  },
  {
   "cell_type": "code",
   "execution_count": null,
   "metadata": {
    "collapsed": true
   },
   "outputs": [],
   "source": [
    "a = input()"
   ]
  },
  {
   "cell_type": "code",
   "execution_count": null,
   "metadata": {
    "collapsed": true
   },
   "outputs": [],
   "source": [
    "type(a)"
   ]
  },
  {
   "cell_type": "code",
   "execution_count": null,
   "metadata": {
    "collapsed": true
   },
   "outputs": [],
   "source": [
    "b = input()"
   ]
  },
  {
   "cell_type": "code",
   "execution_count": null,
   "metadata": {
    "collapsed": true
   },
   "outputs": [],
   "source": [
    "type(b )"
   ]
  },
  {
   "cell_type": "code",
   "execution_count": null,
   "metadata": {
    "collapsed": true
   },
   "outputs": [],
   "source": [
    "c = input()"
   ]
  },
  {
   "cell_type": "code",
   "execution_count": null,
   "metadata": {
    "collapsed": true
   },
   "outputs": [],
   "source": [
    "type(c)"
   ]
  },
  {
   "cell_type": "markdown",
   "metadata": {},
   "source": [
    "ln [\\*]은 이 코드가 진행중\n",
    "input()에 뭘넣든 타입은 str"
   ]
  },
  {
   "cell_type": "code",
   "execution_count": null,
   "metadata": {
    "collapsed": true
   },
   "outputs": [],
   "source": [
    "u = input()\n",
    "while (True) :\n",
    "    try :\n",
    "        u_int = int(u)\n",
    "        if(1<=u_int <= 9) : # 파이썬은 이런식으로 사용할 수 있어\n",
    "            print(u_int,'단 출력')\n",
    "            break;\n",
    "        else :\n",
    "            print('재입력')\n",
    "            u = input()\n",
    "    except ValueError :\n",
    "        print('재입력')\n",
    "        u = input()\n",
    "\n",
    "for i in range(1,10) :\n",
    "    print(u_int*i)"
   ]
  },
  {
   "cell_type": "code",
   "execution_count": null,
   "metadata": {
    "collapsed": true
   },
   "outputs": [],
   "source": [
    "a =input()\n",
    "a = int(a) if 1 <= int(a) <= 9 else 0 # 강사는 이런식으로 입력받기를 바랬음"
   ]
  },
  {
   "cell_type": "code",
   "execution_count": null,
   "metadata": {
    "collapsed": true
   },
   "outputs": [],
   "source": [
    "a = input()\n",
    "try :\n",
    "    b = int(a)\n",
    "except : # 에러가 나면\n",
    "    print('숫자입력해')\n",
    "else : # 에러가 안나면\n",
    "    print('잘했어')\n",
    "finally : # 무조건 실행\n",
    "    print('끝났어')"
   ]
  },
  {
   "cell_type": "markdown",
   "metadata": {},
   "source": [
    "bold green : 키워드"
   ]
  },
  {
   "cell_type": "code",
   "execution_count": null,
   "metadata": {
    "collapsed": true
   },
   "outputs": [],
   "source": [
    "import keyword"
   ]
  },
  {
   "cell_type": "code",
   "execution_count": null,
   "metadata": {
    "collapsed": true
   },
   "outputs": [],
   "source": [
    "type(keyword)"
   ]
  },
  {
   "cell_type": "code",
   "execution_count": null,
   "metadata": {
    "collapsed": true
   },
   "outputs": [],
   "source": [
    "dir(keyword)"
   ]
  },
  {
   "cell_type": "code",
   "execution_count": null,
   "metadata": {
    "collapsed": true
   },
   "outputs": [],
   "source": [
    "keyword.kwlist #파이썬의 keyworkd list"
   ]
  },
  {
   "cell_type": "code",
   "execution_count": null,
   "metadata": {
    "collapsed": true
   },
   "outputs": [],
   "source": [
    "len(keyword.kwlist)"
   ]
  },
  {
   "cell_type": "code",
   "execution_count": null,
   "metadata": {
    "collapsed": true
   },
   "outputs": [],
   "source": [
    "while True :\n",
    "    a = input()\n",
    "    try :\n",
    "        if 1 <= int(a) <= 9 :\n",
    "            b = int(a)            \n",
    "            for i in range(1,10) :\n",
    "                print(b, 'X' , i, '=', b*i)\n",
    "            break\n",
    "        else :\n",
    "            print('1에서 9사이 입력해')\n",
    "    except : # 에러가 나면\n",
    "        print('숫자입력해')"
   ]
  },
  {
   "cell_type": "code",
   "execution_count": null,
   "metadata": {
    "collapsed": true
   },
   "outputs": [],
   "source": [
    "# 공백을 기준으로 문자 나누기\n",
    "a = input()\n",
    "if ' ' in a :\n",
    "    b = a.split(' ')\n",
    "    print(b)"
   ]
  },
  {
   "cell_type": "code",
   "execution_count": null,
   "metadata": {
    "collapsed": true
   },
   "outputs": [],
   "source": [
    "# 글자 수를 비슷하게 양분하기\n",
    "a = input()\n",
    "leng = len(a)\n",
    "print('앞 :', a[:(leng // 2)],'뒤 : ' , a[(leng // 2):])"
   ]
  },
  {
   "cell_type": "code",
   "execution_count": null,
   "metadata": {
    "collapsed": true
   },
   "outputs": [],
   "source": [
    "# 문자와 숫자가 아닌 특수문자 출력하기\n",
    "a= input()\n",
    "k=''\n",
    "for i in a :\n",
    "    if not i.isnumeric() and not i.isalpha() :\n",
    "        k += i\n",
    "print(k)  "
   ]
  },
  {
   "cell_type": "code",
   "execution_count": null,
   "metadata": {
    "collapsed": true
   },
   "outputs": [],
   "source": []
  },
  {
   "cell_type": "code",
   "execution_count": null,
   "metadata": {
    "collapsed": true
   },
   "outputs": [],
   "source": [
    "error = dir(__builtin__)\n",
    "for i in error :\n",
    "    if 'Error' in i :\n",
    "        print(i)"
   ]
  },
  {
   "cell_type": "code",
   "execution_count": null,
   "metadata": {
    "collapsed": true
   },
   "outputs": [],
   "source": [
    "for i in error :\n",
    "    if 'Exception' in i :\n",
    "        print(i)"
   ]
  },
  {
   "cell_type": "code",
   "execution_count": null,
   "metadata": {
    "collapsed": true
   },
   "outputs": [],
   "source": [
    "dir(Exception)"
   ]
  },
  {
   "cell_type": "markdown",
   "metadata": {},
   "source": [
    "Exception : runtime error (찾기 어려움) -> 그냥 exception으로 다잡아버리는것을 추천 / 중단도 안되고 내가 원하는 결과아님\n",
    "\n",
    "Error : compile error (명백함 = 문법적이나 구문적인 문제가 있다) / 중단이 되는 경우가 많음"
   ]
  },
  {
   "cell_type": "code",
   "execution_count": null,
   "metadata": {
    "collapsed": true
   },
   "outputs": [],
   "source": [
    "import numpy as np\n",
    "np.__name__"
   ]
  },
  {
   "cell_type": "code",
   "execution_count": null,
   "metadata": {
    "collapsed": true
   },
   "outputs": [],
   "source": [
    "a = 10\n",
    "if a>10 :\n",
    "    print(a)\n",
    "else :\n",
    "    raise Exception('aaa') # 예외 이름과 함께 강제로 예외 만들기 "
   ]
  },
  {
   "cell_type": "markdown",
   "metadata": {},
   "source": [
    "파이썬에는 switch case 문이 없으므로 raise exception으로 경우를 나눌수 있음"
   ]
  },
  {
   "cell_type": "code",
   "execution_count": null,
   "metadata": {
    "collapsed": true
   },
   "outputs": [],
   "source": [
    "b=10\n",
    "assert b == 11"
   ]
  },
  {
   "cell_type": "markdown",
   "metadata": {},
   "source": [
    "코드 사이에서 흐름 제어 딱 그값이 아닐 때 에러가 생기게함 / 딱 그값이면 그냥 진짜 아무 영향없이 그냥 넘어감\n",
    "\n",
    "testing을 간단하게 할 수 있어!"
   ]
  },
  {
   "cell_type": "code",
   "execution_count": null,
   "metadata": {
    "collapsed": true
   },
   "outputs": [],
   "source": [
    "문근영 = sum"
   ]
  },
  {
   "cell_type": "code",
   "execution_count": null,
   "metadata": {
    "collapsed": true
   },
   "outputs": [],
   "source": [
    "문근영([1,2,3])"
   ]
  },
  {
   "cell_type": "markdown",
   "metadata": {},
   "source": [
    "이게 가능한 이유 : 파이썬이 first-class function이라서"
   ]
  },
  {
   "cell_type": "code",
   "execution_count": null,
   "metadata": {
    "collapsed": true
   },
   "outputs": [],
   "source": [
    "a = [str.upper, str.lower]"
   ]
  },
  {
   "cell_type": "code",
   "execution_count": null,
   "metadata": {
    "collapsed": true
   },
   "outputs": [],
   "source": [
    "a[0]('abc')"
   ]
  },
  {
   "cell_type": "code",
   "execution_count": null,
   "metadata": {
    "collapsed": true
   },
   "outputs": [],
   "source": [
    "def a(func):\n",
    "    print(func('abc'))"
   ]
  },
  {
   "cell_type": "code",
   "execution_count": null,
   "metadata": {
    "collapsed": true
   },
   "outputs": [],
   "source": [
    "a(str.upper)"
   ]
  },
  {
   "cell_type": "code",
   "execution_count": null,
   "metadata": {
    "collapsed": true
   },
   "outputs": [],
   "source": [
    "def a(func):\n",
    "    return func\n",
    "\n",
    "b = a(str.upper)\n",
    "\n",
    "b('abc')"
   ]
  },
  {
   "cell_type": "markdown",
   "metadata": {},
   "source": [
    "C의 이중포인터 같은역할"
   ]
  },
  {
   "cell_type": "code",
   "execution_count": null,
   "metadata": {
    "collapsed": true
   },
   "outputs": [],
   "source": [
    "if None :\n",
    "    print('None은 True')\n",
    "else :\n",
    "    print('None은 False')"
   ]
  },
  {
   "cell_type": "markdown",
   "metadata": {},
   "source": [
    "a is not None(a가 존재하면) vs a / a= None일때"
   ]
  },
  {
   "cell_type": "code",
   "execution_count": null,
   "metadata": {
    "collapsed": true
   },
   "outputs": [],
   "source": [
    "a = None\n",
    "if a != None :\n",
    "    print('a는 None이 아님')\n",
    "else :\n",
    "    print('a는 None임')"
   ]
  },
  {
   "cell_type": "code",
   "execution_count": null,
   "metadata": {
    "collapsed": true
   },
   "outputs": [],
   "source": [
    "a = None\n",
    "if a is not None :\n",
    "    print('a is not None')\n",
    "else :\n",
    "    print('a is None')"
   ]
  },
  {
   "cell_type": "code",
   "execution_count": null,
   "metadata": {
    "collapsed": true
   },
   "outputs": [],
   "source": [
    "a = None\n",
    "if a :\n",
    "    print('None is True')\n",
    "else :\n",
    "    print('None is False')"
   ]
  },
  {
   "cell_type": "code",
   "execution_count": null,
   "metadata": {
    "collapsed": true
   },
   "outputs": [],
   "source": [
    "# 인자가 1개일때\n",
    "a = lambda x : x+1\n",
    "a(0)"
   ]
  },
  {
   "cell_type": "code",
   "execution_count": null,
   "metadata": {
    "collapsed": true
   },
   "outputs": [],
   "source": [
    "# 인자를 안받을 때\n",
    "b = lambda : 3\n",
    "b()"
   ]
  },
  {
   "cell_type": "code",
   "execution_count": null,
   "metadata": {
    "collapsed": true
   },
   "outputs": [],
   "source": [
    "# 인자가 2개 이상일 때\n",
    "c = lambda x, y : x+y+3\n",
    "c(1,2)"
   ]
  },
  {
   "cell_type": "markdown",
   "metadata": {},
   "source": [
    "lambda : 익명함수라고 하는 책도 있으나 그냥 lambda 식이라고 부르자 이것도 first class function이라서 가능"
   ]
  },
  {
   "cell_type": "code",
   "execution_count": null,
   "metadata": {
    "collapsed": true
   },
   "outputs": [],
   "source": [
    "def add_x_y() :\n",
    "    '''박소영이 만든 함수''' # Docstring 함수 설명하는 부분이다!\n",
    "    pass # 모양만 두고 나중에 구현할 것이다!"
   ]
  },
  {
   "cell_type": "code",
   "execution_count": null,
   "metadata": {
    "collapsed": true
   },
   "outputs": [],
   "source": [
    "add_x_y()"
   ]
  },
  {
   "cell_type": "code",
   "execution_count": 45,
   "metadata": {},
   "outputs": [
    {
     "data": {
      "text/plain": [
       "function"
      ]
     },
     "execution_count": 45,
     "metadata": {},
     "output_type": "execute_result"
    }
   ],
   "source": [
    "type(add_x_y)"
   ]
  },
  {
   "cell_type": "code",
   "execution_count": 46,
   "metadata": {},
   "outputs": [
    {
     "data": {
      "text/plain": [
       "['__annotations__',\n",
       " '__call__',\n",
       " '__class__',\n",
       " '__closure__',\n",
       " '__code__',\n",
       " '__defaults__',\n",
       " '__delattr__',\n",
       " '__dict__',\n",
       " '__dir__',\n",
       " '__doc__',\n",
       " '__eq__',\n",
       " '__format__',\n",
       " '__ge__',\n",
       " '__get__',\n",
       " '__getattribute__',\n",
       " '__globals__',\n",
       " '__gt__',\n",
       " '__hash__',\n",
       " '__init__',\n",
       " '__init_subclass__',\n",
       " '__kwdefaults__',\n",
       " '__le__',\n",
       " '__lt__',\n",
       " '__module__',\n",
       " '__name__',\n",
       " '__ne__',\n",
       " '__new__',\n",
       " '__qualname__',\n",
       " '__reduce__',\n",
       " '__reduce_ex__',\n",
       " '__repr__',\n",
       " '__setattr__',\n",
       " '__sizeof__',\n",
       " '__str__',\n",
       " '__subclasshook__']"
      ]
     },
     "execution_count": 46,
     "metadata": {},
     "output_type": "execute_result"
    }
   ],
   "source": [
    "dir(add_x_y) "
   ]
  },
  {
   "cell_type": "markdown",
   "metadata": {},
   "source": [
    "메소드 아무것도 안만들었지만 이미 있다 java 처럼 object 상속받았기 때문"
   ]
  },
  {
   "cell_type": "markdown",
   "metadata": {},
   "source": [
    "함수에는 print가 아닌 return이 기본, 아무것도 반환하지 않아도 return None "
   ]
  },
  {
   "cell_type": "code",
   "execution_count": null,
   "metadata": {
    "collapsed": true
   },
   "outputs": [],
   "source": []
  }
 ],
 "metadata": {
  "kernelspec": {
   "display_name": "Python 3",
   "language": "python",
   "name": "python3"
  },
  "language_info": {
   "codemirror_mode": {
    "name": "ipython",
    "version": 3
   },
   "file_extension": ".py",
   "mimetype": "text/x-python",
   "name": "python",
   "nbconvert_exporter": "python",
   "pygments_lexer": "ipython3",
   "version": "3.6.1"
  }
 },
 "nbformat": 4,
 "nbformat_minor": 2
}
