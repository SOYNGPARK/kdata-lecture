{
 "cells": [
  {
   "cell_type": "markdown",
   "metadata": {},
   "source": [
    "# Week2 7월 10일 화요일 \n",
    "\n",
    "# SQLAlchemy ORM "
   ]
  },
  {
   "cell_type": "code",
   "execution_count": 1,
   "metadata": {
    "collapsed": true
   },
   "outputs": [],
   "source": [
    "from sqlalchemy import *"
   ]
  },
  {
   "cell_type": "code",
   "execution_count": 2,
   "metadata": {
    "collapsed": true
   },
   "outputs": [],
   "source": [
    "#engine = create_engine(\"sqlite://\", echo=True) # 메모리에 저장하고 싶을 때\n",
    "engine = create_engine(\"sqlite:///alchemy_orm.db\", echo=True)"
   ]
  },
  {
   "cell_type": "code",
   "execution_count": 3,
   "metadata": {
    "collapsed": true
   },
   "outputs": [],
   "source": [
    "from sqlalchemy.ext.declarative import declarative_base "
   ]
  },
  {
   "cell_type": "code",
   "execution_count": 4,
   "metadata": {
    "collapsed": true
   },
   "outputs": [],
   "source": [
    "base = declarative_base() "
   ]
  },
  {
   "cell_type": "code",
   "execution_count": 6,
   "metadata": {},
   "outputs": [
    {
     "data": {
      "text/plain": [
       "['__class__',\n",
       " '__delattr__',\n",
       " '__dict__',\n",
       " '__dir__',\n",
       " '__doc__',\n",
       " '__eq__',\n",
       " '__format__',\n",
       " '__ge__',\n",
       " '__getattribute__',\n",
       " '__gt__',\n",
       " '__hash__',\n",
       " '__init__',\n",
       " '__init_subclass__',\n",
       " '__le__',\n",
       " '__lt__',\n",
       " '__module__',\n",
       " '__ne__',\n",
       " '__new__',\n",
       " '__reduce__',\n",
       " '__reduce_ex__',\n",
       " '__repr__',\n",
       " '__setattr__',\n",
       " '__sizeof__',\n",
       " '__str__',\n",
       " '__subclasshook__',\n",
       " '__weakref__',\n",
       " '_decl_class_registry',\n",
       " 'metadata']"
      ]
     },
     "execution_count": 6,
     "metadata": {},
     "output_type": "execute_result"
    }
   ],
   "source": [
    "dir(base) # metadata를 한번더 감싼 애"
   ]
  },
  {
   "cell_type": "code",
   "execution_count": 7,
   "metadata": {},
   "outputs": [
    {
     "data": {
      "text/plain": [
       "MetaData(bind=None)"
      ]
     },
     "execution_count": 7,
     "metadata": {},
     "output_type": "execute_result"
    }
   ],
   "source": [
    "base.metadata"
   ]
  },
  {
   "cell_type": "code",
   "execution_count": 5,
   "metadata": {
    "collapsed": true
   },
   "outputs": [],
   "source": [
    "from sqlalchemy.orm import relationship"
   ]
  },
  {
   "cell_type": "code",
   "execution_count": 6,
   "metadata": {
    "collapsed": true
   },
   "outputs": [],
   "source": [
    "class Artist(base) :\n",
    "    __tablename__ = \"artist\"\n",
    "    \n",
    "    id_ = Column(Integer, primary_key=True)\n",
    "    name = Column(String)\n",
    "    album = relationship(\"Album\", back_populates=\"artist\") # relationship : \"Album\"이라는 클래스에 가면 artist 라는 변수가 있다\n",
    "    \n",
    "    def __repr__(self) :\n",
    "        return \"<T' artist(name=%s)>\" % (self.name)\n",
    "    \n",
    "\n",
    "class Album(base) :\n",
    "    __tablename__ = \"album\"\n",
    "    \n",
    "    id_ = Column(Integer, primary_key=True)\n",
    "    title = Column(String)\n",
    "    artist_id = Column(Integer, ForeignKey(\"artist.id_\"))\n",
    "    artist = relationship(\"Artist\", back_populates=\"album\") # relationship : \"Aritst\"이라는 클래스에 가면 album 라는 변수가 있다\n",
    "\n",
    "class Genre(base) :\n",
    "    __tablename__ = \"genre\"\n",
    "    \n",
    "    id_ = Column(Integer, primary_key=True)\n",
    "    name = Column(String)\n",
    "     \n",
    "        \n",
    "class Track(base) :\n",
    "    __tablename__ = \"track\"\n",
    "    \n",
    "    id_ = Column(Integer, primary_key=True)\n",
    "    title = Column(String)\n",
    "    album_id = Column(Integer, ForeignKey(\"album.id_\"))\n",
    "    genre_id = Column(Integer, ForeignKey(\"genre.id_\"))"
   ]
  },
  {
   "cell_type": "code",
   "execution_count": 32,
   "metadata": {
    "scrolled": false
   },
   "outputs": [
    {
     "data": {
      "text/plain": [
       "['__class__',\n",
       " '__delattr__',\n",
       " '__dict__',\n",
       " '__dir__',\n",
       " '__doc__',\n",
       " '__eq__',\n",
       " '__format__',\n",
       " '__ge__',\n",
       " '__getattribute__',\n",
       " '__gt__',\n",
       " '__hash__',\n",
       " '__init__',\n",
       " '__init_subclass__',\n",
       " '__le__',\n",
       " '__lt__',\n",
       " '__mapper__',\n",
       " '__module__',\n",
       " '__ne__',\n",
       " '__new__',\n",
       " '__reduce__',\n",
       " '__reduce_ex__',\n",
       " '__repr__',\n",
       " '__setattr__',\n",
       " '__sizeof__',\n",
       " '__str__',\n",
       " '__subclasshook__',\n",
       " '__table__',\n",
       " '__tablename__',\n",
       " '__weakref__',\n",
       " '_decl_class_registry',\n",
       " '_sa_class_manager',\n",
       " 'album',\n",
       " 'id_',\n",
       " 'metadata',\n",
       " 'name']"
      ]
     },
     "execution_count": 32,
     "metadata": {},
     "output_type": "execute_result"
    }
   ],
   "source": [
    "dir(Artist)"
   ]
  },
  {
   "cell_type": "code",
   "execution_count": 37,
   "metadata": {},
   "outputs": [
    {
     "data": {
      "text/plain": [
       "MetaData(bind=None)"
      ]
     },
     "execution_count": 37,
     "metadata": {},
     "output_type": "execute_result"
    }
   ],
   "source": [
    "Artist.metadata"
   ]
  },
  {
   "cell_type": "code",
   "execution_count": 34,
   "metadata": {},
   "outputs": [
    {
     "name": "stdout",
     "output_type": "stream",
     "text": [
      "Mapper|Artist|artist\n"
     ]
    }
   ],
   "source": [
    "print(Artist.__mapper__)"
   ]
  },
  {
   "cell_type": "code",
   "execution_count": 38,
   "metadata": {},
   "outputs": [
    {
     "data": {
      "text/plain": [
       "Table('artist', MetaData(bind=None), Column('id_', Integer(), table=<artist>, primary_key=True, nullable=False), Column('name', String(), table=<artist>), schema=None)"
      ]
     },
     "execution_count": 38,
     "metadata": {},
     "output_type": "execute_result"
    }
   ],
   "source": [
    "Artist.__table__"
   ]
  },
  {
   "cell_type": "code",
   "execution_count": 7,
   "metadata": {},
   "outputs": [
    {
     "name": "stdout",
     "output_type": "stream",
     "text": [
      "2018-07-13 16:17:58,711 INFO sqlalchemy.engine.base.Engine SELECT CAST('test plain returns' AS VARCHAR(60)) AS anon_1\n",
      "2018-07-13 16:17:58,739 INFO sqlalchemy.engine.base.Engine ()\n",
      "2018-07-13 16:17:58,747 INFO sqlalchemy.engine.base.Engine SELECT CAST('test unicode returns' AS VARCHAR(60)) AS anon_1\n",
      "2018-07-13 16:17:58,752 INFO sqlalchemy.engine.base.Engine ()\n",
      "2018-07-13 16:17:58,761 INFO sqlalchemy.engine.base.Engine PRAGMA table_info(\"artist\")\n",
      "2018-07-13 16:17:58,765 INFO sqlalchemy.engine.base.Engine ()\n",
      "2018-07-13 16:17:58,772 INFO sqlalchemy.engine.base.Engine PRAGMA table_info(\"album\")\n",
      "2018-07-13 16:17:58,776 INFO sqlalchemy.engine.base.Engine ()\n",
      "2018-07-13 16:17:58,782 INFO sqlalchemy.engine.base.Engine PRAGMA table_info(\"genre\")\n",
      "2018-07-13 16:17:58,787 INFO sqlalchemy.engine.base.Engine ()\n",
      "2018-07-13 16:17:58,794 INFO sqlalchemy.engine.base.Engine PRAGMA table_info(\"track\")\n",
      "2018-07-13 16:17:58,798 INFO sqlalchemy.engine.base.Engine ()\n",
      "2018-07-13 16:17:58,806 INFO sqlalchemy.engine.base.Engine \n",
      "CREATE TABLE artist (\n",
      "\tid_ INTEGER NOT NULL, \n",
      "\tname VARCHAR, \n",
      "\tPRIMARY KEY (id_)\n",
      ")\n",
      "\n",
      "\n",
      "2018-07-13 16:17:58,811 INFO sqlalchemy.engine.base.Engine ()\n",
      "2018-07-13 16:17:58,854 INFO sqlalchemy.engine.base.Engine COMMIT\n",
      "2018-07-13 16:17:58,860 INFO sqlalchemy.engine.base.Engine \n",
      "CREATE TABLE genre (\n",
      "\tid_ INTEGER NOT NULL, \n",
      "\tname VARCHAR, \n",
      "\tPRIMARY KEY (id_)\n",
      ")\n",
      "\n",
      "\n",
      "2018-07-13 16:17:58,865 INFO sqlalchemy.engine.base.Engine ()\n",
      "2018-07-13 16:17:58,900 INFO sqlalchemy.engine.base.Engine COMMIT\n",
      "2018-07-13 16:17:58,905 INFO sqlalchemy.engine.base.Engine \n",
      "CREATE TABLE album (\n",
      "\tid_ INTEGER NOT NULL, \n",
      "\ttitle VARCHAR, \n",
      "\tartist_id INTEGER, \n",
      "\tPRIMARY KEY (id_), \n",
      "\tFOREIGN KEY(artist_id) REFERENCES artist (id_)\n",
      ")\n",
      "\n",
      "\n",
      "2018-07-13 16:17:58,913 INFO sqlalchemy.engine.base.Engine ()\n",
      "2018-07-13 16:17:58,983 INFO sqlalchemy.engine.base.Engine COMMIT\n",
      "2018-07-13 16:17:58,995 INFO sqlalchemy.engine.base.Engine \n",
      "CREATE TABLE track (\n",
      "\tid_ INTEGER NOT NULL, \n",
      "\ttitle VARCHAR, \n",
      "\talbum_id INTEGER, \n",
      "\tgenre_id INTEGER, \n",
      "\tPRIMARY KEY (id_), \n",
      "\tFOREIGN KEY(album_id) REFERENCES album (id_), \n",
      "\tFOREIGN KEY(genre_id) REFERENCES genre (id_)\n",
      ")\n",
      "\n",
      "\n",
      "2018-07-13 16:17:59,001 INFO sqlalchemy.engine.base.Engine ()\n",
      "2018-07-13 16:17:59,047 INFO sqlalchemy.engine.base.Engine COMMIT\n"
     ]
    }
   ],
   "source": [
    "base.metadata.create_all(engine)"
   ]
  },
  {
   "cell_type": "code",
   "execution_count": 8,
   "metadata": {
    "collapsed": true
   },
   "outputs": [],
   "source": [
    "from sqlalchemy.orm import sessionmaker"
   ]
  },
  {
   "cell_type": "code",
   "execution_count": 9,
   "metadata": {
    "collapsed": true
   },
   "outputs": [],
   "source": [
    "Session = sessionmaker(bind=engine)"
   ]
  },
  {
   "cell_type": "code",
   "execution_count": 10,
   "metadata": {
    "collapsed": true
   },
   "outputs": [],
   "source": [
    "session = Session()"
   ]
  },
  {
   "cell_type": "code",
   "execution_count": 11,
   "metadata": {
    "collapsed": true
   },
   "outputs": [],
   "source": [
    "artist1 = Artist(name = 'IU')\n",
    "artist2 = Artist(name = 'AKMU')"
   ]
  },
  {
   "cell_type": "code",
   "execution_count": 12,
   "metadata": {},
   "outputs": [
    {
     "data": {
      "text/plain": [
       "[]"
      ]
     },
     "execution_count": 12,
     "metadata": {},
     "output_type": "execute_result"
    }
   ],
   "source": [
    "artist1.album"
   ]
  },
  {
   "cell_type": "code",
   "execution_count": 13,
   "metadata": {
    "collapsed": true
   },
   "outputs": [],
   "source": [
    "# Relationship\n",
    "artist1.album = [Album(title=\"Last Fantasy\"), Album(title=\"CHAT-SHIRE\")] # COMMIT 전이면 DB에 생성된건 아님"
   ]
  },
  {
   "cell_type": "code",
   "execution_count": 14,
   "metadata": {
    "collapsed": true
   },
   "outputs": [],
   "source": [
    "# Insert\n",
    "session.add_all([\n",
    "    artist1, artist2\n",
    "])"
   ]
  },
  {
   "cell_type": "code",
   "execution_count": 15,
   "metadata": {},
   "outputs": [
    {
     "name": "stdout",
     "output_type": "stream",
     "text": [
      "2018-07-13 16:18:08,423 INFO sqlalchemy.engine.base.Engine BEGIN (implicit)\n",
      "2018-07-13 16:18:08,430 INFO sqlalchemy.engine.base.Engine INSERT INTO artist (name) VALUES (?)\n",
      "2018-07-13 16:18:08,436 INFO sqlalchemy.engine.base.Engine ('IU',)\n",
      "2018-07-13 16:18:08,448 INFO sqlalchemy.engine.base.Engine INSERT INTO artist (name) VALUES (?)\n",
      "2018-07-13 16:18:08,452 INFO sqlalchemy.engine.base.Engine ('AKMU',)\n",
      "2018-07-13 16:18:08,461 INFO sqlalchemy.engine.base.Engine INSERT INTO album (title, artist_id) VALUES (?, ?)\n",
      "2018-07-13 16:18:08,467 INFO sqlalchemy.engine.base.Engine ('Last Fantasy', 1)\n",
      "2018-07-13 16:18:08,474 INFO sqlalchemy.engine.base.Engine INSERT INTO album (title, artist_id) VALUES (?, ?)\n",
      "2018-07-13 16:18:08,478 INFO sqlalchemy.engine.base.Engine ('CHAT-SHIRE', 1)\n",
      "2018-07-13 16:18:08,486 INFO sqlalchemy.engine.base.Engine COMMIT\n"
     ]
    }
   ],
   "source": [
    "session.commit()"
   ]
  },
  {
   "cell_type": "code",
   "execution_count": 16,
   "metadata": {},
   "outputs": [
    {
     "name": "stdout",
     "output_type": "stream",
     "text": [
      "2018-07-13 16:18:09,646 INFO sqlalchemy.engine.base.Engine BEGIN (implicit)\n",
      "2018-07-13 16:18:09,652 INFO sqlalchemy.engine.base.Engine SELECT artist.id_ AS artist_id_, artist.name AS artist_name \n",
      "FROM artist \n",
      "WHERE artist.id_ = ?\n",
      "2018-07-13 16:18:09,658 INFO sqlalchemy.engine.base.Engine (1,)\n",
      "2018-07-13 16:18:09,671 INFO sqlalchemy.engine.base.Engine SELECT album.id_ AS album_id_, album.title AS album_title, album.artist_id AS album_artist_id \n",
      "FROM album \n",
      "WHERE ? = album.artist_id\n",
      "2018-07-13 16:18:09,676 INFO sqlalchemy.engine.base.Engine (1,)\n",
      "1 IU 1 Last Fantasy\n"
     ]
    }
   ],
   "source": [
    "print(artist1.id_, artist1.name, artist1.album[0].id_, artist1.album[0].title)"
   ]
  },
  {
   "cell_type": "code",
   "execution_count": 17,
   "metadata": {
    "scrolled": false
   },
   "outputs": [
    {
     "data": {
      "text/plain": [
       "IdentitySet([])"
      ]
     },
     "execution_count": 17,
     "metadata": {},
     "output_type": "execute_result"
    }
   ],
   "source": [
    "session.dirty"
   ]
  },
  {
   "cell_type": "code",
   "execution_count": 18,
   "metadata": {},
   "outputs": [
    {
     "data": {
      "text/plain": [
       "IdentitySet([])"
      ]
     },
     "execution_count": 18,
     "metadata": {},
     "output_type": "execute_result"
    }
   ],
   "source": [
    "session.new"
   ]
  },
  {
   "cell_type": "code",
   "execution_count": 19,
   "metadata": {
    "collapsed": true
   },
   "outputs": [],
   "source": [
    "artist1.name = 'xyz'"
   ]
  },
  {
   "cell_type": "code",
   "execution_count": 20,
   "metadata": {
    "scrolled": false
   },
   "outputs": [
    {
     "data": {
      "text/plain": [
       "IdentitySet([<T' artist(name=xyz)>])"
      ]
     },
     "execution_count": 20,
     "metadata": {},
     "output_type": "execute_result"
    }
   ],
   "source": [
    "session.dirty # Collision이 일어날만한 "
   ]
  },
  {
   "cell_type": "code",
   "execution_count": 17,
   "metadata": {
    "collapsed": true
   },
   "outputs": [],
   "source": [
    "session.add_all([\n",
    "    Album(title = 'Pallete', artist_id = 1),\n",
    "    Album(title = 'Four Springs', artist_id = 2)\n",
    "])"
   ]
  },
  {
   "cell_type": "code",
   "execution_count": 18,
   "metadata": {
    "collapsed": true
   },
   "outputs": [],
   "source": [
    "session.add_all([\n",
    "    Genre(name = 'Duet'),\n",
    "    Genre(name = 'Solo')\n",
    "])"
   ]
  },
  {
   "cell_type": "code",
   "execution_count": 19,
   "metadata": {
    "collapsed": true
   },
   "outputs": [],
   "source": [
    "session.add_all([\n",
    "    Track(title = 'Pallete', album_id =1, genre_id =2),\n",
    "    Track(title = 'Way back home', album_id =2, genre_id =1)\n",
    "])"
   ]
  },
  {
   "cell_type": "code",
   "execution_count": 20,
   "metadata": {},
   "outputs": [
    {
     "data": {
      "text/plain": [
       "IdentitySet([<__main__.Album object at 0x0000003FD4B0D630>, <__main__.Album object at 0x0000003FD4B0D470>, <__main__.Genre object at 0x0000003FD4B0D4E0>, <__main__.Genre object at 0x0000003FD4B0D5F8>, <__main__.Track object at 0x0000003FD4B0DA90>, <__main__.Track object at 0x0000003FD4B0DB00>])"
      ]
     },
     "execution_count": 20,
     "metadata": {},
     "output_type": "execute_result"
    }
   ],
   "source": [
    "session.new # 아직 commit하지 않고 session에 쌓여있는 친구들"
   ]
  },
  {
   "cell_type": "code",
   "execution_count": 21,
   "metadata": {},
   "outputs": [
    {
     "name": "stdout",
     "output_type": "stream",
     "text": [
      "2018-07-13 16:18:19,590 INFO sqlalchemy.engine.base.Engine INSERT INTO album (title, artist_id) VALUES (?, ?)\n",
      "2018-07-13 16:18:19,597 INFO sqlalchemy.engine.base.Engine ('Pallete', 1)\n",
      "2018-07-13 16:18:19,607 INFO sqlalchemy.engine.base.Engine INSERT INTO album (title, artist_id) VALUES (?, ?)\n",
      "2018-07-13 16:18:19,611 INFO sqlalchemy.engine.base.Engine ('Four Springs', 2)\n",
      "2018-07-13 16:18:19,621 INFO sqlalchemy.engine.base.Engine INSERT INTO track (title, album_id, genre_id) VALUES (?, ?, ?)\n",
      "2018-07-13 16:18:19,626 INFO sqlalchemy.engine.base.Engine ('Pallete', 1, 2)\n",
      "2018-07-13 16:18:19,633 INFO sqlalchemy.engine.base.Engine INSERT INTO track (title, album_id, genre_id) VALUES (?, ?, ?)\n",
      "2018-07-13 16:18:19,638 INFO sqlalchemy.engine.base.Engine ('Way back home', 2, 1)\n",
      "2018-07-13 16:18:19,646 INFO sqlalchemy.engine.base.Engine INSERT INTO genre (name) VALUES (?)\n",
      "2018-07-13 16:18:19,651 INFO sqlalchemy.engine.base.Engine ('Duet',)\n",
      "2018-07-13 16:18:19,658 INFO sqlalchemy.engine.base.Engine INSERT INTO genre (name) VALUES (?)\n",
      "2018-07-13 16:18:19,663 INFO sqlalchemy.engine.base.Engine ('Solo',)\n",
      "2018-07-13 16:18:19,671 INFO sqlalchemy.engine.base.Engine COMMIT\n"
     ]
    }
   ],
   "source": [
    "session.commit() # commit 한 것을 보여줌"
   ]
  },
  {
   "cell_type": "code",
   "execution_count": 22,
   "metadata": {},
   "outputs": [
    {
     "name": "stdout",
     "output_type": "stream",
     "text": [
      "2018-07-13 16:18:22,390 INFO sqlalchemy.engine.base.Engine BEGIN (implicit)\n",
      "2018-07-13 16:18:22,395 INFO sqlalchemy.engine.base.Engine SELECT artist.id_ AS artist_id_, artist.name AS artist_name \n",
      "FROM artist\n",
      "2018-07-13 16:18:22,401 INFO sqlalchemy.engine.base.Engine ()\n",
      "IU\n",
      "AKMU\n"
     ]
    }
   ],
   "source": [
    "# select\n",
    "for i in session.query(Artist) :\n",
    "    print(i.name)"
   ]
  },
  {
   "cell_type": "code",
   "execution_count": 23,
   "metadata": {},
   "outputs": [
    {
     "name": "stdout",
     "output_type": "stream",
     "text": [
      "2018-07-13 16:18:23,316 INFO sqlalchemy.engine.base.Engine SELECT artist.id_ AS artist_id_, artist.name AS artist_name \n",
      "FROM artist \n",
      "WHERE artist.id_ = ?\n",
      "2018-07-13 16:18:23,322 INFO sqlalchemy.engine.base.Engine (2,)\n",
      "2 AKMU\n"
     ]
    }
   ],
   "source": [
    "# where -> filter\n",
    "for i in session.query(Artist).filter(Artist.id_==2) :\n",
    "    print(i.id_, i.name)"
   ]
  }
 ],
 "metadata": {
  "kernelspec": {
   "display_name": "Python 3",
   "language": "python",
   "name": "python3"
  },
  "language_info": {
   "codemirror_mode": {
    "name": "ipython",
    "version": 3
   },
   "file_extension": ".py",
   "mimetype": "text/x-python",
   "name": "python",
   "nbconvert_exporter": "python",
   "pygments_lexer": "ipython3",
   "version": "3.6.1"
  }
 },
 "nbformat": 4,
 "nbformat_minor": 2
}
