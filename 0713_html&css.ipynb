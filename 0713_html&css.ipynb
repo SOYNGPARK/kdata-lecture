{
 "cells": [
  {
   "cell_type": "markdown",
   "metadata": {},
   "source": [
    "# Week2 7월 13일 금요일 \n",
    "\n",
    "# HTML, CSS"
   ]
  },
  {
   "cell_type": "code",
   "execution_count": 5,
   "metadata": {},
   "outputs": [
    {
     "name": "stdout",
     "output_type": "stream",
     "text": [
      "Overwriting htmltest.html\n"
     ]
    }
   ],
   "source": [
    "%%writefile htmltest.html\n",
    "<!-- 기본구조 -->\n",
    "<!doctype html>\n",
    "<html lang = \"ko\"> \n",
    "    <head>\n",
    "        <meta charset = \"UTF-8\"/> \n",
    "        <title>예제</title>\n",
    "        <meta name ='viewport' content = 'width=device-width, initial-scale = 1.0'/>\n",
    "        <meta name ='keyword' content = '빅데이터, 데이터진흥원, 집가고싶다'/>\n",
    "        <script></script>\n",
    "        <style></style>\n",
    "    </head>  \n",
    "    <body>\n",
    "        <h1>Hello World!</h1>\n",
    "        <h2>Hello World!</h2>\n",
    "        <h3>Hello World!</h3>\n",
    "        <h4>Hello World!</h4>\n",
    "        <h5>Hello World!</h5>\n",
    "        <h6>Hello World!</h6>\n",
    "        <section>\n",
    "            <article>\n",
    "            <h1>제목</h1>\n",
    "            <p>\n",
    "                <img src='sample.png' usemap='#map'/>\n",
    "            </p>\n",
    "            <map name='map'>\n",
    "                <area shape='rect' coords=\"0,0,10,10\" alt=\"도움말\" href=\"http://www.naver.com\">\n",
    "                <area shape='rect' coords=\"10,10,20,20\" alt=\"도움말1\" href=\"http://www.naver.com\">\n",
    "                <area shape='rect' coords=\"20,20,30,30\" alt=\"도움말2\" href=\"http://www.naver.com\">\n",
    "            </map>\n",
    "            </article>\n",
    "            <article>\n",
    "            <h1>제목</h1>\n",
    "            <p>내용</p>\n",
    "            </article>\n",
    "            <article>\n",
    "            <h1>제목</h1>\n",
    "            <p>내용</p>\n",
    "            </article>\n",
    "        </section>\n",
    "         <section>\n",
    "            <article>\n",
    "            <h1>제목1</h1>\n",
    "            <pre>\n",
    "            눈에 보이는 대로\n",
    "            \n",
    "            보이는 대로~\n",
    "            </pre>\n",
    "            </article>\n",
    "            <article>\n",
    "            <h1>제목1</h1>\n",
    "            <p>\n",
    "                단락<br/><br/>=\"\\n\\n\"단락나누고싶다\n",
    "            </p>\n",
    "            </article>\n",
    "            <article>\n",
    "            <h1>제목1</h1>\n",
    "            <p>\n",
    "                <a href=\"http://www.naver.com\" target=\"_blank\">네이버</a>\n",
    "            </p>\n",
    "            </article>\n",
    "        </section>\n",
    "        <ul>\n",
    "            <li>리스트</li>\n",
    "            <li>리스트</li>\n",
    "            <li>리스트</li>\n",
    "        </ul>\n",
    "        <ol>\n",
    "            <li>리스트</li>\n",
    "            <li>리스트</li>\n",
    "            <li>리스트</li>\n",
    "        </ol>\n",
    "        <main>\n",
    "        <header>    \n",
    "        </header>\n",
    "        <nav>\n",
    "            <ul>\n",
    "                <li>Home</li>\n",
    "                <li>News</li>\n",
    "                <li>Contact</li>\n",
    "                <li>About</li>\n",
    "            </ul>\n",
    "        </nav>\n",
    "        <aside>\n",
    "            <section>\n",
    "                <h1>Ad</h1>\n",
    "                <p>Content</p>\n",
    "            </section>\n",
    "            <section>\n",
    "                <h1>Ad2</h1>\n",
    "                <p>Content</p>\n",
    "            </section>\n",
    "        </aside>\n",
    "        <section>\n",
    "            <article>\n",
    "                <h1>Title</h1>\n",
    "                <p>Content</p>\n",
    "            </article>\n",
    "            <article>\n",
    "                <h1>Title</h1>\n",
    "                 <section>\n",
    "                    <h1>Sub title</h1>\n",
    "                    <p>Sub content</p>\n",
    "                </section>\n",
    "                <section>\n",
    "                    <h1>Sub title2</h1>\n",
    "                    <p>Sub content2</p>\n",
    "                </section>\n",
    "            </article>\n",
    "        </section>\n",
    "        <footer>\n",
    "            footer\n",
    "        </footer>\n",
    "        </main>\n",
    "    </body>\n",
    "</html>"
   ]
  },
  {
   "cell_type": "markdown",
   "metadata": {},
   "source": [
    "* CSS 기본"
   ]
  },
  {
   "cell_type": "code",
   "execution_count": 2,
   "metadata": {},
   "outputs": [
    {
     "name": "stdout",
     "output_type": "stream",
     "text": [
      "Writing csstest.html\n"
     ]
    }
   ],
   "source": [
    "%%writefile csstest.html\n",
    "<!doctype html>\n",
    "<html>\n",
    "    <head>\n",
    "        <style>\n",
    "            div {border:1px solid #aaaaaa; background-color:rgba(255,0,0, .5);}\n",
    "            #id {background-color:rgba(0,0,255);}\n",
    "            div.class {background-color:yellow;}\n",
    "            p.class {color:green;}\n",
    "            div + p {text-align:center;}\n",
    "        </style>\n",
    "    </head>\n",
    "    <body>\n",
    "        <div id =\"id\">Content1</div>\n",
    "        <div class =\"class\">Content2</div>\n",
    "        <p class =\"class\">Content3</div>\n",
    "    </body>\n",
    "</html>"
   ]
  },
  {
   "cell_type": "markdown",
   "metadata": {},
   "source": [
    "* CSS position & dorp menu"
   ]
  },
  {
   "cell_type": "code",
   "execution_count": 3,
   "metadata": {},
   "outputs": [
    {
     "name": "stdout",
     "output_type": "stream",
     "text": [
      "Overwriting csstest.html\n"
     ]
    }
   ],
   "source": [
    "%%writefile csstest.html\n",
    "<!doctype html>\n",
    "<html>\n",
    "    <head>\n",
    "        <style>\n",
    "            div {border:1px solid #aaaaaa;}\n",
    "            #id1 {position:relative; height:50px; background-color:rgba(200,200,200, 0.2);}\n",
    "            #id2 {position:absolute; top:100px; left:200px;}\n",
    "            #id3 {position:fixed; top:100px; left:200px; text-align:center;}\n",
    "            #id1 > ul {position:absolute; top:50px; left:200px; border:1px solid #aaaaaa; display:none;}\n",
    "            #id1:hover > ul {display:block;}\n",
    "        </style>\n",
    "    </head>\n",
    "    <body>\n",
    "        <div id =\"id1\">Content1\n",
    "                 <ul>\n",
    "                     <li>메뉴1</li>\n",
    "                     <li>메뉴2</li>\n",
    "                 </ul>\n",
    "        </div>\n",
    "        <div id =\"id2\">Content2</div>\n",
    "        <div id =\"id3\">Content3</div>\n",
    "    </body>\n",
    "</html>"
   ]
  },
  {
   "cell_type": "markdown",
   "metadata": {},
   "source": [
    "* CSS 2단메뉴 with floating"
   ]
  },
  {
   "cell_type": "code",
   "execution_count": 4,
   "metadata": {},
   "outputs": [
    {
     "name": "stdout",
     "output_type": "stream",
     "text": [
      "Overwriting csstest.html\n"
     ]
    }
   ],
   "source": [
    "%%writefile csstest.html\n",
    "<!doctype html>\n",
    "<html>\n",
    "    <head>\n",
    "        <style>\n",
    "            div {border:1px solid #aaaaaa; width:800px; height:200px; opacticy:0.5; background-color:#aaaaaa;}\n",
    "            #div2 {width:200px; height:500px; float:left; background-color:red;}\n",
    "            #div3 {width:200px; height:500px; float:right; background-color:blue;}\n",
    "            #div4 {clear:both}\n",
    "            #div1 + div {clear:both; content:\"\"; display:table;}\n",
    "        </style>\n",
    "    </head>\n",
    "    <body>\n",
    "        <div id=\"div1\"> Header</div>\n",
    "        <div>\n",
    "            <div id=\"div2\"> Side</div>\n",
    "            <div id=\"div3\"> Content</div>\n",
    "        </div>\n",
    "        <div id=\"div4\"> Footer</div>\n",
    "    </body>\n",
    "</html>"
   ]
  },
  {
   "cell_type": "markdown",
   "metadata": {},
   "source": [
    "* 첫 번째 웹페이지"
   ]
  },
  {
   "cell_type": "code",
   "execution_count": 1,
   "metadata": {},
   "outputs": [
    {
     "name": "stdout",
     "output_type": "stream",
     "text": [
      "Writing myfirstweb.html\n"
     ]
    }
   ],
   "source": [
    "%%writefile myfirstweb.html\n",
    "<!doctype html>\n",
    "<html lang = \"ko\"> \n",
    "    <head>\n",
    "        <meta charset = \"UTF-8\"/> \n",
    "        <title>예제</title>\n",
    "        <meta name ='viewport' content = 'width=device-width, initial-scale = 1.0'/>\n",
    "        <meta name ='keyword' content = '빅데이터, 데이터진흥원, 집가고싶다'/>\n",
    "        <script>\n",
    "            var car = {\n",
    "                \"make\" : \"Volkswagon\",\n",
    "                \"year\" : 2013,\n",
    "                \"car1\" : {\n",
    "                    \"name\" : \"semi\",\n",
    "                    \"house\" : \"nowon\"\n",
    "                }\n",
    "            }\n",
    "            car.list = [\"a\", \"b\"]\n",
    "            console.log(car)\n",
    "        </script>\n",
    "        <style>\n",
    "            * {margin:0; padding:0;}\n",
    "            main {width:800px; margin:0 auto;}\n",
    "            header, footer {background-color:#f1f1f1; text-align:center;}\n",
    "            header > h1, footer > h1 {padding :20px;}\n",
    "            nav {background-color :#333; overflow:hidden;}\n",
    "            nav li {float:left; display:block; padding: 14px 16px; color:#f2f2f2; text-align:center;}\n",
    "            nav li:hover {background-color:#ddd; color:black;}\n",
    "            main > section {float:left; width:62%;}\n",
    "            main > aside {float:right; width:25%;}\n",
    "            main > section, main > aside {background-color:#aaa; margin-top:20px; padding:10px;}\n",
    "            article, section {background-color:white; padding:20px; margin:20px}\n",
    "            article > section {background-color:#12fa34;}\n",
    "            section > p {border:1px solid #000;}\n",
    "            .clearfix {clear:both; content:\"\";}\n",
    "        </style>\n",
    "    </head>  \n",
    "    <body>\n",
    "        <main>\n",
    "        <header>  \n",
    "            <h1>Header</h1>\n",
    "        </header>\n",
    "        <nav>\n",
    "            <ul>\n",
    "                <li>Home</li>\n",
    "                <li>News</li>\n",
    "                <li>Contact</li>\n",
    "                <li>About</li>\n",
    "            </ul>\n",
    "        </nav>\n",
    "        <aside>\n",
    "            <section>\n",
    "                <h1>Ad</h1>\n",
    "                <p>Content</p>\n",
    "            </section>\n",
    "            <section>\n",
    "                <h1>Ad2</h1>\n",
    "                <p>Content</p>\n",
    "            </section>\n",
    "        </aside>\n",
    "        <section>\n",
    "            <article>\n",
    "                <h1>Title</h1>\n",
    "                <p>Content</p>\n",
    "            </article>\n",
    "            <article>\n",
    "                <h1>Title</h1>\n",
    "                 <section>\n",
    "                    <h1>Sub title</h1>\n",
    "                    <p>Sub content</p>\n",
    "                </section>\n",
    "                <section>\n",
    "                    <h1>Sub title2</h1>\n",
    "                    <p>Sub content2</p>\n",
    "                </section>\n",
    "            </article>\n",
    "        </section>\n",
    "        <footer class=\"clearfix\">\n",
    "            <h1>footer</h1>\n",
    "        </footer>\n",
    "        </main>\n",
    "    </body>\n",
    "</html>"
   ]
  },
  {
   "cell_type": "code",
   "execution_count": null,
   "metadata": {
    "collapsed": true
   },
   "outputs": [],
   "source": []
  }
 ],
 "metadata": {
  "kernelspec": {
   "display_name": "Python 3",
   "language": "python",
   "name": "python3"
  },
  "language_info": {
   "codemirror_mode": {
    "name": "ipython",
    "version": 3
   },
   "file_extension": ".py",
   "mimetype": "text/x-python",
   "name": "python",
   "nbconvert_exporter": "python",
   "pygments_lexer": "ipython3",
   "version": "3.6.5"
  }
 },
 "nbformat": 4,
 "nbformat_minor": 2
}
