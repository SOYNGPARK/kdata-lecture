{
 "cells": [
  {
   "cell_type": "markdown",
   "metadata": {},
   "source": [
    "# Week1 7월 6일 금요일 \n",
    "\n",
    "# Python 객체지향 2 : Package"
   ]
  },
  {
   "cell_type": "code",
   "execution_count": 1,
   "metadata": {},
   "outputs": [
    {
     "name": "stdout",
     "output_type": "stream",
     "text": [
      "Interactive namespace is empty.\n"
     ]
    }
   ],
   "source": [
    "%whos"
   ]
  },
  {
   "cell_type": "code",
   "execution_count": 4,
   "metadata": {
    "collapsed": true
   },
   "outputs": [],
   "source": [
    "from keyword import * # keywords 라는 패키지에서 모두(*)가져온다 / __all__ 에 있는 거만 가져온다"
   ]
  },
  {
   "cell_type": "code",
   "execution_count": 5,
   "metadata": {},
   "outputs": [
    {
     "name": "stdout",
     "output_type": "stream",
     "text": [
      "Variable    Type                          Data/Info\n",
      "---------------------------------------------------\n",
      "iskeyword   builtin_function_or_method    <built-in method __contai<...>ct at 0x000000651E9A7828>\n",
      "kwlist      list                          n=33\n"
     ]
    }
   ],
   "source": [
    "%whos"
   ]
  },
  {
   "cell_type": "code",
   "execution_count": 19,
   "metadata": {},
   "outputs": [
    {
     "data": {
      "text/plain": [
       "['False',\n",
       " 'None',\n",
       " 'True',\n",
       " 'and',\n",
       " 'as',\n",
       " 'assert',\n",
       " 'break',\n",
       " 'class',\n",
       " 'continue',\n",
       " 'def',\n",
       " 'del',\n",
       " 'elif',\n",
       " 'else',\n",
       " 'except',\n",
       " 'finally',\n",
       " 'for',\n",
       " 'from',\n",
       " 'global',\n",
       " 'if',\n",
       " 'import',\n",
       " 'in',\n",
       " 'is',\n",
       " 'lambda',\n",
       " 'nonlocal',\n",
       " 'not',\n",
       " 'or',\n",
       " 'pass',\n",
       " 'raise',\n",
       " 'return',\n",
       " 'try',\n",
       " 'while',\n",
       " 'with',\n",
       " 'yield']"
      ]
     },
     "execution_count": 19,
     "metadata": {},
     "output_type": "execute_result"
    }
   ],
   "source": [
    "kwlist # from 하는 이유 : keyword.kwlist 로 접근하지 않아도 된다! 그냥 써도 된다 이제"
   ]
  },
  {
   "cell_type": "code",
   "execution_count": 16,
   "metadata": {
    "collapsed": true
   },
   "outputs": [],
   "source": [
    "import keyword"
   ]
  },
  {
   "cell_type": "code",
   "execution_count": 18,
   "metadata": {},
   "outputs": [
    {
     "data": {
      "text/plain": [
       "['iskeyword', 'kwlist']"
      ]
     },
     "execution_count": 18,
     "metadata": {},
     "output_type": "execute_result"
    }
   ],
   "source": [
    "keyword.__all__"
   ]
  },
  {
   "cell_type": "code",
   "execution_count": 21,
   "metadata": {
    "collapsed": true
   },
   "outputs": [],
   "source": [
    "from math import *"
   ]
  },
  {
   "cell_type": "code",
   "execution_count": 22,
   "metadata": {},
   "outputs": [
    {
     "name": "stdout",
     "output_type": "stream",
     "text": [
      "Variable    Type                          Data/Info\n",
      "---------------------------------------------------\n",
      "acos        builtin_function_or_method    <built-in function acos>\n",
      "acosh       builtin_function_or_method    <built-in function acosh>\n",
      "asin        builtin_function_or_method    <built-in function asin>\n",
      "asinh       builtin_function_or_method    <built-in function asinh>\n",
      "atan        builtin_function_or_method    <built-in function atan>\n",
      "atan2       builtin_function_or_method    <built-in function atan2>\n",
      "atanh       builtin_function_or_method    <built-in function atanh>\n",
      "ceil        builtin_function_or_method    <built-in function ceil>\n",
      "copysign    builtin_function_or_method    <built-in function copysign>\n",
      "cos         builtin_function_or_method    <built-in function cos>\n",
      "cosh        builtin_function_or_method    <built-in function cosh>\n",
      "degrees     builtin_function_or_method    <built-in function degrees>\n",
      "e           float                         2.718281828459045\n",
      "erf         builtin_function_or_method    <built-in function erf>\n",
      "erfc        builtin_function_or_method    <built-in function erfc>\n",
      "exp         builtin_function_or_method    <built-in function exp>\n",
      "expm1       builtin_function_or_method    <built-in function expm1>\n",
      "fabs        builtin_function_or_method    <built-in function fabs>\n",
      "factorial   builtin_function_or_method    <built-in function factorial>\n",
      "floor       builtin_function_or_method    <built-in function floor>\n",
      "fmod        builtin_function_or_method    <built-in function fmod>\n",
      "frexp       builtin_function_or_method    <built-in function frexp>\n",
      "fsum        builtin_function_or_method    <built-in function fsum>\n",
      "gamma       builtin_function_or_method    <built-in function gamma>\n",
      "gcd         builtin_function_or_method    <built-in function gcd>\n",
      "hypot       builtin_function_or_method    <built-in function hypot>\n",
      "inf         float                         inf\n",
      "isclose     builtin_function_or_method    <built-in function isclose>\n",
      "isfinite    builtin_function_or_method    <built-in function isfinite>\n",
      "isinf       builtin_function_or_method    <built-in function isinf>\n",
      "iskeyword   builtin_function_or_method    <built-in method __contai<...>ct at 0x000000651E9A7828>\n",
      "isnan       builtin_function_or_method    <built-in function isnan>\n",
      "keyword     module                        <module 'keyword' from 'C<...>conda3\\\\lib\\\\keyword.py'>\n",
      "kwlist      list                          n=33\n",
      "ldexp       builtin_function_or_method    <built-in function ldexp>\n",
      "lgamma      builtin_function_or_method    <built-in function lgamma>\n",
      "log         builtin_function_or_method    <built-in function log>\n",
      "log10       builtin_function_or_method    <built-in function log10>\n",
      "log1p       builtin_function_or_method    <built-in function log1p>\n",
      "log2        builtin_function_or_method    <built-in function log2>\n",
      "modf        builtin_function_or_method    <built-in function modf>\n",
      "nan         float                         nan\n",
      "pi          float                         3.141592653589793\n",
      "pow         builtin_function_or_method    <built-in function pow>\n",
      "radians     builtin_function_or_method    <built-in function radians>\n",
      "sin         builtin_function_or_method    <built-in function sin>\n",
      "sinh        builtin_function_or_method    <built-in function sinh>\n",
      "sqrt        builtin_function_or_method    <built-in function sqrt>\n",
      "tan         builtin_function_or_method    <built-in function tan>\n",
      "tanh        builtin_function_or_method    <built-in function tanh>\n",
      "tau         float                         6.283185307179586\n",
      "trunc       builtin_function_or_method    <built-in function trunc>\n"
     ]
    }
   ],
   "source": [
    "%whos"
   ]
  },
  {
   "cell_type": "code",
   "execution_count": 23,
   "metadata": {
    "collapsed": true
   },
   "outputs": [],
   "source": [
    "from numpy import pi"
   ]
  },
  {
   "cell_type": "code",
   "execution_count": 24,
   "metadata": {},
   "outputs": [
    {
     "data": {
      "text/plain": [
       "3.141592653589793"
      ]
     },
     "execution_count": 24,
     "metadata": {},
     "output_type": "execute_result"
    }
   ],
   "source": [
    "pi"
   ]
  },
  {
   "cell_type": "code",
   "execution_count": 25,
   "metadata": {
    "collapsed": true
   },
   "outputs": [],
   "source": [
    "from numpy import pi as np_pi # as를 쓰는 이유 : as를 이용해서 이름 맘대로 바꾼다 (자주 쓰는 애들)"
   ]
  },
  {
   "cell_type": "code",
   "execution_count": 26,
   "metadata": {},
   "outputs": [
    {
     "data": {
      "text/plain": [
       "3.141592653589793"
      ]
     },
     "execution_count": 26,
     "metadata": {},
     "output_type": "execute_result"
    }
   ],
   "source": [
    "np_pi"
   ]
  }
 ],
 "metadata": {
  "kernelspec": {
   "display_name": "Python 3",
   "language": "python",
   "name": "python3"
  },
  "language_info": {
   "codemirror_mode": {
    "name": "ipython",
    "version": 3
   },
   "file_extension": ".py",
   "mimetype": "text/x-python",
   "name": "python",
   "nbconvert_exporter": "python",
   "pygments_lexer": "ipython3",
   "version": "3.6.1"
  }
 },
 "nbformat": 4,
 "nbformat_minor": 2
}
