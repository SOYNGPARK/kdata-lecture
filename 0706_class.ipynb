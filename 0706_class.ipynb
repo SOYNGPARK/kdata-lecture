{
 "cells": [
  {
   "cell_type": "markdown",
   "metadata": {},
   "source": [
    "## Class and Object"
   ]
  },
  {
   "cell_type": "code",
   "execution_count": 64,
   "metadata": {
    "collapsed": true
   },
   "outputs": [],
   "source": [
    "class Parrot:\n",
    "\n",
    "    # class attribute : self 없이 생성, 모든 인스턴스에서 같은 값을 가짐\n",
    "    species = \"bird\"\n",
    "\n",
    "    # instance attribute : self가 붙어있는애, instance.XX 이렇게 만든애, 각 인스턴스마다 값이 다름\n",
    "    def __init__(self, name, age): # self 빼고 인자 2개 받아서 인스턴스화\n",
    "        self.name = name # 어튜리뷰트가 추가됨 -> 총 어튜리뷰트(멤버 변수) 3개!\n",
    "        self.age = age"
   ]
  },
  {
   "cell_type": "code",
   "execution_count": 31,
   "metadata": {
    "collapsed": true
   },
   "outputs": [],
   "source": [
    "# instantiate the Parrot class\n",
    "blu = Parrot(\"Blu\", 10)\n",
    "woo = Parrot(\"Woo\", 15)"
   ]
  },
  {
   "cell_type": "code",
   "execution_count": 32,
   "metadata": {},
   "outputs": [
    {
     "data": {
      "text/plain": [
       "type"
      ]
     },
     "execution_count": 32,
     "metadata": {},
     "output_type": "execute_result"
    }
   ],
   "source": [
    "type(Parrot) # class"
   ]
  },
  {
   "cell_type": "code",
   "execution_count": 33,
   "metadata": {},
   "outputs": [
    {
     "data": {
      "text/plain": [
       "__main__.Parrot"
      ]
     },
     "execution_count": 33,
     "metadata": {},
     "output_type": "execute_result"
    }
   ],
   "source": [
    "type(blu) # instance"
   ]
  },
  {
   "cell_type": "markdown",
   "metadata": {},
   "source": [
    "\\_\\_main\\_\\_ : 현재 작업하고 있는 공간"
   ]
  },
  {
   "cell_type": "code",
   "execution_count": 34,
   "metadata": {},
   "outputs": [
    {
     "data": {
      "text/plain": [
       "['__class__',\n",
       " '__delattr__',\n",
       " '__dict__',\n",
       " '__dir__',\n",
       " '__doc__',\n",
       " '__eq__',\n",
       " '__format__',\n",
       " '__ge__',\n",
       " '__getattribute__',\n",
       " '__gt__',\n",
       " '__hash__',\n",
       " '__init__',\n",
       " '__init_subclass__',\n",
       " '__le__',\n",
       " '__lt__',\n",
       " '__module__',\n",
       " '__ne__',\n",
       " '__new__',\n",
       " '__reduce__',\n",
       " '__reduce_ex__',\n",
       " '__repr__',\n",
       " '__setattr__',\n",
       " '__sizeof__',\n",
       " '__str__',\n",
       " '__subclasshook__',\n",
       " '__weakref__',\n",
       " 'age',\n",
       " 'name',\n",
       " 'species']"
      ]
     },
     "execution_count": 34,
     "metadata": {},
     "output_type": "execute_result"
    }
   ],
   "source": [
    "dir(blu)"
   ]
  },
  {
   "cell_type": "code",
   "execution_count": 35,
   "metadata": {},
   "outputs": [
    {
     "data": {
      "text/plain": [
       "{'age': 10, 'name': 'Blu'}"
      ]
     },
     "execution_count": 35,
     "metadata": {},
     "output_type": "execute_result"
    }
   ],
   "source": [
    "vars(blu) # instance attributes만 출력"
   ]
  },
  {
   "cell_type": "code",
   "execution_count": 36,
   "metadata": {},
   "outputs": [
    {
     "data": {
      "text/plain": [
       "{'age': 10, 'name': 'Blu'}"
      ]
     },
     "execution_count": 36,
     "metadata": {},
     "output_type": "execute_result"
    }
   ],
   "source": [
    "blu.__dict__"
   ]
  },
  {
   "cell_type": "code",
   "execution_count": 37,
   "metadata": {
    "collapsed": true
   },
   "outputs": [],
   "source": [
    "blu.species = 'bird2' "
   ]
  },
  {
   "cell_type": "code",
   "execution_count": 38,
   "metadata": {},
   "outputs": [
    {
     "data": {
      "text/plain": [
       "{'age': 10, 'name': 'Blu', 'species': 'bird2'}"
      ]
     },
     "execution_count": 38,
     "metadata": {},
     "output_type": "execute_result"
    }
   ],
   "source": [
    "vars(blu)"
   ]
  },
  {
   "cell_type": "code",
   "execution_count": 42,
   "metadata": {},
   "outputs": [
    {
     "data": {
      "text/plain": [
       "{'age': 10, 'name': 'Blu', 'species': 'bird2'}"
      ]
     },
     "execution_count": 42,
     "metadata": {},
     "output_type": "execute_result"
    }
   ],
   "source": [
    "blu.__dict__"
   ]
  },
  {
   "cell_type": "code",
   "execution_count": 44,
   "metadata": {},
   "outputs": [
    {
     "data": {
      "text/plain": [
       "'bird2'"
      ]
     },
     "execution_count": 44,
     "metadata": {},
     "output_type": "execute_result"
    }
   ],
   "source": [
    "blu.species # class attr 를 덮어쓴게 아닌 instance attr"
   ]
  },
  {
   "cell_type": "code",
   "execution_count": 40,
   "metadata": {},
   "outputs": [
    {
     "data": {
      "text/plain": [
       "'bird'"
      ]
     },
     "execution_count": 40,
     "metadata": {},
     "output_type": "execute_result"
    }
   ],
   "source": [
    "woo.species"
   ]
  },
  {
   "cell_type": "code",
   "execution_count": 41,
   "metadata": {},
   "outputs": [
    {
     "data": {
      "text/plain": [
       "{'age': 15, 'name': 'Woo'}"
      ]
     },
     "execution_count": 41,
     "metadata": {},
     "output_type": "execute_result"
    }
   ],
   "source": [
    "woo.__dict__"
   ]
  },
  {
   "cell_type": "code",
   "execution_count": 45,
   "metadata": {},
   "outputs": [
    {
     "ename": "AttributeError",
     "evalue": "type object 'Parrot' has no attribute 'name'",
     "output_type": "error",
     "traceback": [
      "\u001b[1;31m---------------------------------------------------------------------------\u001b[0m",
      "\u001b[1;31mAttributeError\u001b[0m                            Traceback (most recent call last)",
      "\u001b[1;32m<ipython-input-45-ad4cebddc1a6>\u001b[0m in \u001b[0;36m<module>\u001b[1;34m()\u001b[0m\n\u001b[1;32m----> 1\u001b[1;33m \u001b[0mParrot\u001b[0m\u001b[1;33m.\u001b[0m\u001b[0mname\u001b[0m\u001b[1;33m\u001b[0m\u001b[0m\n\u001b[0m",
      "\u001b[1;31mAttributeError\u001b[0m: type object 'Parrot' has no attribute 'name'"
     ]
    }
   ],
   "source": [
    "Parrot.name"
   ]
  },
  {
   "cell_type": "markdown",
   "metadata": {},
   "source": [
    "Python은 class도 object이다. instance도 object인데.. \n",
    "\n",
    "java의 static 변수라고 보면됨\n",
    "\n",
    "차이점은 모든 곳에서 공유되는 값이 아니다.."
   ]
  },
  {
   "cell_type": "code",
   "execution_count": 46,
   "metadata": {},
   "outputs": [
    {
     "name": "stdout",
     "output_type": "stream",
     "text": [
      "Blu is a bird\n",
      "Woo is also a bird\n",
      "Blu is 10 years old\n",
      "Woo is 15 years old\n"
     ]
    }
   ],
   "source": [
    "# access the class attributes\n",
    "print(\"Blu is a {}\".format(blu.__class__.species))\n",
    "print(\"Woo is also a {}\".format(woo.__class__.species))\n",
    "\n",
    "# access the instance attributes\n",
    "print(\"{} is {} years old\".format( blu.name, blu.age))\n",
    "print(\"{} is {} years old\".format( woo.name, woo.age))"
   ]
  },
  {
   "cell_type": "markdown",
   "metadata": {},
   "source": [
    "우리 아까 blu의 species 바꿨는데도 그냥 bird로 나왔넹?"
   ]
  },
  {
   "cell_type": "code",
   "execution_count": 47,
   "metadata": {
    "collapsed": true
   },
   "outputs": [],
   "source": [
    "amy = Parrot('amy', '2')"
   ]
  },
  {
   "cell_type": "code",
   "execution_count": 48,
   "metadata": {},
   "outputs": [
    {
     "data": {
      "text/plain": [
       "{'age': '2', 'name': 'amy'}"
      ]
     },
     "execution_count": 48,
     "metadata": {},
     "output_type": "execute_result"
    }
   ],
   "source": [
    "vars(amy)"
   ]
  },
  {
   "cell_type": "code",
   "execution_count": 49,
   "metadata": {},
   "outputs": [
    {
     "data": {
      "text/plain": [
       "'bird'"
      ]
     },
     "execution_count": 49,
     "metadata": {},
     "output_type": "execute_result"
    }
   ],
   "source": [
    "amy.species"
   ]
  },
  {
   "cell_type": "code",
   "execution_count": 51,
   "metadata": {
    "collapsed": true
   },
   "outputs": [],
   "source": [
    "amy.species = 'bird2'"
   ]
  },
  {
   "cell_type": "code",
   "execution_count": 55,
   "metadata": {},
   "outputs": [
    {
     "data": {
      "text/plain": [
       "'bird2'"
      ]
     },
     "execution_count": 55,
     "metadata": {},
     "output_type": "execute_result"
    }
   ],
   "source": [
    "amy.species # 인스턴스 어트리뷰트!! 하지만 클래스 어튜리뷰트 없어지지 않았어 거기에 접근하고 싶으면? (이런짓하지말고 이름 다르게하기)"
   ]
  },
  {
   "cell_type": "code",
   "execution_count": 54,
   "metadata": {},
   "outputs": [
    {
     "data": {
      "text/plain": [
       "'bird'"
      ]
     },
     "execution_count": 54,
     "metadata": {},
     "output_type": "execute_result"
    }
   ],
   "source": [
    "amy.__class__.species # 클래스 어트리뷰트!"
   ]
  },
  {
   "cell_type": "code",
   "execution_count": 57,
   "metadata": {},
   "outputs": [
    {
     "data": {
      "text/plain": [
       "__main__.Parrot"
      ]
     },
     "execution_count": 57,
     "metadata": {},
     "output_type": "execute_result"
    }
   ],
   "source": [
    "amy.__class__ # instance의 type"
   ]
  },
  {
   "cell_type": "code",
   "execution_count": 58,
   "metadata": {},
   "outputs": [
    {
     "data": {
      "text/plain": [
       "__main__.Parrot"
      ]
     },
     "execution_count": 58,
     "metadata": {},
     "output_type": "execute_result"
    }
   ],
   "source": [
    "type(amy)"
   ]
  },
  {
   "cell_type": "markdown",
   "metadata": {},
   "source": [
    "## Methods"
   ]
  },
  {
   "cell_type": "code",
   "execution_count": 75,
   "metadata": {},
   "outputs": [
    {
     "name": "stdout",
     "output_type": "stream",
     "text": [
      "Blu sings 'Happy'\n",
      "Blu is now dancing\n"
     ]
    }
   ],
   "source": [
    "class Parrot:\n",
    "    \n",
    "    # instance attributes\n",
    "    def __init__(self, name, age): \n",
    "        self.name = name\n",
    "        self.age = age\n",
    "    \n",
    "    # instance method\n",
    "    def sing(self, song):\n",
    "        return \"{} sings {}\".format(self.name, song)\n",
    "\n",
    "    def dance(self):\n",
    "        return \"{} is now dancing\".format(self.name)\n",
    "    \n",
    "    # class method\n",
    "    @classmethod # decorater\n",
    "    def talk(cls) :\n",
    "        return \"is now talking\"\n",
    "        \n",
    "\n",
    "# instantiate the object\n",
    "blu = Parrot(\"Blu\", 10)\n",
    "\n",
    "# call our instance methods\n",
    "print(blu.sing(\"'Happy'\"))\n",
    "print(blu.dance())"
   ]
  },
  {
   "cell_type": "markdown",
   "metadata": {},
   "source": [
    "메소드의 첫번째 인자는 self는 자기자신을 가리킨다\n",
    "\n",
    "꼭 이름이 self일필요는 없지만 convention이다\n",
    "\n",
    "자바의 this 이다"
   ]
  },
  {
   "cell_type": "code",
   "execution_count": 67,
   "metadata": {},
   "outputs": [
    {
     "data": {
      "text/plain": [
       "'amy sings lalala'"
      ]
     },
     "execution_count": 67,
     "metadata": {},
     "output_type": "execute_result"
    }
   ],
   "source": [
    "Parrot.sing(amy,'lalala')"
   ]
  },
  {
   "cell_type": "code",
   "execution_count": 71,
   "metadata": {
    "scrolled": true
   },
   "outputs": [
    {
     "ename": "AttributeError",
     "evalue": "'Parrot' object has no attribute 'sing'",
     "output_type": "error",
     "traceback": [
      "\u001b[1;31m---------------------------------------------------------------------------\u001b[0m",
      "\u001b[1;31mAttributeError\u001b[0m                            Traceback (most recent call last)",
      "\u001b[1;32m<ipython-input-71-fa61920f78ac>\u001b[0m in \u001b[0;36m<module>\u001b[1;34m()\u001b[0m\n\u001b[1;32m----> 1\u001b[1;33m \u001b[0mamy\u001b[0m\u001b[1;33m.\u001b[0m\u001b[0msing\u001b[0m\u001b[1;33m(\u001b[0m\u001b[1;34m'lalala'\u001b[0m\u001b[1;33m)\u001b[0m\u001b[1;33m\u001b[0m\u001b[0m\n\u001b[0m",
      "\u001b[1;31mAttributeError\u001b[0m: 'Parrot' object has no attribute 'sing'"
     ]
    }
   ],
   "source": [
    "amy.sing('lalala') # 붕어빵 다 만들고 틀 바꾸는 격"
   ]
  },
  {
   "cell_type": "code",
   "execution_count": 72,
   "metadata": {
    "collapsed": true
   },
   "outputs": [],
   "source": [
    "ben = Parrot('ben', 5) "
   ]
  },
  {
   "cell_type": "code",
   "execution_count": 73,
   "metadata": {},
   "outputs": [
    {
     "data": {
      "text/plain": [
       "'ben is now dancing'"
      ]
     },
     "execution_count": 73,
     "metadata": {},
     "output_type": "execute_result"
    }
   ],
   "source": [
    "Parrot.dance(ben) "
   ]
  },
  {
   "cell_type": "code",
   "execution_count": 74,
   "metadata": {},
   "outputs": [
    {
     "data": {
      "text/plain": [
       "'ben is now dancing'"
      ]
     },
     "execution_count": 74,
     "metadata": {},
     "output_type": "execute_result"
    }
   ],
   "source": [
    "ben.dance() # 첫번째 인자(self) 생략"
   ]
  },
  {
   "cell_type": "code",
   "execution_count": 77,
   "metadata": {
    "collapsed": true
   },
   "outputs": [],
   "source": [
    "sun = Parrot('sun', 6)"
   ]
  },
  {
   "cell_type": "code",
   "execution_count": 78,
   "metadata": {},
   "outputs": [
    {
     "data": {
      "text/plain": [
       "'is now talking'"
      ]
     },
     "execution_count": 78,
     "metadata": {},
     "output_type": "execute_result"
    }
   ],
   "source": [
    "Parrot.talk() # 클래스 메소드 사용 -> 클래스가 쓰는 메소드"
   ]
  },
  {
   "cell_type": "code",
   "execution_count": 79,
   "metadata": {},
   "outputs": [
    {
     "data": {
      "text/plain": [
       "'is now talking'"
      ]
     },
     "execution_count": 79,
     "metadata": {},
     "output_type": "execute_result"
    }
   ],
   "source": [
    "sun.__class__.talk() # 인스턴스가 클래스 메소드 사용하려면 이렇게"
   ]
  },
  {
   "cell_type": "markdown",
   "metadata": {},
   "source": [
    "## Inheritance"
   ]
  },
  {
   "cell_type": "code",
   "execution_count": 2,
   "metadata": {
    "collapsed": true
   },
   "outputs": [],
   "source": [
    "# parent class\n",
    "class Bird:\n",
    "    \n",
    "    def __init__(self):\n",
    "        print(\"Bird is ready\")\n",
    "\n",
    "    def whoisThis(self):\n",
    "        print(\"Bird\")\n",
    "\n",
    "    def swim(self):\n",
    "        print(\"Swim faster\")"
   ]
  },
  {
   "cell_type": "code",
   "execution_count": 32,
   "metadata": {},
   "outputs": [
    {
     "data": {
      "text/plain": [
       "'\\n    def whoisThis(self):\\n        print(\"Penguin\")\\n'"
      ]
     },
     "execution_count": 32,
     "metadata": {},
     "output_type": "execute_result"
    }
   ],
   "source": [
    "# child class\n",
    "class Penguin(Bird): # 상속받는 법\n",
    "    pass\n",
    "\n",
    "    def swim(self): # Overriding\n",
    "        print('I can\\'t swin')\n",
    "\n",
    "    def run(self):\n",
    "        print(\"Run faster\")\n",
    "\n",
    "    def __init__(self):\n",
    "        # call super() function\n",
    "        super().__init__() # 다중상속 때문에 누구한테 super 받을지 결정 super(Penguin, self)\n",
    "        print(\"Penguin is ready\")\n",
    "'''\n",
    "    def whoisThis(self):\n",
    "        print(\"Penguin\")\n",
    "'''\n",
    "    \n"
   ]
  },
  {
   "cell_type": "markdown",
   "metadata": {},
   "source": [
    "super() : 파라미터 많은데... 이해 못함.."
   ]
  },
  {
   "cell_type": "code",
   "execution_count": 33,
   "metadata": {},
   "outputs": [
    {
     "name": "stdout",
     "output_type": "stream",
     "text": [
      "Bird is ready\n",
      "Penguin is ready\n",
      "Bird\n",
      "I can't swin\n",
      "Run faster\n"
     ]
    }
   ],
   "source": [
    "peggy = Penguin()\n",
    "peggy.whoisThis()\n",
    "peggy.swim()\n",
    "peggy.run()"
   ]
  },
  {
   "cell_type": "markdown",
   "metadata": {},
   "source": [
    "상속 - 다중 상속(C++), 단일 상속(자바)\n",
    "\n",
    "파이썬은 다중 상속을 지원한다(\\_\\_mro\\_\\_ : 부모클래스의 우선순위 정함)\n",
    "\n",
    "하지만 가능한 다중 상속 쓰지마라\n",
    "\n",
    "상속 : 부모한테 없는 걸 추가하거나 있는 걸 바꿀수있다(overriding)\n",
    "\n",
    "클래스의 재사용"
   ]
  },
  {
   "cell_type": "code",
   "execution_count": 4,
   "metadata": {},
   "outputs": [
    {
     "data": {
      "text/plain": [
       "['__class__',\n",
       " '__delattr__',\n",
       " '__dict__',\n",
       " '__dir__',\n",
       " '__doc__',\n",
       " '__eq__',\n",
       " '__format__',\n",
       " '__ge__',\n",
       " '__getattribute__',\n",
       " '__gt__',\n",
       " '__hash__',\n",
       " '__init__',\n",
       " '__init_subclass__',\n",
       " '__le__',\n",
       " '__lt__',\n",
       " '__module__',\n",
       " '__ne__',\n",
       " '__new__',\n",
       " '__reduce__',\n",
       " '__reduce_ex__',\n",
       " '__repr__',\n",
       " '__setattr__',\n",
       " '__sizeof__',\n",
       " '__str__',\n",
       " '__subclasshook__',\n",
       " '__weakref__',\n",
       " 'swim',\n",
       " 'whoisThis']"
      ]
     },
     "execution_count": 4,
     "metadata": {},
     "output_type": "execute_result"
    }
   ],
   "source": [
    "dir(Penguin)"
   ]
  },
  {
   "cell_type": "markdown",
   "metadata": {},
   "source": [
    "## Encapsulation"
   ]
  },
  {
   "cell_type": "code",
   "execution_count": 4,
   "metadata": {},
   "outputs": [
    {
     "name": "stdout",
     "output_type": "stream",
     "text": [
      "Selling Price: 900\n",
      "Selling Price: 900\n",
      "Selling Price: 1000\n"
     ]
    }
   ],
   "source": [
    "class Computer:\n",
    "\n",
    "    def __init__(self):\n",
    "        self.__maxprice = 900\n",
    "\n",
    "    def sell(self):\n",
    "        print(\"Selling Price: {}\".format(self.__maxprice))\n",
    "\n",
    "    def setMaxPrice(self, price):\n",
    "        self.__maxprice = price # private\n",
    "\n",
    "c = Computer()\n",
    "c.sell()\n",
    "\n",
    "# change the price\n",
    "c.__maxprice = 1000\n",
    "c.sell()\n",
    "\n",
    "# using setter function\n",
    "c.setMaxPrice(1000)\n",
    "c.sell()"
   ]
  },
  {
   "cell_type": "code",
   "execution_count": 34,
   "metadata": {},
   "outputs": [
    {
     "data": {
      "text/plain": [
       "['Bird',\n",
       " 'In',\n",
       " 'Out',\n",
       " 'Penguin',\n",
       " '_',\n",
       " '_11',\n",
       " '_13',\n",
       " '_15',\n",
       " '_17',\n",
       " '_19',\n",
       " '_21',\n",
       " '_23',\n",
       " '_25',\n",
       " '_27',\n",
       " '_28',\n",
       " '_30',\n",
       " '_32',\n",
       " '_4',\n",
       " '_6',\n",
       " '_9',\n",
       " '__',\n",
       " '___',\n",
       " '__builtin__',\n",
       " '__builtins__',\n",
       " '__doc__',\n",
       " '__loader__',\n",
       " '__name__',\n",
       " '__package__',\n",
       " '__spec__',\n",
       " '_dh',\n",
       " '_i',\n",
       " '_i1',\n",
       " '_i10',\n",
       " '_i11',\n",
       " '_i12',\n",
       " '_i13',\n",
       " '_i14',\n",
       " '_i15',\n",
       " '_i16',\n",
       " '_i17',\n",
       " '_i18',\n",
       " '_i19',\n",
       " '_i2',\n",
       " '_i20',\n",
       " '_i21',\n",
       " '_i22',\n",
       " '_i23',\n",
       " '_i24',\n",
       " '_i25',\n",
       " '_i26',\n",
       " '_i27',\n",
       " '_i28',\n",
       " '_i29',\n",
       " '_i3',\n",
       " '_i30',\n",
       " '_i31',\n",
       " '_i32',\n",
       " '_i33',\n",
       " '_i34',\n",
       " '_i4',\n",
       " '_i5',\n",
       " '_i6',\n",
       " '_i7',\n",
       " '_i8',\n",
       " '_i9',\n",
       " '_ih',\n",
       " '_ii',\n",
       " '_iii',\n",
       " '_oh',\n",
       " '_sh',\n",
       " 'exit',\n",
       " 'get_ipython',\n",
       " 'peggy',\n",
       " 'quit']"
      ]
     },
     "execution_count": 34,
     "metadata": {},
     "output_type": "execute_result"
    }
   ],
   "source": [
    "dir() # 모든 저장된 값 출력 ipython에서만 됨"
   ]
  },
  {
   "cell_type": "code",
   "execution_count": 35,
   "metadata": {},
   "outputs": [
    {
     "data": {
      "text/plain": [
       "{'Bird': __main__.Bird,\n",
       " 'In': ['',\n",
       "  '상속 - 다중 상속(C++), 단일 상속(자바)\\n\\n파이썬은 다중 상속을 지원한다\\n\\n하지만 가능한 다중 상속 쓰지마라',\n",
       "  '# parent class\\nclass Bird:\\n    \\n    def __init__(self):\\n        print(\"Bird is ready\")\\n\\n    def whoisThis(self):\\n        print(\"Bird\")\\n\\n    def swim(self):\\n        print(\"Swim faster\")',\n",
       "  '# child class\\nclass Penguin(Bird): # 상속받는 법\\n    pass\\n\\n\\'\\'\\'\\n    def __init__(self):\\n        # call super() function\\n        super().__init__()\\n        print(\"Penguin is ready\")\\n\\n    def whoisThis(self):\\n        print(\"Penguin\")\\n\\n    def run(self):\\n        print(\"Run faster\")\\n\\'\\'\\'\\npeggy = Penguin()\\npeggy.whoisThis()\\npeggy.swim()\\npeggy.run()',\n",
       "  'dir(Penguin)',\n",
       "  'peggy = Penguin()\\npeggy.whoisThis()\\npeggy.swim()\\n# peggy.run()',\n",
       "  '# child class\\nclass Penguin(Bird): # 상속받는 법\\n    pass\\n\\n    def swim(self):\\n        print(\\'I can\\\\\\'t swin\\')\\n\\n\\'\\'\\'\\n    def __init__(self):\\n        # call super() function\\n        super().__init__()\\n        print(\"Penguin is ready\")\\n\\n    def whoisThis(self):\\n        print(\"Penguin\")\\n\\n    def run(self):\\n        print(\"Run faster\")\\n\\'\\'\\'',\n",
       "  'peggy = Penguin()\\npeggy.whoisThis()\\npeggy.swim()\\n# peggy.run()',\n",
       "  '# child class\\nclass Penguin(Bird): # 상속받는 법\\n    pass\\n\\n    def swim(self): # Overriding\\n        print(\\'I can\\\\\\'t swin\\')\\n\\n\\'\\'\\'\\n    def __init__(self):\\n        # call super() function\\n        super().__init__()\\n        print(\"Penguin is ready\")\\n\\n    def whoisThis(self):\\n        print(\"Penguin\")\\n\\'\\'\\'\\n    def run(self):\\n        print(\"Run faster\")',\n",
       "  '# child class\\nclass Penguin(Bird): # 상속받는 법\\n    pass\\n\\n    def swim(self): # Overriding\\n        print(\\'I can\\\\\\'t swin\\')\\n\\n    def run(self):\\n        print(\"Run faster\")\\n\\'\\'\\'\\n    def __init__(self):\\n        # call super() function\\n        super().__init__()\\n        print(\"Penguin is ready\")\\n\\n    def whoisThis(self):\\n        print(\"Penguin\")\\n\\'\\'\\'\\n    ',\n",
       "  'peggy = Penguin()\\npeggy.whoisThis()\\npeggy.swim()\\npeggy.run()',\n",
       "  '# child class\\nclass Penguin(Bird): # 상속받는 법\\n    pass\\n\\n    def swim(self): # Overriding\\n        print(\\'I can\\\\\\'t swin\\')\\n\\n    def run(self):\\n        print(\"Run faster\")\\n\\n    def __init__(self):\\n        # call super() function\\n        #super().__init__()\\n        print(\"Penguin is ready\")\\n\\'\\'\\'\\n    def whoisThis(self):\\n        print(\"Penguin\")\\n\\'\\'\\'\\n    ',\n",
       "  'peggy = Penguin()\\npeggy.whoisThis()\\npeggy.swim()\\npeggy.run()',\n",
       "  '# child class\\nclass Penguin(Bird): # 상속받는 법\\n    pass\\n\\n    def swim(self): # Overriding\\n        print(\\'I can\\\\\\'t swin\\')\\n\\n    def run(self):\\n        print(\"Run faster\")\\n\\n    def __init__(self):\\n        # call super() function\\n        super().__init__()\\n        print(\"Penguin is ready\")\\n\\'\\'\\'\\n    def whoisThis(self):\\n        print(\"Penguin\")\\n\\'\\'\\'\\n    ',\n",
       "  'peggy = Penguin()\\npeggy.whoisThis()\\npeggy.swim()\\npeggy.run()',\n",
       "  '# child class\\nclass Penguin(Bird): # 상속받는 법\\n    pass\\n\\n    def swim(self): # Overriding\\n        print(\\'I can\\\\\\'t swin\\')\\n\\n    def run(self):\\n        print(\"Run faster\")\\n\\n    def __init__(self):\\n        # call super() function\\n        super(self).__init__()\\n        print(\"Penguin is ready\")\\n\\'\\'\\'\\n    def whoisThis(self):\\n        print(\"Penguin\")\\n\\'\\'\\'\\n    ',\n",
       "  'peggy = Penguin()\\npeggy.whoisThis()\\npeggy.swim()\\npeggy.run()',\n",
       "  '# child class\\nclass Penguin(Bird): # 상속받는 법\\n    pass\\n\\n    def swim(self): # Overriding\\n        print(\\'I can\\\\\\'t swin\\')\\n\\n    def run(self):\\n        print(\"Run faster\")\\n\\n    def __init__(self):\\n        # call super() function\\n        super(Bird).__init__()\\n        print(\"Penguin is ready\")\\n\\'\\'\\'\\n    def whoisThis(self):\\n        print(\"Penguin\")\\n\\'\\'\\'\\n    ',\n",
       "  'peggy = Penguin()\\npeggy.whoisThis()\\npeggy.swim()\\npeggy.run()',\n",
       "  '# child class\\nclass Penguin(Bird): # 상속받는 법\\n    pass\\n\\n    def swim(self): # Overriding\\n        print(\\'I can\\\\\\'t swin\\')\\n\\n    def run(self):\\n        print(\"Run faster\")\\n\\n    def __init__(self):\\n        # call super() function\\n        super(Penguin).__init__()\\n        print(\"Penguin is ready\")\\n\\'\\'\\'\\n    def whoisThis(self):\\n        print(\"Penguin\")\\n\\'\\'\\'\\n    ',\n",
       "  'peggy = Penguin()\\npeggy.whoisThis()\\npeggy.swim()\\npeggy.run()',\n",
       "  '# child class\\nclass Penguin(Bird): # 상속받는 법\\n    pass\\n\\n    def swim(self): # Overriding\\n        print(\\'I can\\\\\\'t swin\\')\\n\\n    def run(self):\\n        print(\"Run faster\")\\n\\n    def __init__(self):\\n        # call super() function\\n        super(Bird, self).__init__()\\n        print(\"Penguin is ready\")\\n\\'\\'\\'\\n    def whoisThis(self):\\n        print(\"Penguin\")\\n\\'\\'\\'\\n    ',\n",
       "  'peggy = Penguin()\\npeggy.whoisThis()\\npeggy.swim()\\npeggy.run()',\n",
       "  '# child class\\nclass Penguin(Bird): # 상속받는 법\\n    pass\\n\\n    def swim(self): # Overriding\\n        print(\\'I can\\\\\\'t swin\\')\\n\\n    def run(self):\\n        print(\"Run faster\")\\n\\n    def __init__(self):\\n        # call super() function\\n        super(Bird, self).__init__()\\n        print(\"Penguin is ready\")\\n\\'\\'\\'\\n    def whoisThis(self):\\n        print(\"Penguin\")\\n\\'\\'\\'\\n    ',\n",
       "  'peggy = Penguin()\\npeggy.whoisThis()\\npeggy.swim()\\npeggy.run()',\n",
       "  '# child class\\nclass Penguin(Bird): # 상속받는 법\\n    pass\\n\\n    def swim(self): # Overriding\\n        print(\\'I can\\\\\\'t swin\\')\\n\\n    def run(self):\\n        print(\"Run faster\")\\n\\n    def __init__(self):\\n        # call super() function\\n        super(Bird, Penguin).__init__()\\n        print(\"Penguin is ready\")\\n\\'\\'\\'\\n    def whoisThis(self):\\n        print(\"Penguin\")\\n\\'\\'\\'\\n    ',\n",
       "  'peggy = Penguin()\\npeggy.whoisThis()\\npeggy.swim()\\npeggy.run()',\n",
       "  '# child class\\nclass Penguin(Bird): # 상속받는 법\\n    pass\\n\\n    def swim(self): # Overriding\\n        print(\\'I can\\\\\\'t swin\\')\\n\\n    def run(self):\\n        print(\"Run faster\")\\n\\n    def __init__(self):\\n        # call super() function\\n        super(Penguin, self).__init__()\\n        print(\"Penguin is ready\")\\n\\'\\'\\'\\n    def whoisThis(self):\\n        print(\"Penguin\")\\n\\'\\'\\'\\n    ',\n",
       "  '# child class\\nclass Penguin(Bird): # 상속받는 법\\n    pass\\n\\n    def swim(self): # Overriding\\n        print(\\'I can\\\\\\'t swin\\')\\n\\n    def run(self):\\n        print(\"Run faster\")\\n\\n    def __init__(self):\\n        # call super() function\\n        super(Penguin, self).__init__()\\n        print(\"Penguin is ready\")\\n\\'\\'\\'\\n    def whoisThis(self):\\n        print(\"Penguin\")\\n\\'\\'\\'\\n    ',\n",
       "  'peggy = Penguin()\\npeggy.whoisThis()\\npeggy.swim()\\npeggy.run()',\n",
       "  '# child class\\nclass Penguin(Bird): # 상속받는 법\\n    pass\\n\\n    def swim(self): # Overriding\\n        print(\\'I can\\\\\\'t swin\\')\\n\\n    def run(self):\\n        print(\"Run faster\")\\n\\n    def __init__(self):\\n        # call super() function\\n        super(Bird, self).__init__()\\n        print(\"Penguin is ready\")\\n\\'\\'\\'\\n    def whoisThis(self):\\n        print(\"Penguin\")\\n\\'\\'\\'\\n    ',\n",
       "  'peggy = Penguin()\\npeggy.whoisThis()\\npeggy.swim()\\npeggy.run()',\n",
       "  '# child class\\nclass Penguin(Bird): # 상속받는 법\\n    pass\\n\\n    def swim(self): # Overriding\\n        print(\\'I can\\\\\\'t swin\\')\\n\\n    def run(self):\\n        print(\"Run faster\")\\n\\n    def __init__(self):\\n        # call super() function\\n        super().__init__() # 다중상속 때문에 누구한테 super 받을지 결정\\n        print(\"Penguin is ready\")\\n\\'\\'\\'\\n    def whoisThis(self):\\n        print(\"Penguin\")\\n\\'\\'\\'\\n    ',\n",
       "  'peggy = Penguin()\\npeggy.whoisThis()\\npeggy.swim()\\npeggy.run()',\n",
       "  'dir()',\n",
       "  'globals()'],\n",
       " 'Out': {4: ['__class__',\n",
       "   '__delattr__',\n",
       "   '__dict__',\n",
       "   '__dir__',\n",
       "   '__doc__',\n",
       "   '__eq__',\n",
       "   '__format__',\n",
       "   '__ge__',\n",
       "   '__getattribute__',\n",
       "   '__gt__',\n",
       "   '__hash__',\n",
       "   '__init__',\n",
       "   '__init_subclass__',\n",
       "   '__le__',\n",
       "   '__lt__',\n",
       "   '__module__',\n",
       "   '__ne__',\n",
       "   '__new__',\n",
       "   '__reduce__',\n",
       "   '__reduce_ex__',\n",
       "   '__repr__',\n",
       "   '__setattr__',\n",
       "   '__sizeof__',\n",
       "   '__str__',\n",
       "   '__subclasshook__',\n",
       "   '__weakref__',\n",
       "   'swim',\n",
       "   'whoisThis'],\n",
       "  6: '\\n    def __init__(self):\\n        # call super() function\\n        super().__init__()\\n        print(\"Penguin is ready\")\\n\\n    def whoisThis(self):\\n        print(\"Penguin\")\\n\\n    def run(self):\\n        print(\"Run faster\")\\n',\n",
       "  9: '\\n    def __init__(self):\\n        # call super() function\\n        super().__init__()\\n        print(\"Penguin is ready\")\\n\\n    def whoisThis(self):\\n        print(\"Penguin\")\\n',\n",
       "  11: '\\n    def whoisThis(self):\\n        print(\"Penguin\")\\n',\n",
       "  13: '\\n    def whoisThis(self):\\n        print(\"Penguin\")\\n',\n",
       "  15: '\\n    def whoisThis(self):\\n        print(\"Penguin\")\\n',\n",
       "  17: '\\n    def whoisThis(self):\\n        print(\"Penguin\")\\n',\n",
       "  19: '\\n    def whoisThis(self):\\n        print(\"Penguin\")\\n',\n",
       "  21: '\\n    def whoisThis(self):\\n        print(\"Penguin\")\\n',\n",
       "  23: '\\n    def whoisThis(self):\\n        print(\"Penguin\")\\n',\n",
       "  25: '\\n    def whoisThis(self):\\n        print(\"Penguin\")\\n',\n",
       "  27: '\\n    def whoisThis(self):\\n        print(\"Penguin\")\\n',\n",
       "  28: '\\n    def whoisThis(self):\\n        print(\"Penguin\")\\n',\n",
       "  30: '\\n    def whoisThis(self):\\n        print(\"Penguin\")\\n',\n",
       "  32: '\\n    def whoisThis(self):\\n        print(\"Penguin\")\\n',\n",
       "  34: ['Bird',\n",
       "   'In',\n",
       "   'Out',\n",
       "   'Penguin',\n",
       "   '_',\n",
       "   '_11',\n",
       "   '_13',\n",
       "   '_15',\n",
       "   '_17',\n",
       "   '_19',\n",
       "   '_21',\n",
       "   '_23',\n",
       "   '_25',\n",
       "   '_27',\n",
       "   '_28',\n",
       "   '_30',\n",
       "   '_32',\n",
       "   '_4',\n",
       "   '_6',\n",
       "   '_9',\n",
       "   '__',\n",
       "   '___',\n",
       "   '__builtin__',\n",
       "   '__builtins__',\n",
       "   '__doc__',\n",
       "   '__loader__',\n",
       "   '__name__',\n",
       "   '__package__',\n",
       "   '__spec__',\n",
       "   '_dh',\n",
       "   '_i',\n",
       "   '_i1',\n",
       "   '_i10',\n",
       "   '_i11',\n",
       "   '_i12',\n",
       "   '_i13',\n",
       "   '_i14',\n",
       "   '_i15',\n",
       "   '_i16',\n",
       "   '_i17',\n",
       "   '_i18',\n",
       "   '_i19',\n",
       "   '_i2',\n",
       "   '_i20',\n",
       "   '_i21',\n",
       "   '_i22',\n",
       "   '_i23',\n",
       "   '_i24',\n",
       "   '_i25',\n",
       "   '_i26',\n",
       "   '_i27',\n",
       "   '_i28',\n",
       "   '_i29',\n",
       "   '_i3',\n",
       "   '_i30',\n",
       "   '_i31',\n",
       "   '_i32',\n",
       "   '_i33',\n",
       "   '_i34',\n",
       "   '_i4',\n",
       "   '_i5',\n",
       "   '_i6',\n",
       "   '_i7',\n",
       "   '_i8',\n",
       "   '_i9',\n",
       "   '_ih',\n",
       "   '_ii',\n",
       "   '_iii',\n",
       "   '_oh',\n",
       "   '_sh',\n",
       "   'exit',\n",
       "   'get_ipython',\n",
       "   'peggy',\n",
       "   'quit']},\n",
       " 'Penguin': __main__.Penguin,\n",
       " '_': ['Bird',\n",
       "  'In',\n",
       "  'Out',\n",
       "  'Penguin',\n",
       "  '_',\n",
       "  '_11',\n",
       "  '_13',\n",
       "  '_15',\n",
       "  '_17',\n",
       "  '_19',\n",
       "  '_21',\n",
       "  '_23',\n",
       "  '_25',\n",
       "  '_27',\n",
       "  '_28',\n",
       "  '_30',\n",
       "  '_32',\n",
       "  '_4',\n",
       "  '_6',\n",
       "  '_9',\n",
       "  '__',\n",
       "  '___',\n",
       "  '__builtin__',\n",
       "  '__builtins__',\n",
       "  '__doc__',\n",
       "  '__loader__',\n",
       "  '__name__',\n",
       "  '__package__',\n",
       "  '__spec__',\n",
       "  '_dh',\n",
       "  '_i',\n",
       "  '_i1',\n",
       "  '_i10',\n",
       "  '_i11',\n",
       "  '_i12',\n",
       "  '_i13',\n",
       "  '_i14',\n",
       "  '_i15',\n",
       "  '_i16',\n",
       "  '_i17',\n",
       "  '_i18',\n",
       "  '_i19',\n",
       "  '_i2',\n",
       "  '_i20',\n",
       "  '_i21',\n",
       "  '_i22',\n",
       "  '_i23',\n",
       "  '_i24',\n",
       "  '_i25',\n",
       "  '_i26',\n",
       "  '_i27',\n",
       "  '_i28',\n",
       "  '_i29',\n",
       "  '_i3',\n",
       "  '_i30',\n",
       "  '_i31',\n",
       "  '_i32',\n",
       "  '_i33',\n",
       "  '_i34',\n",
       "  '_i4',\n",
       "  '_i5',\n",
       "  '_i6',\n",
       "  '_i7',\n",
       "  '_i8',\n",
       "  '_i9',\n",
       "  '_ih',\n",
       "  '_ii',\n",
       "  '_iii',\n",
       "  '_oh',\n",
       "  '_sh',\n",
       "  'exit',\n",
       "  'get_ipython',\n",
       "  'peggy',\n",
       "  'quit'],\n",
       " '_11': '\\n    def whoisThis(self):\\n        print(\"Penguin\")\\n',\n",
       " '_13': '\\n    def whoisThis(self):\\n        print(\"Penguin\")\\n',\n",
       " '_15': '\\n    def whoisThis(self):\\n        print(\"Penguin\")\\n',\n",
       " '_17': '\\n    def whoisThis(self):\\n        print(\"Penguin\")\\n',\n",
       " '_19': '\\n    def whoisThis(self):\\n        print(\"Penguin\")\\n',\n",
       " '_21': '\\n    def whoisThis(self):\\n        print(\"Penguin\")\\n',\n",
       " '_23': '\\n    def whoisThis(self):\\n        print(\"Penguin\")\\n',\n",
       " '_25': '\\n    def whoisThis(self):\\n        print(\"Penguin\")\\n',\n",
       " '_27': '\\n    def whoisThis(self):\\n        print(\"Penguin\")\\n',\n",
       " '_28': '\\n    def whoisThis(self):\\n        print(\"Penguin\")\\n',\n",
       " '_30': '\\n    def whoisThis(self):\\n        print(\"Penguin\")\\n',\n",
       " '_32': '\\n    def whoisThis(self):\\n        print(\"Penguin\")\\n',\n",
       " '_34': ['Bird',\n",
       "  'In',\n",
       "  'Out',\n",
       "  'Penguin',\n",
       "  '_',\n",
       "  '_11',\n",
       "  '_13',\n",
       "  '_15',\n",
       "  '_17',\n",
       "  '_19',\n",
       "  '_21',\n",
       "  '_23',\n",
       "  '_25',\n",
       "  '_27',\n",
       "  '_28',\n",
       "  '_30',\n",
       "  '_32',\n",
       "  '_4',\n",
       "  '_6',\n",
       "  '_9',\n",
       "  '__',\n",
       "  '___',\n",
       "  '__builtin__',\n",
       "  '__builtins__',\n",
       "  '__doc__',\n",
       "  '__loader__',\n",
       "  '__name__',\n",
       "  '__package__',\n",
       "  '__spec__',\n",
       "  '_dh',\n",
       "  '_i',\n",
       "  '_i1',\n",
       "  '_i10',\n",
       "  '_i11',\n",
       "  '_i12',\n",
       "  '_i13',\n",
       "  '_i14',\n",
       "  '_i15',\n",
       "  '_i16',\n",
       "  '_i17',\n",
       "  '_i18',\n",
       "  '_i19',\n",
       "  '_i2',\n",
       "  '_i20',\n",
       "  '_i21',\n",
       "  '_i22',\n",
       "  '_i23',\n",
       "  '_i24',\n",
       "  '_i25',\n",
       "  '_i26',\n",
       "  '_i27',\n",
       "  '_i28',\n",
       "  '_i29',\n",
       "  '_i3',\n",
       "  '_i30',\n",
       "  '_i31',\n",
       "  '_i32',\n",
       "  '_i33',\n",
       "  '_i34',\n",
       "  '_i4',\n",
       "  '_i5',\n",
       "  '_i6',\n",
       "  '_i7',\n",
       "  '_i8',\n",
       "  '_i9',\n",
       "  '_ih',\n",
       "  '_ii',\n",
       "  '_iii',\n",
       "  '_oh',\n",
       "  '_sh',\n",
       "  'exit',\n",
       "  'get_ipython',\n",
       "  'peggy',\n",
       "  'quit'],\n",
       " '_4': ['__class__',\n",
       "  '__delattr__',\n",
       "  '__dict__',\n",
       "  '__dir__',\n",
       "  '__doc__',\n",
       "  '__eq__',\n",
       "  '__format__',\n",
       "  '__ge__',\n",
       "  '__getattribute__',\n",
       "  '__gt__',\n",
       "  '__hash__',\n",
       "  '__init__',\n",
       "  '__init_subclass__',\n",
       "  '__le__',\n",
       "  '__lt__',\n",
       "  '__module__',\n",
       "  '__ne__',\n",
       "  '__new__',\n",
       "  '__reduce__',\n",
       "  '__reduce_ex__',\n",
       "  '__repr__',\n",
       "  '__setattr__',\n",
       "  '__sizeof__',\n",
       "  '__str__',\n",
       "  '__subclasshook__',\n",
       "  '__weakref__',\n",
       "  'swim',\n",
       "  'whoisThis'],\n",
       " '_6': '\\n    def __init__(self):\\n        # call super() function\\n        super().__init__()\\n        print(\"Penguin is ready\")\\n\\n    def whoisThis(self):\\n        print(\"Penguin\")\\n\\n    def run(self):\\n        print(\"Run faster\")\\n',\n",
       " '_9': '\\n    def __init__(self):\\n        # call super() function\\n        super().__init__()\\n        print(\"Penguin is ready\")\\n\\n    def whoisThis(self):\\n        print(\"Penguin\")\\n',\n",
       " '__': '\\n    def whoisThis(self):\\n        print(\"Penguin\")\\n',\n",
       " '___': '\\n    def whoisThis(self):\\n        print(\"Penguin\")\\n',\n",
       " '__builtin__': <module 'builtins' (built-in)>,\n",
       " '__builtins__': <module 'builtins' (built-in)>,\n",
       " '__doc__': '\\n    def __init__(self):\\n        # call super() function\\n        super().__init__()\\n        print(\"Penguin is ready\")\\n\\n    def whoisThis(self):\\n        print(\"Penguin\")\\n\\n    def run(self):\\n        print(\"Run faster\")\\n',\n",
       " '__loader__': None,\n",
       " '__name__': '__main__',\n",
       " '__package__': None,\n",
       " '__spec__': None,\n",
       " '_dh': ['C:\\\\Users\\\\Soyoung\\\\Desktop\\\\Jupyter Notebook'],\n",
       " '_i': 'dir()',\n",
       " '_i1': '상속 - 다중 상속(C++), 단일 상속(자바)\\n\\n파이썬은 다중 상속을 지원한다\\n\\n하지만 가능한 다중 상속 쓰지마라',\n",
       " '_i10': 'peggy = Penguin()\\npeggy.whoisThis()\\npeggy.swim()\\npeggy.run()',\n",
       " '_i11': '# child class\\nclass Penguin(Bird): # 상속받는 법\\n    pass\\n\\n    def swim(self): # Overriding\\n        print(\\'I can\\\\\\'t swin\\')\\n\\n    def run(self):\\n        print(\"Run faster\")\\n\\n    def __init__(self):\\n        # call super() function\\n        #super().__init__()\\n        print(\"Penguin is ready\")\\n\\'\\'\\'\\n    def whoisThis(self):\\n        print(\"Penguin\")\\n\\'\\'\\'\\n    ',\n",
       " '_i12': 'peggy = Penguin()\\npeggy.whoisThis()\\npeggy.swim()\\npeggy.run()',\n",
       " '_i13': '# child class\\nclass Penguin(Bird): # 상속받는 법\\n    pass\\n\\n    def swim(self): # Overriding\\n        print(\\'I can\\\\\\'t swin\\')\\n\\n    def run(self):\\n        print(\"Run faster\")\\n\\n    def __init__(self):\\n        # call super() function\\n        super().__init__()\\n        print(\"Penguin is ready\")\\n\\'\\'\\'\\n    def whoisThis(self):\\n        print(\"Penguin\")\\n\\'\\'\\'\\n    ',\n",
       " '_i14': 'peggy = Penguin()\\npeggy.whoisThis()\\npeggy.swim()\\npeggy.run()',\n",
       " '_i15': '# child class\\nclass Penguin(Bird): # 상속받는 법\\n    pass\\n\\n    def swim(self): # Overriding\\n        print(\\'I can\\\\\\'t swin\\')\\n\\n    def run(self):\\n        print(\"Run faster\")\\n\\n    def __init__(self):\\n        # call super() function\\n        super(self).__init__()\\n        print(\"Penguin is ready\")\\n\\'\\'\\'\\n    def whoisThis(self):\\n        print(\"Penguin\")\\n\\'\\'\\'\\n    ',\n",
       " '_i16': 'peggy = Penguin()\\npeggy.whoisThis()\\npeggy.swim()\\npeggy.run()',\n",
       " '_i17': '# child class\\nclass Penguin(Bird): # 상속받는 법\\n    pass\\n\\n    def swim(self): # Overriding\\n        print(\\'I can\\\\\\'t swin\\')\\n\\n    def run(self):\\n        print(\"Run faster\")\\n\\n    def __init__(self):\\n        # call super() function\\n        super(Bird).__init__()\\n        print(\"Penguin is ready\")\\n\\'\\'\\'\\n    def whoisThis(self):\\n        print(\"Penguin\")\\n\\'\\'\\'\\n    ',\n",
       " '_i18': 'peggy = Penguin()\\npeggy.whoisThis()\\npeggy.swim()\\npeggy.run()',\n",
       " '_i19': '# child class\\nclass Penguin(Bird): # 상속받는 법\\n    pass\\n\\n    def swim(self): # Overriding\\n        print(\\'I can\\\\\\'t swin\\')\\n\\n    def run(self):\\n        print(\"Run faster\")\\n\\n    def __init__(self):\\n        # call super() function\\n        super(Penguin).__init__()\\n        print(\"Penguin is ready\")\\n\\'\\'\\'\\n    def whoisThis(self):\\n        print(\"Penguin\")\\n\\'\\'\\'\\n    ',\n",
       " '_i2': '# parent class\\nclass Bird:\\n    \\n    def __init__(self):\\n        print(\"Bird is ready\")\\n\\n    def whoisThis(self):\\n        print(\"Bird\")\\n\\n    def swim(self):\\n        print(\"Swim faster\")',\n",
       " '_i20': 'peggy = Penguin()\\npeggy.whoisThis()\\npeggy.swim()\\npeggy.run()',\n",
       " '_i21': '# child class\\nclass Penguin(Bird): # 상속받는 법\\n    pass\\n\\n    def swim(self): # Overriding\\n        print(\\'I can\\\\\\'t swin\\')\\n\\n    def run(self):\\n        print(\"Run faster\")\\n\\n    def __init__(self):\\n        # call super() function\\n        super(Bird, self).__init__()\\n        print(\"Penguin is ready\")\\n\\'\\'\\'\\n    def whoisThis(self):\\n        print(\"Penguin\")\\n\\'\\'\\'\\n    ',\n",
       " '_i22': 'peggy = Penguin()\\npeggy.whoisThis()\\npeggy.swim()\\npeggy.run()',\n",
       " '_i23': '# child class\\nclass Penguin(Bird): # 상속받는 법\\n    pass\\n\\n    def swim(self): # Overriding\\n        print(\\'I can\\\\\\'t swin\\')\\n\\n    def run(self):\\n        print(\"Run faster\")\\n\\n    def __init__(self):\\n        # call super() function\\n        super(Bird, self).__init__()\\n        print(\"Penguin is ready\")\\n\\'\\'\\'\\n    def whoisThis(self):\\n        print(\"Penguin\")\\n\\'\\'\\'\\n    ',\n",
       " '_i24': 'peggy = Penguin()\\npeggy.whoisThis()\\npeggy.swim()\\npeggy.run()',\n",
       " '_i25': '# child class\\nclass Penguin(Bird): # 상속받는 법\\n    pass\\n\\n    def swim(self): # Overriding\\n        print(\\'I can\\\\\\'t swin\\')\\n\\n    def run(self):\\n        print(\"Run faster\")\\n\\n    def __init__(self):\\n        # call super() function\\n        super(Bird, Penguin).__init__()\\n        print(\"Penguin is ready\")\\n\\'\\'\\'\\n    def whoisThis(self):\\n        print(\"Penguin\")\\n\\'\\'\\'\\n    ',\n",
       " '_i26': 'peggy = Penguin()\\npeggy.whoisThis()\\npeggy.swim()\\npeggy.run()',\n",
       " '_i27': '# child class\\nclass Penguin(Bird): # 상속받는 법\\n    pass\\n\\n    def swim(self): # Overriding\\n        print(\\'I can\\\\\\'t swin\\')\\n\\n    def run(self):\\n        print(\"Run faster\")\\n\\n    def __init__(self):\\n        # call super() function\\n        super(Penguin, self).__init__()\\n        print(\"Penguin is ready\")\\n\\'\\'\\'\\n    def whoisThis(self):\\n        print(\"Penguin\")\\n\\'\\'\\'\\n    ',\n",
       " '_i28': '# child class\\nclass Penguin(Bird): # 상속받는 법\\n    pass\\n\\n    def swim(self): # Overriding\\n        print(\\'I can\\\\\\'t swin\\')\\n\\n    def run(self):\\n        print(\"Run faster\")\\n\\n    def __init__(self):\\n        # call super() function\\n        super(Penguin, self).__init__()\\n        print(\"Penguin is ready\")\\n\\'\\'\\'\\n    def whoisThis(self):\\n        print(\"Penguin\")\\n\\'\\'\\'\\n    ',\n",
       " '_i29': 'peggy = Penguin()\\npeggy.whoisThis()\\npeggy.swim()\\npeggy.run()',\n",
       " '_i3': '# child class\\nclass Penguin(Bird): # 상속받는 법\\n    pass\\n\\n\\'\\'\\'\\n    def __init__(self):\\n        # call super() function\\n        super().__init__()\\n        print(\"Penguin is ready\")\\n\\n    def whoisThis(self):\\n        print(\"Penguin\")\\n\\n    def run(self):\\n        print(\"Run faster\")\\n\\'\\'\\'\\npeggy = Penguin()\\npeggy.whoisThis()\\npeggy.swim()\\npeggy.run()',\n",
       " '_i30': '# child class\\nclass Penguin(Bird): # 상속받는 법\\n    pass\\n\\n    def swim(self): # Overriding\\n        print(\\'I can\\\\\\'t swin\\')\\n\\n    def run(self):\\n        print(\"Run faster\")\\n\\n    def __init__(self):\\n        # call super() function\\n        super(Bird, self).__init__()\\n        print(\"Penguin is ready\")\\n\\'\\'\\'\\n    def whoisThis(self):\\n        print(\"Penguin\")\\n\\'\\'\\'\\n    ',\n",
       " '_i31': 'peggy = Penguin()\\npeggy.whoisThis()\\npeggy.swim()\\npeggy.run()',\n",
       " '_i32': '# child class\\nclass Penguin(Bird): # 상속받는 법\\n    pass\\n\\n    def swim(self): # Overriding\\n        print(\\'I can\\\\\\'t swin\\')\\n\\n    def run(self):\\n        print(\"Run faster\")\\n\\n    def __init__(self):\\n        # call super() function\\n        super().__init__() # 다중상속 때문에 누구한테 super 받을지 결정\\n        print(\"Penguin is ready\")\\n\\'\\'\\'\\n    def whoisThis(self):\\n        print(\"Penguin\")\\n\\'\\'\\'\\n    ',\n",
       " '_i33': 'peggy = Penguin()\\npeggy.whoisThis()\\npeggy.swim()\\npeggy.run()',\n",
       " '_i34': 'dir()',\n",
       " '_i35': 'globals()',\n",
       " '_i4': 'dir(Penguin)',\n",
       " '_i5': 'peggy = Penguin()\\npeggy.whoisThis()\\npeggy.swim()\\n# peggy.run()',\n",
       " '_i6': '# child class\\nclass Penguin(Bird): # 상속받는 법\\n    pass\\n\\n    def swim(self):\\n        print(\\'I can\\\\\\'t swin\\')\\n\\n\\'\\'\\'\\n    def __init__(self):\\n        # call super() function\\n        super().__init__()\\n        print(\"Penguin is ready\")\\n\\n    def whoisThis(self):\\n        print(\"Penguin\")\\n\\n    def run(self):\\n        print(\"Run faster\")\\n\\'\\'\\'',\n",
       " '_i7': 'peggy = Penguin()\\npeggy.whoisThis()\\npeggy.swim()\\n# peggy.run()',\n",
       " '_i8': '# child class\\nclass Penguin(Bird): # 상속받는 법\\n    pass\\n\\n    def swim(self): # Overriding\\n        print(\\'I can\\\\\\'t swin\\')\\n\\n\\'\\'\\'\\n    def __init__(self):\\n        # call super() function\\n        super().__init__()\\n        print(\"Penguin is ready\")\\n\\n    def whoisThis(self):\\n        print(\"Penguin\")\\n\\'\\'\\'\\n    def run(self):\\n        print(\"Run faster\")',\n",
       " '_i9': '# child class\\nclass Penguin(Bird): # 상속받는 법\\n    pass\\n\\n    def swim(self): # Overriding\\n        print(\\'I can\\\\\\'t swin\\')\\n\\n    def run(self):\\n        print(\"Run faster\")\\n\\'\\'\\'\\n    def __init__(self):\\n        # call super() function\\n        super().__init__()\\n        print(\"Penguin is ready\")\\n\\n    def whoisThis(self):\\n        print(\"Penguin\")\\n\\'\\'\\'\\n    ',\n",
       " '_ih': ['',\n",
       "  '상속 - 다중 상속(C++), 단일 상속(자바)\\n\\n파이썬은 다중 상속을 지원한다\\n\\n하지만 가능한 다중 상속 쓰지마라',\n",
       "  '# parent class\\nclass Bird:\\n    \\n    def __init__(self):\\n        print(\"Bird is ready\")\\n\\n    def whoisThis(self):\\n        print(\"Bird\")\\n\\n    def swim(self):\\n        print(\"Swim faster\")',\n",
       "  '# child class\\nclass Penguin(Bird): # 상속받는 법\\n    pass\\n\\n\\'\\'\\'\\n    def __init__(self):\\n        # call super() function\\n        super().__init__()\\n        print(\"Penguin is ready\")\\n\\n    def whoisThis(self):\\n        print(\"Penguin\")\\n\\n    def run(self):\\n        print(\"Run faster\")\\n\\'\\'\\'\\npeggy = Penguin()\\npeggy.whoisThis()\\npeggy.swim()\\npeggy.run()',\n",
       "  'dir(Penguin)',\n",
       "  'peggy = Penguin()\\npeggy.whoisThis()\\npeggy.swim()\\n# peggy.run()',\n",
       "  '# child class\\nclass Penguin(Bird): # 상속받는 법\\n    pass\\n\\n    def swim(self):\\n        print(\\'I can\\\\\\'t swin\\')\\n\\n\\'\\'\\'\\n    def __init__(self):\\n        # call super() function\\n        super().__init__()\\n        print(\"Penguin is ready\")\\n\\n    def whoisThis(self):\\n        print(\"Penguin\")\\n\\n    def run(self):\\n        print(\"Run faster\")\\n\\'\\'\\'',\n",
       "  'peggy = Penguin()\\npeggy.whoisThis()\\npeggy.swim()\\n# peggy.run()',\n",
       "  '# child class\\nclass Penguin(Bird): # 상속받는 법\\n    pass\\n\\n    def swim(self): # Overriding\\n        print(\\'I can\\\\\\'t swin\\')\\n\\n\\'\\'\\'\\n    def __init__(self):\\n        # call super() function\\n        super().__init__()\\n        print(\"Penguin is ready\")\\n\\n    def whoisThis(self):\\n        print(\"Penguin\")\\n\\'\\'\\'\\n    def run(self):\\n        print(\"Run faster\")',\n",
       "  '# child class\\nclass Penguin(Bird): # 상속받는 법\\n    pass\\n\\n    def swim(self): # Overriding\\n        print(\\'I can\\\\\\'t swin\\')\\n\\n    def run(self):\\n        print(\"Run faster\")\\n\\'\\'\\'\\n    def __init__(self):\\n        # call super() function\\n        super().__init__()\\n        print(\"Penguin is ready\")\\n\\n    def whoisThis(self):\\n        print(\"Penguin\")\\n\\'\\'\\'\\n    ',\n",
       "  'peggy = Penguin()\\npeggy.whoisThis()\\npeggy.swim()\\npeggy.run()',\n",
       "  '# child class\\nclass Penguin(Bird): # 상속받는 법\\n    pass\\n\\n    def swim(self): # Overriding\\n        print(\\'I can\\\\\\'t swin\\')\\n\\n    def run(self):\\n        print(\"Run faster\")\\n\\n    def __init__(self):\\n        # call super() function\\n        #super().__init__()\\n        print(\"Penguin is ready\")\\n\\'\\'\\'\\n    def whoisThis(self):\\n        print(\"Penguin\")\\n\\'\\'\\'\\n    ',\n",
       "  'peggy = Penguin()\\npeggy.whoisThis()\\npeggy.swim()\\npeggy.run()',\n",
       "  '# child class\\nclass Penguin(Bird): # 상속받는 법\\n    pass\\n\\n    def swim(self): # Overriding\\n        print(\\'I can\\\\\\'t swin\\')\\n\\n    def run(self):\\n        print(\"Run faster\")\\n\\n    def __init__(self):\\n        # call super() function\\n        super().__init__()\\n        print(\"Penguin is ready\")\\n\\'\\'\\'\\n    def whoisThis(self):\\n        print(\"Penguin\")\\n\\'\\'\\'\\n    ',\n",
       "  'peggy = Penguin()\\npeggy.whoisThis()\\npeggy.swim()\\npeggy.run()',\n",
       "  '# child class\\nclass Penguin(Bird): # 상속받는 법\\n    pass\\n\\n    def swim(self): # Overriding\\n        print(\\'I can\\\\\\'t swin\\')\\n\\n    def run(self):\\n        print(\"Run faster\")\\n\\n    def __init__(self):\\n        # call super() function\\n        super(self).__init__()\\n        print(\"Penguin is ready\")\\n\\'\\'\\'\\n    def whoisThis(self):\\n        print(\"Penguin\")\\n\\'\\'\\'\\n    ',\n",
       "  'peggy = Penguin()\\npeggy.whoisThis()\\npeggy.swim()\\npeggy.run()',\n",
       "  '# child class\\nclass Penguin(Bird): # 상속받는 법\\n    pass\\n\\n    def swim(self): # Overriding\\n        print(\\'I can\\\\\\'t swin\\')\\n\\n    def run(self):\\n        print(\"Run faster\")\\n\\n    def __init__(self):\\n        # call super() function\\n        super(Bird).__init__()\\n        print(\"Penguin is ready\")\\n\\'\\'\\'\\n    def whoisThis(self):\\n        print(\"Penguin\")\\n\\'\\'\\'\\n    ',\n",
       "  'peggy = Penguin()\\npeggy.whoisThis()\\npeggy.swim()\\npeggy.run()',\n",
       "  '# child class\\nclass Penguin(Bird): # 상속받는 법\\n    pass\\n\\n    def swim(self): # Overriding\\n        print(\\'I can\\\\\\'t swin\\')\\n\\n    def run(self):\\n        print(\"Run faster\")\\n\\n    def __init__(self):\\n        # call super() function\\n        super(Penguin).__init__()\\n        print(\"Penguin is ready\")\\n\\'\\'\\'\\n    def whoisThis(self):\\n        print(\"Penguin\")\\n\\'\\'\\'\\n    ',\n",
       "  'peggy = Penguin()\\npeggy.whoisThis()\\npeggy.swim()\\npeggy.run()',\n",
       "  '# child class\\nclass Penguin(Bird): # 상속받는 법\\n    pass\\n\\n    def swim(self): # Overriding\\n        print(\\'I can\\\\\\'t swin\\')\\n\\n    def run(self):\\n        print(\"Run faster\")\\n\\n    def __init__(self):\\n        # call super() function\\n        super(Bird, self).__init__()\\n        print(\"Penguin is ready\")\\n\\'\\'\\'\\n    def whoisThis(self):\\n        print(\"Penguin\")\\n\\'\\'\\'\\n    ',\n",
       "  'peggy = Penguin()\\npeggy.whoisThis()\\npeggy.swim()\\npeggy.run()',\n",
       "  '# child class\\nclass Penguin(Bird): # 상속받는 법\\n    pass\\n\\n    def swim(self): # Overriding\\n        print(\\'I can\\\\\\'t swin\\')\\n\\n    def run(self):\\n        print(\"Run faster\")\\n\\n    def __init__(self):\\n        # call super() function\\n        super(Bird, self).__init__()\\n        print(\"Penguin is ready\")\\n\\'\\'\\'\\n    def whoisThis(self):\\n        print(\"Penguin\")\\n\\'\\'\\'\\n    ',\n",
       "  'peggy = Penguin()\\npeggy.whoisThis()\\npeggy.swim()\\npeggy.run()',\n",
       "  '# child class\\nclass Penguin(Bird): # 상속받는 법\\n    pass\\n\\n    def swim(self): # Overriding\\n        print(\\'I can\\\\\\'t swin\\')\\n\\n    def run(self):\\n        print(\"Run faster\")\\n\\n    def __init__(self):\\n        # call super() function\\n        super(Bird, Penguin).__init__()\\n        print(\"Penguin is ready\")\\n\\'\\'\\'\\n    def whoisThis(self):\\n        print(\"Penguin\")\\n\\'\\'\\'\\n    ',\n",
       "  'peggy = Penguin()\\npeggy.whoisThis()\\npeggy.swim()\\npeggy.run()',\n",
       "  '# child class\\nclass Penguin(Bird): # 상속받는 법\\n    pass\\n\\n    def swim(self): # Overriding\\n        print(\\'I can\\\\\\'t swin\\')\\n\\n    def run(self):\\n        print(\"Run faster\")\\n\\n    def __init__(self):\\n        # call super() function\\n        super(Penguin, self).__init__()\\n        print(\"Penguin is ready\")\\n\\'\\'\\'\\n    def whoisThis(self):\\n        print(\"Penguin\")\\n\\'\\'\\'\\n    ',\n",
       "  '# child class\\nclass Penguin(Bird): # 상속받는 법\\n    pass\\n\\n    def swim(self): # Overriding\\n        print(\\'I can\\\\\\'t swin\\')\\n\\n    def run(self):\\n        print(\"Run faster\")\\n\\n    def __init__(self):\\n        # call super() function\\n        super(Penguin, self).__init__()\\n        print(\"Penguin is ready\")\\n\\'\\'\\'\\n    def whoisThis(self):\\n        print(\"Penguin\")\\n\\'\\'\\'\\n    ',\n",
       "  'peggy = Penguin()\\npeggy.whoisThis()\\npeggy.swim()\\npeggy.run()',\n",
       "  '# child class\\nclass Penguin(Bird): # 상속받는 법\\n    pass\\n\\n    def swim(self): # Overriding\\n        print(\\'I can\\\\\\'t swin\\')\\n\\n    def run(self):\\n        print(\"Run faster\")\\n\\n    def __init__(self):\\n        # call super() function\\n        super(Bird, self).__init__()\\n        print(\"Penguin is ready\")\\n\\'\\'\\'\\n    def whoisThis(self):\\n        print(\"Penguin\")\\n\\'\\'\\'\\n    ',\n",
       "  'peggy = Penguin()\\npeggy.whoisThis()\\npeggy.swim()\\npeggy.run()',\n",
       "  '# child class\\nclass Penguin(Bird): # 상속받는 법\\n    pass\\n\\n    def swim(self): # Overriding\\n        print(\\'I can\\\\\\'t swin\\')\\n\\n    def run(self):\\n        print(\"Run faster\")\\n\\n    def __init__(self):\\n        # call super() function\\n        super().__init__() # 다중상속 때문에 누구한테 super 받을지 결정\\n        print(\"Penguin is ready\")\\n\\'\\'\\'\\n    def whoisThis(self):\\n        print(\"Penguin\")\\n\\'\\'\\'\\n    ',\n",
       "  'peggy = Penguin()\\npeggy.whoisThis()\\npeggy.swim()\\npeggy.run()',\n",
       "  'dir()',\n",
       "  'globals()'],\n",
       " '_ii': 'peggy = Penguin()\\npeggy.whoisThis()\\npeggy.swim()\\npeggy.run()',\n",
       " '_iii': '# child class\\nclass Penguin(Bird): # 상속받는 법\\n    pass\\n\\n    def swim(self): # Overriding\\n        print(\\'I can\\\\\\'t swin\\')\\n\\n    def run(self):\\n        print(\"Run faster\")\\n\\n    def __init__(self):\\n        # call super() function\\n        super().__init__() # 다중상속 때문에 누구한테 super 받을지 결정\\n        print(\"Penguin is ready\")\\n\\'\\'\\'\\n    def whoisThis(self):\\n        print(\"Penguin\")\\n\\'\\'\\'\\n    ',\n",
       " '_oh': {4: ['__class__',\n",
       "   '__delattr__',\n",
       "   '__dict__',\n",
       "   '__dir__',\n",
       "   '__doc__',\n",
       "   '__eq__',\n",
       "   '__format__',\n",
       "   '__ge__',\n",
       "   '__getattribute__',\n",
       "   '__gt__',\n",
       "   '__hash__',\n",
       "   '__init__',\n",
       "   '__init_subclass__',\n",
       "   '__le__',\n",
       "   '__lt__',\n",
       "   '__module__',\n",
       "   '__ne__',\n",
       "   '__new__',\n",
       "   '__reduce__',\n",
       "   '__reduce_ex__',\n",
       "   '__repr__',\n",
       "   '__setattr__',\n",
       "   '__sizeof__',\n",
       "   '__str__',\n",
       "   '__subclasshook__',\n",
       "   '__weakref__',\n",
       "   'swim',\n",
       "   'whoisThis'],\n",
       "  6: '\\n    def __init__(self):\\n        # call super() function\\n        super().__init__()\\n        print(\"Penguin is ready\")\\n\\n    def whoisThis(self):\\n        print(\"Penguin\")\\n\\n    def run(self):\\n        print(\"Run faster\")\\n',\n",
       "  9: '\\n    def __init__(self):\\n        # call super() function\\n        super().__init__()\\n        print(\"Penguin is ready\")\\n\\n    def whoisThis(self):\\n        print(\"Penguin\")\\n',\n",
       "  11: '\\n    def whoisThis(self):\\n        print(\"Penguin\")\\n',\n",
       "  13: '\\n    def whoisThis(self):\\n        print(\"Penguin\")\\n',\n",
       "  15: '\\n    def whoisThis(self):\\n        print(\"Penguin\")\\n',\n",
       "  17: '\\n    def whoisThis(self):\\n        print(\"Penguin\")\\n',\n",
       "  19: '\\n    def whoisThis(self):\\n        print(\"Penguin\")\\n',\n",
       "  21: '\\n    def whoisThis(self):\\n        print(\"Penguin\")\\n',\n",
       "  23: '\\n    def whoisThis(self):\\n        print(\"Penguin\")\\n',\n",
       "  25: '\\n    def whoisThis(self):\\n        print(\"Penguin\")\\n',\n",
       "  27: '\\n    def whoisThis(self):\\n        print(\"Penguin\")\\n',\n",
       "  28: '\\n    def whoisThis(self):\\n        print(\"Penguin\")\\n',\n",
       "  30: '\\n    def whoisThis(self):\\n        print(\"Penguin\")\\n',\n",
       "  32: '\\n    def whoisThis(self):\\n        print(\"Penguin\")\\n',\n",
       "  34: ['Bird',\n",
       "   'In',\n",
       "   'Out',\n",
       "   'Penguin',\n",
       "   '_',\n",
       "   '_11',\n",
       "   '_13',\n",
       "   '_15',\n",
       "   '_17',\n",
       "   '_19',\n",
       "   '_21',\n",
       "   '_23',\n",
       "   '_25',\n",
       "   '_27',\n",
       "   '_28',\n",
       "   '_30',\n",
       "   '_32',\n",
       "   '_4',\n",
       "   '_6',\n",
       "   '_9',\n",
       "   '__',\n",
       "   '___',\n",
       "   '__builtin__',\n",
       "   '__builtins__',\n",
       "   '__doc__',\n",
       "   '__loader__',\n",
       "   '__name__',\n",
       "   '__package__',\n",
       "   '__spec__',\n",
       "   '_dh',\n",
       "   '_i',\n",
       "   '_i1',\n",
       "   '_i10',\n",
       "   '_i11',\n",
       "   '_i12',\n",
       "   '_i13',\n",
       "   '_i14',\n",
       "   '_i15',\n",
       "   '_i16',\n",
       "   '_i17',\n",
       "   '_i18',\n",
       "   '_i19',\n",
       "   '_i2',\n",
       "   '_i20',\n",
       "   '_i21',\n",
       "   '_i22',\n",
       "   '_i23',\n",
       "   '_i24',\n",
       "   '_i25',\n",
       "   '_i26',\n",
       "   '_i27',\n",
       "   '_i28',\n",
       "   '_i29',\n",
       "   '_i3',\n",
       "   '_i30',\n",
       "   '_i31',\n",
       "   '_i32',\n",
       "   '_i33',\n",
       "   '_i34',\n",
       "   '_i4',\n",
       "   '_i5',\n",
       "   '_i6',\n",
       "   '_i7',\n",
       "   '_i8',\n",
       "   '_i9',\n",
       "   '_ih',\n",
       "   '_ii',\n",
       "   '_iii',\n",
       "   '_oh',\n",
       "   '_sh',\n",
       "   'exit',\n",
       "   'get_ipython',\n",
       "   'peggy',\n",
       "   'quit']},\n",
       " '_sh': <module 'IPython.core.shadowns' from 'C:\\\\ProgramData\\\\Anaconda3\\\\lib\\\\site-packages\\\\IPython\\\\core\\\\shadowns.py'>,\n",
       " 'exit': <IPython.core.autocall.ZMQExitAutocall at 0xdfdbc2afd0>,\n",
       " 'get_ipython': <bound method InteractiveShell.get_ipython of <ipykernel.zmqshell.ZMQInteractiveShell object at 0x000000DFDBA12438>>,\n",
       " 'peggy': <__main__.Penguin at 0xdfdcdd6dd8>,\n",
       " 'quit': <IPython.core.autocall.ZMQExitAutocall at 0xdfdbc2afd0>}"
      ]
     },
     "execution_count": 35,
     "metadata": {},
     "output_type": "execute_result"
    }
   ],
   "source": [
    "globals()"
   ]
  },
  {
   "cell_type": "markdown",
   "metadata": {},
   "source": [
    "## Polymorphism"
   ]
  },
  {
   "cell_type": "markdown",
   "metadata": {},
   "source": [
    "Duck typing : 오리 처럼 생겼으면 오리다\n",
    "\n",
    "EAEP(easier to ask forgiveness than permission), (try - except) <-> LBYL(look before you leap), (if)"
   ]
  },
  {
   "cell_type": "markdown",
   "metadata": {},
   "source": [
    "상속보다 더 큰 범위에서 쓸수있다\n",
    "\n",
    "상속 안해도 쓸수 있다"
   ]
  },
  {
   "cell_type": "code",
   "execution_count": 5,
   "metadata": {},
   "outputs": [
    {
     "name": "stdout",
     "output_type": "stream",
     "text": [
      "Parrot can fly\n",
      "Penguin can't fly\n"
     ]
    }
   ],
   "source": [
    "class Parrot:\n",
    "\n",
    "    def fly(self):\n",
    "        print(\"Parrot can fly\")\n",
    "    \n",
    "    def swim(self):\n",
    "        print(\"Parrot can't swim\")\n",
    "\n",
    "class Penguin:\n",
    "\n",
    "    def fly(self):\n",
    "        print(\"Penguin can't fly\")\n",
    "    \n",
    "    def swim(self):\n",
    "        print(\"Penguin can swim\")\n",
    "\n",
    "# common interface\n",
    "def flying_test(bird): # 파라미터 타입이 인스턴스임 (.)때문이야\n",
    "    bird.fly()\n",
    "\n",
    "#instantiate objects\n",
    "blu = Parrot()\n",
    "peggy = Penguin()\n",
    "\n",
    "# passing the object\n",
    "flying_test(blu)\n",
    "flying_test(peggy)"
   ]
  },
  {
   "cell_type": "code",
   "execution_count": 46,
   "metadata": {
    "collapsed": true
   },
   "outputs": [],
   "source": [
    "class Polygon:\n",
    "    def __init__(self, no_of_sides):\n",
    "        self.n = no_of_sides\n",
    "        self.sides = [0 for i in range(no_of_sides)] # comprehension\n",
    "\n",
    "    def inputSides(self):\n",
    "        self.sides = [float(input(\"Enter side \"+str(i+1)+\" : \")) for i in range(self.n)]\n",
    "\n",
    "    def dispSides(self):\n",
    "        for i in range(self.n):\n",
    "            print(\"Side\",i+1,\"is\",self.sides[i])"
   ]
  },
  {
   "cell_type": "code",
   "execution_count": 48,
   "metadata": {},
   "outputs": [],
   "source": [
    "pg = Polygon(3)"
   ]
  },
  {
   "cell_type": "code",
   "execution_count": 49,
   "metadata": {},
   "outputs": [
    {
     "data": {
      "text/plain": [
       "3"
      ]
     },
     "execution_count": 49,
     "metadata": {},
     "output_type": "execute_result"
    }
   ],
   "source": [
    "pg.n"
   ]
  },
  {
   "cell_type": "code",
   "execution_count": 50,
   "metadata": {},
   "outputs": [
    {
     "data": {
      "text/plain": [
       "[0, 0, 0]"
      ]
     },
     "execution_count": 50,
     "metadata": {},
     "output_type": "execute_result"
    }
   ],
   "source": [
    "pg.sides"
   ]
  },
  {
   "cell_type": "code",
   "execution_count": 51,
   "metadata": {},
   "outputs": [
    {
     "name": "stdout",
     "output_type": "stream",
     "text": [
      "Enter side 1 : 1\n",
      "Enter side 2 : 2\n",
      "Enter side 3 : 7\n"
     ]
    }
   ],
   "source": [
    "pg.inputSides()"
   ]
  },
  {
   "cell_type": "code",
   "execution_count": 52,
   "metadata": {},
   "outputs": [
    {
     "data": {
      "text/plain": [
       "[1.0, 2.0, 7.0]"
      ]
     },
     "execution_count": 52,
     "metadata": {},
     "output_type": "execute_result"
    }
   ],
   "source": [
    "pg.sides"
   ]
  },
  {
   "cell_type": "code",
   "execution_count": 54,
   "metadata": {},
   "outputs": [
    {
     "name": "stdout",
     "output_type": "stream",
     "text": [
      "Side 1 is 1.0\n",
      "Side 2 is 2.0\n",
      "Side 3 is 7.0\n"
     ]
    }
   ],
   "source": [
    "pg.dispSides()"
   ]
  },
  {
   "cell_type": "code",
   "execution_count": 55,
   "metadata": {},
   "outputs": [
    {
     "ename": "AttributeError",
     "evalue": "'Polygon' object has no attribute 'i'",
     "output_type": "error",
     "traceback": [
      "\u001b[1;31m---------------------------------------------------------------------------\u001b[0m",
      "\u001b[1;31mAttributeError\u001b[0m                            Traceback (most recent call last)",
      "\u001b[1;32m<ipython-input-55-1affd2595fa6>\u001b[0m in \u001b[0;36m<module>\u001b[1;34m()\u001b[0m\n\u001b[1;32m----> 1\u001b[1;33m \u001b[0mpg\u001b[0m\u001b[1;33m.\u001b[0m\u001b[0mi\u001b[0m\u001b[1;33m\u001b[0m\u001b[0m\n\u001b[0m",
      "\u001b[1;31mAttributeError\u001b[0m: 'Polygon' object has no attribute 'i'"
     ]
    }
   ],
   "source": [
    "pg.i # i는 local"
   ]
  },
  {
   "cell_type": "code",
   "execution_count": 57,
   "metadata": {
    "collapsed": true
   },
   "outputs": [],
   "source": [
    "def a() :\n",
    "    for i in range(11) :\n",
    "        print(i)"
   ]
  },
  {
   "cell_type": "code",
   "execution_count": 58,
   "metadata": {},
   "outputs": [
    {
     "name": "stdout",
     "output_type": "stream",
     "text": [
      "0\n",
      "1\n",
      "2\n",
      "3\n",
      "4\n",
      "5\n",
      "6\n",
      "7\n",
      "8\n",
      "9\n",
      "10\n"
     ]
    }
   ],
   "source": [
    "a()"
   ]
  },
  {
   "cell_type": "code",
   "execution_count": 59,
   "metadata": {},
   "outputs": [
    {
     "ename": "NameError",
     "evalue": "name 'i' is not defined",
     "output_type": "error",
     "traceback": [
      "\u001b[1;31m---------------------------------------------------------------------------\u001b[0m",
      "\u001b[1;31mNameError\u001b[0m                                 Traceback (most recent call last)",
      "\u001b[1;32m<ipython-input-59-ed403fc09801>\u001b[0m in \u001b[0;36m<module>\u001b[1;34m()\u001b[0m\n\u001b[1;32m----> 1\u001b[1;33m \u001b[0mprint\u001b[0m\u001b[1;33m(\u001b[0m\u001b[0mi\u001b[0m\u001b[1;33m)\u001b[0m\u001b[1;33m\u001b[0m\u001b[0m\n\u001b[0m",
      "\u001b[1;31mNameError\u001b[0m: name 'i' is not defined"
     ]
    }
   ],
   "source": [
    "print(i) # i는 scope 때문에 a() 밖에서 못씀"
   ]
  },
  {
   "cell_type": "code",
   "execution_count": 62,
   "metadata": {},
   "outputs": [
    {
     "name": "stdout",
     "output_type": "stream",
     "text": [
      "0\n",
      "1\n",
      "2\n",
      "3\n",
      "4\n",
      "5\n",
      "6\n",
      "7\n",
      "8\n",
      "9\n",
      "10\n"
     ]
    }
   ],
   "source": [
    "for k in range(11) :\n",
    "    print(k)"
   ]
  },
  {
   "cell_type": "code",
   "execution_count": 63,
   "metadata": {},
   "outputs": [
    {
     "name": "stdout",
     "output_type": "stream",
     "text": [
      "10\n"
     ]
    }
   ],
   "source": [
    "print(k) # k는 살아있지만 (global)"
   ]
  },
  {
   "cell_type": "code",
   "execution_count": 60,
   "metadata": {},
   "outputs": [
    {
     "data": {
      "text/plain": [
       "[0, 1, 2, 3, 4, 5, 6, 7, 8, 9, 10]"
      ]
     },
     "execution_count": 60,
     "metadata": {},
     "output_type": "execute_result"
    }
   ],
   "source": [
    "[j for j in range(11)] "
   ]
  },
  {
   "cell_type": "code",
   "execution_count": 61,
   "metadata": {},
   "outputs": [
    {
     "ename": "NameError",
     "evalue": "name 'j' is not defined",
     "output_type": "error",
     "traceback": [
      "\u001b[1;31m---------------------------------------------------------------------------\u001b[0m",
      "\u001b[1;31mNameError\u001b[0m                                 Traceback (most recent call last)",
      "\u001b[1;32m<ipython-input-61-377bc305a864>\u001b[0m in \u001b[0;36m<module>\u001b[1;34m()\u001b[0m\n\u001b[1;32m----> 1\u001b[1;33m \u001b[0mprint\u001b[0m\u001b[1;33m(\u001b[0m\u001b[0mj\u001b[0m\u001b[1;33m)\u001b[0m\u001b[1;33m\u001b[0m\u001b[0m\n\u001b[0m",
      "\u001b[1;31mNameError\u001b[0m: name 'j' is not defined"
     ]
    }
   ],
   "source": [
    "print(j) # j는 없다 (local)"
   ]
  },
  {
   "cell_type": "code",
   "execution_count": 37,
   "metadata": {},
   "outputs": [
    {
     "data": {
      "text/plain": [
       "<generator object <genexpr> at 0x000000DFDCDC6D00>"
      ]
     },
     "execution_count": 37,
     "metadata": {},
     "output_type": "execute_result"
    }
   ],
   "source": [
    "# comprehension tuple 안됨\n",
    "a = (x for x in range(11))\n",
    "a"
   ]
  },
  {
   "cell_type": "code",
   "execution_count": 38,
   "metadata": {},
   "outputs": [
    {
     "data": {
      "text/plain": [
       "0"
      ]
     },
     "execution_count": 38,
     "metadata": {},
     "output_type": "execute_result"
    }
   ],
   "source": [
    "next(a)"
   ]
  },
  {
   "cell_type": "code",
   "execution_count": 39,
   "metadata": {},
   "outputs": [
    {
     "data": {
      "text/plain": [
       "1"
      ]
     },
     "execution_count": 39,
     "metadata": {},
     "output_type": "execute_result"
    }
   ],
   "source": [
    "next(a)"
   ]
  },
  {
   "cell_type": "code",
   "execution_count": 40,
   "metadata": {},
   "outputs": [
    {
     "data": {
      "text/plain": [
       "2"
      ]
     },
     "execution_count": 40,
     "metadata": {},
     "output_type": "execute_result"
    }
   ],
   "source": [
    "next(a)"
   ]
  },
  {
   "cell_type": "code",
   "execution_count": 41,
   "metadata": {},
   "outputs": [
    {
     "data": {
      "text/plain": [
       "3"
      ]
     },
     "execution_count": 41,
     "metadata": {},
     "output_type": "execute_result"
    }
   ],
   "source": [
    "next(a)"
   ]
  },
  {
   "cell_type": "code",
   "execution_count": 42,
   "metadata": {},
   "outputs": [
    {
     "data": {
      "text/plain": [
       "4"
      ]
     },
     "execution_count": 42,
     "metadata": {},
     "output_type": "execute_result"
    }
   ],
   "source": [
    "next(a)"
   ]
  },
  {
   "cell_type": "code",
   "execution_count": 43,
   "metadata": {},
   "outputs": [
    {
     "data": {
      "text/plain": [
       "5"
      ]
     },
     "execution_count": 43,
     "metadata": {},
     "output_type": "execute_result"
    }
   ],
   "source": [
    "next(a)"
   ]
  },
  {
   "cell_type": "markdown",
   "metadata": {},
   "source": [
    "generator : 필요한 시점마다(next 부를 때마다) 원소를 하나씩 보여줌 Lazy 기법\n",
    "\n",
    "크기가 큰 iterable을 만들땐 훨씬 속도가 빠름"
   ]
  },
  {
   "cell_type": "code",
   "execution_count": 45,
   "metadata": {},
   "outputs": [
    {
     "data": {
      "text/plain": [
       "7"
      ]
     },
     "execution_count": 45,
     "metadata": {},
     "output_type": "execute_result"
    }
   ],
   "source": [
    "a.__next__() #이렇게 쓸수도 있음"
   ]
  },
  {
   "cell_type": "code",
   "execution_count": 65,
   "metadata": {
    "collapsed": true
   },
   "outputs": [],
   "source": [
    "class Triangle(Polygon):\n",
    "    def __init__(self):\n",
    "        Polygon.__init__(self,3) # super().__init__(3) 인스턴스에만 쓰는건데 super()는 예외다\n",
    "\n",
    "    def findArea(self):\n",
    "        a, b, c = self.sides\n",
    "        # calculate the semi-perimeter\n",
    "        s = (a + b + c) / 2\n",
    "        area = (s*(s-a)*(s-b)*(s-c)) ** 0.5\n",
    "        print('The area of the triangle is %0.2f' %area)"
   ]
  },
  {
   "cell_type": "code",
   "execution_count": 68,
   "metadata": {
    "collapsed": true
   },
   "outputs": [],
   "source": [
    "tr = Triangle()"
   ]
  },
  {
   "cell_type": "code",
   "execution_count": 71,
   "metadata": {},
   "outputs": [
    {
     "name": "stdout",
     "output_type": "stream",
     "text": [
      "Enter side 1 : 4\n",
      "Enter side 2 : 4\n",
      "Enter side 3 : 4\n"
     ]
    }
   ],
   "source": [
    "tr.inputSides()"
   ]
  },
  {
   "cell_type": "code",
   "execution_count": 72,
   "metadata": {},
   "outputs": [
    {
     "name": "stdout",
     "output_type": "stream",
     "text": [
      "The area of the triangle is 6.93\n"
     ]
    }
   ],
   "source": [
    "tr.findArea()"
   ]
  },
  {
   "cell_type": "code",
   "execution_count": 77,
   "metadata": {},
   "outputs": [
    {
     "name": "stdout",
     "output_type": "stream",
     "text": [
      "True\n",
      "True\n",
      "True\n"
     ]
    }
   ],
   "source": [
    "# Output: True\n",
    "print(issubclass(list,object))\n",
    "\n",
    "# Output: True\n",
    "print(isinstance(5.5,object))\n",
    "\n",
    "# Output: True\n",
    "print(isinstance(\"Hello\",object))"
   ]
  },
  {
   "cell_type": "markdown",
   "metadata": {},
   "source": [
    "predicate : 참과 거짓을 반환하는 함수 (ex. issubclass)"
   ]
  },
  {
   "cell_type": "code",
   "execution_count": 79,
   "metadata": {},
   "outputs": [
    {
     "name": "stdout",
     "output_type": "stream",
     "text": [
      "[<class '__main__.M'>, <class '__main__.B'>, <class '__main__.A'>, <class '__main__.X'>, <class '__main__.Y'>, <class '__main__.Z'>, <class 'object'>]\n"
     ]
    }
   ],
   "source": [
    "# 다중상속 \n",
    "\n",
    "class X: pass\n",
    "class Y: pass\n",
    "class Z: pass\n",
    "\n",
    "class A(X,Y): pass\n",
    "class B(Y,Z): pass\n",
    "\n",
    "class M(B,A,Z): pass\n",
    "\n",
    "# Output:\n",
    "# [<class '__main__.M'>, <class '__main__.B'>,\n",
    "# <class '__main__.A'>, <class '__main__.X'>,\n",
    "# <class '__main__.Y'>, <class '__main__.Z'>,\n",
    "# <class 'object'>]\n",
    "\n",
    "print(M.mro()) \n",
    "# 다중상속의 순서(우선순위)를 나타냄 M > B > A > ?\n",
    "# Z는 B가 상속받았기 때문에 연관성을 낮추기 위해 X, Y보다 우선순위가 낮음..."
   ]
  },
  {
   "cell_type": "code",
   "execution_count": 80,
   "metadata": {},
   "outputs": [
    {
     "data": {
      "text/plain": [
       "(__main__.M,\n",
       " __main__.B,\n",
       " __main__.A,\n",
       " __main__.X,\n",
       " __main__.Y,\n",
       " __main__.Z,\n",
       " object)"
      ]
     },
     "execution_count": 80,
     "metadata": {},
     "output_type": "execute_result"
    }
   ],
   "source": [
    "M.__mro__"
   ]
  },
  {
   "cell_type": "code",
   "execution_count": 11,
   "metadata": {
    "collapsed": true
   },
   "outputs": [],
   "source": [
    "class Point:\n",
    "    def __init__(self, x = 0, y = 0):\n",
    "        self.x = x\n",
    "        self.y = y"
   ]
  },
  {
   "cell_type": "code",
   "execution_count": 81,
   "metadata": {
    "collapsed": true
   },
   "outputs": [],
   "source": [
    "# __str__, __repr__ 차이\n",
    "\n",
    "class B :\n",
    "    def __str__(self) : # print(변수명) 할때 보여줌\n",
    "        return 'str'\n",
    "    def __repr__(self) : # 변수명 할때 보여줌\n",
    "        return 'repr'"
   ]
  },
  {
   "cell_type": "code",
   "execution_count": 82,
   "metadata": {
    "collapsed": true
   },
   "outputs": [],
   "source": [
    "bb = B()"
   ]
  },
  {
   "cell_type": "code",
   "execution_count": 83,
   "metadata": {},
   "outputs": [
    {
     "name": "stdout",
     "output_type": "stream",
     "text": [
      "str\n"
     ]
    }
   ],
   "source": [
    "print(bb) "
   ]
  },
  {
   "cell_type": "code",
   "execution_count": 84,
   "metadata": {},
   "outputs": [
    {
     "data": {
      "text/plain": [
       "repr"
      ]
     },
     "execution_count": 84,
     "metadata": {},
     "output_type": "execute_result"
    }
   ],
   "source": [
    "bb"
   ]
  },
  {
   "cell_type": "code",
   "execution_count": 86,
   "metadata": {},
   "outputs": [
    {
     "data": {
      "text/plain": [
       "['__class__',\n",
       " '__delattr__',\n",
       " '__dir__',\n",
       " '__doc__',\n",
       " '__eq__',\n",
       " '__format__',\n",
       " '__ge__',\n",
       " '__getattribute__',\n",
       " '__gt__',\n",
       " '__hash__',\n",
       " '__init__',\n",
       " '__init_subclass__',\n",
       " '__le__',\n",
       " '__lt__',\n",
       " '__ne__',\n",
       " '__new__',\n",
       " '__reduce__',\n",
       " '__reduce_ex__',\n",
       " '__repr__',\n",
       " '__setattr__',\n",
       " '__sizeof__',\n",
       " '__str__',\n",
       " '__subclasshook__']"
      ]
     },
     "execution_count": 86,
     "metadata": {},
     "output_type": "execute_result"
    }
   ],
   "source": [
    "dir(object)"
   ]
  },
  {
   "cell_type": "code",
   "execution_count": 151,
   "metadata": {},
   "outputs": [],
   "source": [
    "# 연산자 오버로딩 -> 함수 한개만 오버라이딩 한다고 바뀌지 않음, 여러가지를 건들여야한다... 복잡쓰...\n",
    "\n",
    "class MyInt(int) :\n",
    "    def __init__(self, num) :\n",
    "        self.num = num\n",
    "    \n",
    "    def __add__(self, other) : # 덧셈연산\n",
    "        #super().__add__(other)\n",
    "        print('add')\n",
    "        return (self.num + other)*10\n",
    "    \n",
    "    def __radd__(self, other) :\n",
    "        print('radd')\n",
    "        return (self.num + other)*100\n",
    "    \n",
    "    def __sub__(self, other) :\n",
    "        print('sub')\n",
    "        return (self.num - other)*10\n",
    "    \n",
    "    def __str__(self) : # 결과가 나오게함\n",
    "        print('str')\n",
    "        return str(self.num)\n"
   ]
  },
  {
   "cell_type": "code",
   "execution_count": 147,
   "metadata": {},
   "outputs": [],
   "source": [
    "a = MyInt(3)\n",
    "b = MyInt(4)"
   ]
  },
  {
   "cell_type": "code",
   "execution_count": 149,
   "metadata": {},
   "outputs": [
    {
     "name": "stdout",
     "output_type": "stream",
     "text": [
      "add\n",
      "radd\n"
     ]
    },
    {
     "data": {
      "text/plain": [
       "7000"
      ]
     },
     "execution_count": 149,
     "metadata": {},
     "output_type": "execute_result"
    }
   ],
   "source": [
    "a+b"
   ]
  },
  {
   "cell_type": "code",
   "execution_count": 150,
   "metadata": {},
   "outputs": [
    {
     "name": "stdout",
     "output_type": "stream",
     "text": [
      "add\n",
      "radd\n",
      "7000\n"
     ]
    }
   ],
   "source": [
    "print(a+b)"
   ]
  },
  {
   "cell_type": "code",
   "execution_count": 141,
   "metadata": {},
   "outputs": [
    {
     "name": "stdout",
     "output_type": "stream",
     "text": [
      "str\n"
     ]
    },
    {
     "data": {
      "text/plain": [
       "'3'"
      ]
     },
     "execution_count": 141,
     "metadata": {},
     "output_type": "execute_result"
    }
   ],
   "source": [
    "a.__str__()"
   ]
  },
  {
   "cell_type": "code",
   "execution_count": 145,
   "metadata": {},
   "outputs": [
    {
     "name": "stdout",
     "output_type": "stream",
     "text": [
      "sub\n"
     ]
    },
    {
     "data": {
      "text/plain": [
       "-10"
      ]
     },
     "execution_count": 145,
     "metadata": {},
     "output_type": "execute_result"
    }
   ],
   "source": [
    "a-b"
   ]
  },
  {
   "cell_type": "code",
   "execution_count": 148,
   "metadata": {},
   "outputs": [
    {
     "name": "stdout",
     "output_type": "stream",
     "text": [
      "add\n",
      "radd\n"
     ]
    },
    {
     "data": {
      "text/plain": [
       "4000"
      ]
     },
     "execution_count": 148,
     "metadata": {},
     "output_type": "execute_result"
    }
   ],
   "source": [
    "MyInt(1) + MyInt(3) "
   ]
  },
  {
   "cell_type": "code",
   "execution_count": 128,
   "metadata": {},
   "outputs": [
    {
     "data": {
      "text/plain": [
       "['__abs__',\n",
       " '__add__',\n",
       " '__and__',\n",
       " '__bool__',\n",
       " '__ceil__',\n",
       " '__class__',\n",
       " '__delattr__',\n",
       " '__dir__',\n",
       " '__divmod__',\n",
       " '__doc__',\n",
       " '__eq__',\n",
       " '__float__',\n",
       " '__floor__',\n",
       " '__floordiv__',\n",
       " '__format__',\n",
       " '__ge__',\n",
       " '__getattribute__',\n",
       " '__getnewargs__',\n",
       " '__gt__',\n",
       " '__hash__',\n",
       " '__index__',\n",
       " '__init__',\n",
       " '__init_subclass__',\n",
       " '__int__',\n",
       " '__invert__',\n",
       " '__le__',\n",
       " '__lshift__',\n",
       " '__lt__',\n",
       " '__mod__',\n",
       " '__mul__',\n",
       " '__ne__',\n",
       " '__neg__',\n",
       " '__new__',\n",
       " '__or__',\n",
       " '__pos__',\n",
       " '__pow__',\n",
       " '__radd__',\n",
       " '__rand__',\n",
       " '__rdivmod__',\n",
       " '__reduce__',\n",
       " '__reduce_ex__',\n",
       " '__repr__',\n",
       " '__rfloordiv__',\n",
       " '__rlshift__',\n",
       " '__rmod__',\n",
       " '__rmul__',\n",
       " '__ror__',\n",
       " '__round__',\n",
       " '__rpow__',\n",
       " '__rrshift__',\n",
       " '__rshift__',\n",
       " '__rsub__',\n",
       " '__rtruediv__',\n",
       " '__rxor__',\n",
       " '__setattr__',\n",
       " '__sizeof__',\n",
       " '__str__',\n",
       " '__sub__',\n",
       " '__subclasshook__',\n",
       " '__truediv__',\n",
       " '__trunc__',\n",
       " '__xor__',\n",
       " 'bit_length',\n",
       " 'conjugate',\n",
       " 'denominator',\n",
       " 'from_bytes',\n",
       " 'imag',\n",
       " 'numerator',\n",
       " 'real',\n",
       " 'to_bytes']"
      ]
     },
     "execution_count": 128,
     "metadata": {},
     "output_type": "execute_result"
    }
   ],
   "source": [
    "dir(int)"
   ]
  },
  {
   "cell_type": "code",
   "execution_count": 12,
   "metadata": {
    "collapsed": true
   },
   "outputs": [],
   "source": [
    "class Point:\n",
    "    def __init__(self, x = 0, y = 0):\n",
    "        self.x = x\n",
    "        self.y = y\n",
    "    \n",
    "    def __str__(self):\n",
    "        return \"({0},{1})\".format(self.x,self.y)"
   ]
  },
  {
   "cell_type": "code",
   "execution_count": 13,
   "metadata": {
    "collapsed": true
   },
   "outputs": [],
   "source": [
    "class Point:\n",
    "    def __init__(self, x = 0, y = 0):\n",
    "        self.x = x\n",
    "        self.y = y\n",
    "    \n",
    "    def __str__(self):\n",
    "        return \"({0},{1})\".format(self.x,self.y)\n",
    "    \n",
    "    def __add__(self,other):\n",
    "        x = self.x + other.x\n",
    "        y = self.y + other.y\n",
    "        return Point(x,y)"
   ]
  },
  {
   "cell_type": "code",
   "execution_count": 14,
   "metadata": {
    "collapsed": true
   },
   "outputs": [],
   "source": [
    "class Point:\n",
    "    def __init__(self, x = 0, y = 0):\n",
    "        self.x = x\n",
    "        self.y = y\n",
    "    \n",
    "    def __str__(self):\n",
    "        return \"({0},{1})\".format(self.x,self.y)\n",
    "    \n",
    "    def __lt__(self,other):\n",
    "        self_mag = (self.x ** 2) + (self.y ** 2)\n",
    "        other_mag = (other.x ** 2) + (other.y ** 2)\n",
    "        return self_mag < other_mag"
   ]
  }
 ],
 "metadata": {
  "kernelspec": {
   "display_name": "Python 3",
   "language": "python",
   "name": "python3"
  },
  "language_info": {
   "codemirror_mode": {
    "name": "ipython",
    "version": 3
   },
   "file_extension": ".py",
   "mimetype": "text/x-python",
   "name": "python",
   "nbconvert_exporter": "python",
   "pygments_lexer": "ipython3",
   "version": "3.6.1"
  }
 },
 "nbformat": 4,
 "nbformat_minor": 2
}
