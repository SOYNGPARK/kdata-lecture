{
 "cells": [
  {
   "cell_type": "markdown",
   "metadata": {},
   "source": [
    "# Week2 7월 10일 화요일 \n",
    "\n",
    "# SQLAlchemy"
   ]
  },
  {
   "cell_type": "code",
   "execution_count": 1,
   "metadata": {},
   "outputs": [
    {
     "name": "stdout",
     "output_type": "stream",
     "text": [
      "alabaster (0.7.10)\n",
      "anaconda-client (1.6.3)\n",
      "anaconda-navigator (1.6.2)\n",
      "anaconda-project (0.6.0)\n",
      "asn1crypto (0.22.0)\n",
      "astroid (1.4.9)\n",
      "astropy (1.3.2)\n",
      "Babel (2.4.0)\n",
      "backports.shutil-get-terminal-size (1.0.0)\n",
      "beautifulsoup4 (4.6.0)\n",
      "bitarray (0.8.1)\n",
      "blaze (0.10.1)\n",
      "bleach (1.5.0)\n",
      "bokeh (0.12.5)\n",
      "boto (2.46.1)\n",
      "Bottleneck (1.2.1)\n",
      "cffi (1.10.0)\n",
      "chardet (3.0.3)\n",
      "click (6.7)\n",
      "cloudpickle (0.2.2)\n",
      "clyent (1.2.2)\n",
      "colorama (0.3.9)\n",
      "comtypes (1.1.2)\n",
      "conda (4.3.21)\n",
      "contextlib2 (0.5.5)\n",
      "cryptography (1.8.1)\n",
      "cycler (0.10.0)\n",
      "Cython (0.25.2)\n",
      "cytoolz (0.8.2)\n",
      "dask (0.14.3)\n",
      "datashape (0.5.4)\n",
      "decorator (4.0.11)\n",
      "distributed (1.16.3)\n",
      "docutils (0.13.1)\n",
      "entrypoints (0.2.2)\n",
      "et-xmlfile (1.0.1)\n",
      "fastcache (1.0.2)\n",
      "Flask (0.12.2)\n",
      "Flask-Cors (3.0.2)\n",
      "gevent (1.2.1)\n",
      "graphviz (0.8.2)\n",
      "greenlet (0.4.12)\n",
      "h5py (2.7.0)\n",
      "HeapDict (1.0.0)\n",
      "html5lib (0.999)\n",
      "idna (2.5)\n",
      "imagesize (0.7.1)\n",
      "imbalanced-learn (0.3.3)\n",
      "ipykernel (4.6.1)\n",
      "ipython (5.3.0)\n",
      "ipython-genutils (0.2.0)\n",
      "ipywidgets (6.0.0)\n",
      "isort (4.2.5)\n",
      "itsdangerous (0.24)\n",
      "jdcal (1.3)\n",
      "jedi (0.10.2)\n",
      "Jinja2 (2.9.6)\n",
      "jsonschema (2.6.0)\n",
      "jupyter (1.0.0)\n",
      "jupyter-client (5.0.1)\n",
      "jupyter-console (5.1.0)\n",
      "jupyter-core (4.3.0)\n",
      "lazy-object-proxy (1.2.2)\n",
      "llvmlite (0.18.0)\n",
      "locket (0.2.0)\n",
      "lxml (3.7.3)\n",
      "MarkupSafe (0.23)\n",
      "matplotlib (2.0.2)\n",
      "menuinst (1.4.7)\n",
      "mistune (0.7.4)\n",
      "mpmath (0.19)\n",
      "msgpack-python (0.4.8)\n",
      "multipledispatch (0.4.9)\n",
      "navigator-updater (0.1.0)\n",
      "nbconvert (5.1.1)\n",
      "nbformat (4.3.0)\n",
      "networkx (1.11)\n",
      "nltk (3.2.3)\n",
      "nose (1.3.7)\n",
      "notebook (5.0.0)\n",
      "numba (0.33.0)\n",
      "numexpr (2.6.2)\n",
      "numpy (1.12.1)\n",
      "numpydoc (0.6.0)\n",
      "odo (0.5.0)\n",
      "olefile (0.44)\n",
      "openpyxl (2.4.7)\n",
      "packaging (16.8)\n",
      "pandas (0.20.1)\n",
      "pandocfilters (1.4.1)\n",
      "partd (0.3.8)\n",
      "path.py (10.3.1)\n",
      "pathlib2 (2.2.1)\n",
      "patsy (0.4.1)\n",
      "pep8 (1.7.0)\n",
      "pickleshare (0.7.4)\n",
      "Pillow (4.1.1)\n",
      "pip (9.0.1)\n",
      "ply (3.10)\n",
      "prompt-toolkit (1.0.14)\n",
      "psutil (5.2.2)\n",
      "py (1.4.33)\n",
      "pycosat (0.6.2)\n",
      "pycparser (2.17)\n",
      "pycrypto (2.6.1)\n",
      "pycurl (7.43.0)\n",
      "pydotplus (2.0.2)\n",
      "pyflakes (1.5.0)\n",
      "Pygments (2.2.0)\n",
      "pylint (1.6.4)\n",
      "pyodbc (4.0.16)\n",
      "pyOpenSSL (17.0.0)\n",
      "pyparsing (2.1.4)\n",
      "pytest (3.0.7)\n",
      "python-dateutil (2.6.0)\n",
      "pytz (2017.2)\n",
      "PyWavelets (0.5.2)\n",
      "pywin32 (220)\n",
      "PyYAML (3.12)\n",
      "pyzmq (16.0.2)\n",
      "QtAwesome (0.4.4)\n",
      "qtconsole (4.3.0)\n",
      "QtPy (1.2.1)\n",
      "requests (2.14.2)\n",
      "rope-py3k (0.9.4.post1)\n",
      "scikit-image (0.13.0)\n",
      "scikit-learn (0.19.1)\n",
      "scipy (0.19.0)\n",
      "seaborn (0.7.1)\n",
      "setuptools (27.2.0)\n",
      "simplegeneric (0.8.1)\n",
      "singledispatch (3.4.0.3)\n",
      "six (1.10.0)\n",
      "snowballstemmer (1.2.1)\n",
      "sortedcollections (0.5.3)\n",
      "sortedcontainers (1.5.7)\n",
      "sphinx (1.5.6)\n",
      "spyder (3.1.4)\n",
      "SQLAlchemy (1.1.9)\n",
      "statsmodels (0.8.0)\n",
      "sympy (1.0)\n",
      "tables (3.2.2)\n",
      "tblib (1.3.2)\n",
      "testpath (0.3)\n",
      "toolz (0.8.2)\n",
      "tornado (4.5.1)\n",
      "traitlets (4.3.2)\n",
      "unicodecsv (0.14.1)\n",
      "wcwidth (0.1.7)\n",
      "Werkzeug (0.12.2)\n",
      "wheel (0.29.0)\n",
      "widgetsnbextension (2.0.0)\n",
      "win-unicode-console (0.5)\n",
      "wrapt (1.10.10)\n",
      "xlrd (1.0.0)\n",
      "XlsxWriter (0.9.6)\n",
      "xlwings (0.10.4)\n",
      "xlwt (1.2.0)\n",
      "zict (0.1.2)\n"
     ]
    },
    {
     "name": "stderr",
     "output_type": "stream",
     "text": [
      "DEPRECATION: The default format will switch to columns in the future. You can use --format=(legacy|columns) (or define a format=(legacy|columns) in your pip.conf under the [list] section) to disable this warning.\n"
     ]
    }
   ],
   "source": [
    "!pip list"
   ]
  },
  {
   "cell_type": "markdown",
   "metadata": {},
   "source": [
    "sqlalchemy 있는지 확인하기"
   ]
  },
  {
   "cell_type": "code",
   "execution_count": 1,
   "metadata": {
    "collapsed": true
   },
   "outputs": [],
   "source": [
    "from sqlalchemy import *"
   ]
  },
  {
   "cell_type": "code",
   "execution_count": 3,
   "metadata": {
    "collapsed": true
   },
   "outputs": [],
   "source": [
    "import sqlalchemy"
   ]
  },
  {
   "cell_type": "code",
   "execution_count": 4,
   "metadata": {},
   "outputs": [
    {
     "data": {
      "text/plain": [
       "'1.1.9'"
      ]
     },
     "execution_count": 4,
     "metadata": {},
     "output_type": "execute_result"
    }
   ],
   "source": [
    "sqlalchemy.__version__"
   ]
  },
  {
   "cell_type": "markdown",
   "metadata": {},
   "source": [
    "* engine"
   ]
  },
  {
   "cell_type": "code",
   "execution_count": 5,
   "metadata": {
    "collapsed": true
   },
   "outputs": [],
   "source": [
    "from sqlalchemy import create_engine"
   ]
  },
  {
   "cell_type": "code",
   "execution_count": 6,
   "metadata": {
    "collapsed": true
   },
   "outputs": [],
   "source": [
    "# create engine 시작지점\n",
    "engine = create_engine(\"sqlite:///alchemy_core.db\", echo=True)"
   ]
  },
  {
   "cell_type": "markdown",
   "metadata": {},
   "source": [
    "* metadata"
   ]
  },
  {
   "cell_type": "code",
   "execution_count": 7,
   "metadata": {
    "collapsed": true
   },
   "outputs": [],
   "source": [
    "from sqlalchemy import MetaData"
   ]
  },
  {
   "cell_type": "code",
   "execution_count": 8,
   "metadata": {
    "collapsed": true
   },
   "outputs": [],
   "source": [
    "metadata = MetaData()"
   ]
  },
  {
   "cell_type": "code",
   "execution_count": 9,
   "metadata": {},
   "outputs": [
    {
     "name": "stdout",
     "output_type": "stream",
     "text": [
      "MetaData(bind=None)\n"
     ]
    }
   ],
   "source": [
    "print(metadata)"
   ]
  },
  {
   "cell_type": "markdown",
   "metadata": {},
   "source": [
    "지금은 암것도 없음\n",
    "\n",
    "Object 을 만들어서 이안에 넣어줄거야"
   ]
  },
  {
   "cell_type": "markdown",
   "metadata": {},
   "source": [
    "* Create Table"
   ]
  },
  {
   "cell_type": "code",
   "execution_count": 9,
   "metadata": {
    "collapsed": true
   },
   "outputs": [],
   "source": [
    "from sqlalchemy import Table, Column, Integer, String, ForeignKey"
   ]
  },
  {
   "cell_type": "code",
   "execution_count": 10,
   "metadata": {
    "collapsed": true
   },
   "outputs": [],
   "source": [
    "users = Table('users', metadata,\n",
    "             Column('id', Integer, primary_key=True),\n",
    "             Column('name', String),\n",
    "             Column('fullname', String)\n",
    "             )"
   ]
  },
  {
   "cell_type": "code",
   "execution_count": 11,
   "metadata": {},
   "outputs": [
    {
     "name": "stdout",
     "output_type": "stream",
     "text": [
      "users\n"
     ]
    }
   ],
   "source": [
    "print(users)"
   ]
  },
  {
   "cell_type": "code",
   "execution_count": 12,
   "metadata": {
    "collapsed": true
   },
   "outputs": [],
   "source": [
    "address = Table('addresses', metadata,\n",
    "             Column('id', Integer, primary_key=True),\n",
    "             Column('user_id', Integer, ForeignKey('users.id')),\n",
    "             Column('email_address', String, nullable=False)\n",
    "             )"
   ]
  },
  {
   "cell_type": "code",
   "execution_count": 13,
   "metadata": {},
   "outputs": [
    {
     "name": "stdout",
     "output_type": "stream",
     "text": [
      "addresses\n"
     ]
    }
   ],
   "source": [
    "print(address)"
   ]
  },
  {
   "cell_type": "markdown",
   "metadata": {},
   "source": [
    "* Create all tables stored in this metadata"
   ]
  },
  {
   "cell_type": "code",
   "execution_count": 14,
   "metadata": {
    "scrolled": false
   },
   "outputs": [
    {
     "name": "stdout",
     "output_type": "stream",
     "text": [
      "2018-07-13 16:10:32,463 INFO sqlalchemy.engine.base.Engine SELECT CAST('test plain returns' AS VARCHAR(60)) AS anon_1\n",
      "2018-07-13 16:10:32,467 INFO sqlalchemy.engine.base.Engine ()\n",
      "2018-07-13 16:10:32,476 INFO sqlalchemy.engine.base.Engine SELECT CAST('test unicode returns' AS VARCHAR(60)) AS anon_1\n",
      "2018-07-13 16:10:32,480 INFO sqlalchemy.engine.base.Engine ()\n",
      "2018-07-13 16:10:32,489 INFO sqlalchemy.engine.base.Engine PRAGMA table_info(\"users\")\n",
      "2018-07-13 16:10:32,493 INFO sqlalchemy.engine.base.Engine ()\n",
      "2018-07-13 16:10:32,502 INFO sqlalchemy.engine.base.Engine PRAGMA table_info(\"addresses\")\n",
      "2018-07-13 16:10:32,506 INFO sqlalchemy.engine.base.Engine ()\n",
      "2018-07-13 16:10:32,515 INFO sqlalchemy.engine.base.Engine \n",
      "CREATE TABLE users (\n",
      "\tid INTEGER NOT NULL, \n",
      "\tname VARCHAR, \n",
      "\tfullname VARCHAR, \n",
      "\tPRIMARY KEY (id)\n",
      ")\n",
      "\n",
      "\n",
      "2018-07-13 16:10:32,519 INFO sqlalchemy.engine.base.Engine ()\n",
      "2018-07-13 16:10:32,554 INFO sqlalchemy.engine.base.Engine COMMIT\n",
      "2018-07-13 16:10:32,560 INFO sqlalchemy.engine.base.Engine \n",
      "CREATE TABLE addresses (\n",
      "\tid INTEGER NOT NULL, \n",
      "\tuser_id INTEGER, \n",
      "\temail_address VARCHAR NOT NULL, \n",
      "\tPRIMARY KEY (id), \n",
      "\tFOREIGN KEY(user_id) REFERENCES users (id)\n",
      ")\n",
      "\n",
      "\n",
      "2018-07-13 16:10:32,566 INFO sqlalchemy.engine.base.Engine ()\n",
      "2018-07-13 16:10:32,605 INFO sqlalchemy.engine.base.Engine COMMIT\n"
     ]
    }
   ],
   "source": [
    "metadata.create_all(engine) # 만든 테이블들을 engine을 통해서 바인딩"
   ]
  },
  {
   "cell_type": "code",
   "execution_count": 15,
   "metadata": {},
   "outputs": [
    {
     "name": "stdout",
     "output_type": "stream",
     "text": [
      "users\n",
      "addresses\n"
     ]
    }
   ],
   "source": [
    "# 테이블 확인하기\n",
    "for row in metadata.tables :\n",
    "    print(row)"
   ]
  },
  {
   "cell_type": "code",
   "execution_count": 16,
   "metadata": {},
   "outputs": [
    {
     "name": "stdout",
     "output_type": "stream",
     "text": [
      "MetaData(bind=None)\n"
     ]
    }
   ],
   "source": [
    "print(metadata) # 바인딩하고 끝나서 없음 할 때마다 engine을 통해서 바인딩 다시 해줘야해"
   ]
  },
  {
   "cell_type": "markdown",
   "metadata": {},
   "source": [
    "* Insert"
   ]
  },
  {
   "cell_type": "code",
   "execution_count": 22,
   "metadata": {},
   "outputs": [
    {
     "data": {
      "text/plain": [
       "<sqlalchemy.sql.dml.Insert object at 0x000000B956A89E80>"
      ]
     },
     "execution_count": 22,
     "metadata": {},
     "output_type": "execute_result"
    }
   ],
   "source": [
    "users.insert()"
   ]
  },
  {
   "cell_type": "code",
   "execution_count": 23,
   "metadata": {},
   "outputs": [
    {
     "name": "stdout",
     "output_type": "stream",
     "text": [
      "INSERT INTO users (id, name, fullname) VALUES (:id, :name, :fullname)\n"
     ]
    }
   ],
   "source": [
    "print(users.insert())"
   ]
  },
  {
   "cell_type": "code",
   "execution_count": 17,
   "metadata": {
    "collapsed": true
   },
   "outputs": [],
   "source": [
    "insert = users.insert().values(name='park', fullname='soyoung park')"
   ]
  },
  {
   "cell_type": "code",
   "execution_count": 18,
   "metadata": {},
   "outputs": [
    {
     "name": "stdout",
     "output_type": "stream",
     "text": [
      "INSERT INTO users (name, fullname) VALUES (:name, :fullname)\n"
     ]
    }
   ],
   "source": [
    "print(insert)"
   ]
  },
  {
   "cell_type": "code",
   "execution_count": 19,
   "metadata": {},
   "outputs": [
    {
     "data": {
      "text/plain": [
       "{'fullname': 'soyoung park', 'name': 'park'}"
      ]
     },
     "execution_count": 19,
     "metadata": {},
     "output_type": "execute_result"
    }
   ],
   "source": [
    "insert.compile().params"
   ]
  },
  {
   "cell_type": "markdown",
   "metadata": {},
   "source": [
    "insert 방법 1"
   ]
  },
  {
   "cell_type": "code",
   "execution_count": 20,
   "metadata": {
    "collapsed": true
   },
   "outputs": [],
   "source": [
    "insert.bind = engine # insert를 engine과 바인딩"
   ]
  },
  {
   "cell_type": "code",
   "execution_count": 21,
   "metadata": {
    "collapsed": true
   },
   "outputs": [],
   "source": [
    "# connection\n",
    "conn = engine.connect()"
   ]
  },
  {
   "cell_type": "code",
   "execution_count": 22,
   "metadata": {},
   "outputs": [
    {
     "name": "stdout",
     "output_type": "stream",
     "text": [
      "2018-07-13 16:11:00,762 INFO sqlalchemy.engine.base.Engine INSERT INTO users (name, fullname) VALUES (?, ?)\n",
      "2018-07-13 16:11:00,769 INFO sqlalchemy.engine.base.Engine ('park', 'soyoung park')\n",
      "2018-07-13 16:11:00,779 INFO sqlalchemy.engine.base.Engine COMMIT\n"
     ]
    }
   ],
   "source": [
    "result = conn.execute(insert)  # 바인딩된 insert를 실행, DB로 넘어감"
   ]
  },
  {
   "cell_type": "code",
   "execution_count": 23,
   "metadata": {
    "scrolled": true
   },
   "outputs": [
    {
     "data": {
      "text/plain": [
       "[1]"
      ]
     },
     "execution_count": 23,
     "metadata": {},
     "output_type": "execute_result"
    }
   ],
   "source": [
    "result.inserted_primary_key "
   ]
  },
  {
   "cell_type": "markdown",
   "metadata": {},
   "source": [
    "insert 방법 2"
   ]
  },
  {
   "cell_type": "code",
   "execution_count": 24,
   "metadata": {
    "scrolled": true
   },
   "outputs": [
    {
     "name": "stdout",
     "output_type": "stream",
     "text": [
      "2018-07-13 16:11:06,034 INFO sqlalchemy.engine.base.Engine INSERT INTO users (name, fullname) VALUES (?, ?)\n",
      "2018-07-13 16:11:06,040 INFO sqlalchemy.engine.base.Engine ('lee', 'jieun lee')\n",
      "2018-07-13 16:11:06,049 INFO sqlalchemy.engine.base.Engine COMMIT\n"
     ]
    },
    {
     "data": {
      "text/plain": [
       "<sqlalchemy.engine.result.ResultProxy at 0xbaddb27358>"
      ]
     },
     "execution_count": 24,
     "metadata": {},
     "output_type": "execute_result"
    }
   ],
   "source": [
    "conn.execute(users.insert(), name = 'lee', fullname = 'jieun lee')"
   ]
  },
  {
   "cell_type": "code",
   "execution_count": 25,
   "metadata": {},
   "outputs": [
    {
     "name": "stdout",
     "output_type": "stream",
     "text": [
      "2018-07-13 16:11:08,578 INFO sqlalchemy.engine.base.Engine INSERT INTO users (name, fullname) VALUES (?, ?)\n",
      "2018-07-13 16:11:08,584 INFO sqlalchemy.engine.base.Engine ('won', 'gangmin won')\n",
      "2018-07-13 16:11:08,595 INFO sqlalchemy.engine.base.Engine COMMIT\n"
     ]
    }
   ],
   "source": [
    "result = conn.execute(users.insert(), name = 'won', fullname = 'gangmin won')"
   ]
  },
  {
   "cell_type": "code",
   "execution_count": 26,
   "metadata": {},
   "outputs": [
    {
     "data": {
      "text/plain": [
       "[3]"
      ]
     },
     "execution_count": 26,
     "metadata": {},
     "output_type": "execute_result"
    }
   ],
   "source": [
    "result.inserted_primary_key"
   ]
  },
  {
   "cell_type": "markdown",
   "metadata": {},
   "source": [
    "한꺼번에 많이 insert 방법 "
   ]
  },
  {
   "cell_type": "code",
   "execution_count": 27,
   "metadata": {},
   "outputs": [
    {
     "name": "stdout",
     "output_type": "stream",
     "text": [
      "2018-07-13 16:11:13,756 INFO sqlalchemy.engine.base.Engine INSERT INTO addresses (user_id, email_address) VALUES (?, ?)\n",
      "2018-07-13 16:11:13,762 INFO sqlalchemy.engine.base.Engine ((1, 'soyng.park@gmail.com'), (4, 'rkdals52@naver.com'))\n",
      "2018-07-13 16:11:13,771 INFO sqlalchemy.engine.base.Engine COMMIT\n"
     ]
    },
    {
     "data": {
      "text/plain": [
       "<sqlalchemy.engine.result.ResultProxy at 0xbad92a7cf8>"
      ]
     },
     "execution_count": 27,
     "metadata": {},
     "output_type": "execute_result"
    }
   ],
   "source": [
    "conn.execute(address.insert(), [\n",
    "    {\"user_id\" : 1, \"email_address\" : \"soyng.park@gmail.com\"},\n",
    "    {\"user_id\" : 4, \"email_address\" : \"rkdals52@naver.com\"}\n",
    "])"
   ]
  },
  {
   "cell_type": "markdown",
   "metadata": {},
   "source": [
    "* Select"
   ]
  },
  {
   "cell_type": "code",
   "execution_count": 28,
   "metadata": {
    "collapsed": true
   },
   "outputs": [],
   "source": [
    "from sqlalchemy.sql import select"
   ]
  },
  {
   "cell_type": "code",
   "execution_count": 29,
   "metadata": {
    "collapsed": true
   },
   "outputs": [],
   "source": [
    "# 쿼리문을 알아서 만듦\n",
    "query = select([users]) # 칼럼명이 아닌 객체를 통째로 넣을 때는 괄호와 함께.."
   ]
  },
  {
   "cell_type": "code",
   "execution_count": 30,
   "metadata": {},
   "outputs": [
    {
     "name": "stdout",
     "output_type": "stream",
     "text": [
      "SELECT users.id, users.name, users.fullname \n",
      "FROM users\n"
     ]
    }
   ],
   "source": [
    "print(query)"
   ]
  },
  {
   "cell_type": "code",
   "execution_count": 31,
   "metadata": {},
   "outputs": [
    {
     "name": "stdout",
     "output_type": "stream",
     "text": [
      "2018-07-13 16:11:20,842 INFO sqlalchemy.engine.base.Engine SELECT users.id, users.name, users.fullname \n",
      "FROM users\n",
      "2018-07-13 16:11:20,848 INFO sqlalchemy.engine.base.Engine ()\n"
     ]
    }
   ],
   "source": [
    "result = conn.execute(query)"
   ]
  },
  {
   "cell_type": "code",
   "execution_count": 32,
   "metadata": {},
   "outputs": [
    {
     "name": "stdout",
     "output_type": "stream",
     "text": [
      "(1, 'park', 'soyoung park')\n",
      "(2, 'lee', 'jieun lee')\n",
      "(3, 'won', 'gangmin won')\n"
     ]
    }
   ],
   "source": [
    "for row in result :\n",
    "    print(row)"
   ]
  },
  {
   "cell_type": "code",
   "execution_count": 33,
   "metadata": {},
   "outputs": [
    {
     "name": "stdout",
     "output_type": "stream",
     "text": [
      "2018-07-13 16:11:27,291 INFO sqlalchemy.engine.base.Engine SELECT users.name, users.fullname \n",
      "FROM users\n",
      "2018-07-13 16:11:27,297 INFO sqlalchemy.engine.base.Engine ()\n"
     ]
    }
   ],
   "source": [
    "# 특정 컬럼만 가져오기\n",
    "result = conn.execute(select([users.c.name, users.c.fullname]))"
   ]
  },
  {
   "cell_type": "code",
   "execution_count": 34,
   "metadata": {},
   "outputs": [
    {
     "name": "stdout",
     "output_type": "stream",
     "text": [
      "park soyoung park\n"
     ]
    }
   ],
   "source": [
    "row = result.fetchone()\n",
    "print(row[\"name\"], row['fullname'])"
   ]
  },
  {
   "cell_type": "code",
   "execution_count": 35,
   "metadata": {},
   "outputs": [
    {
     "name": "stdout",
     "output_type": "stream",
     "text": [
      "2018-07-13 16:11:41,415 INFO sqlalchemy.engine.base.Engine SELECT users.name, users.fullname \n",
      "FROM users\n",
      "2018-07-13 16:11:41,419 INFO sqlalchemy.engine.base.Engine ()\n"
     ]
    }
   ],
   "source": [
    "# 특정 컬럼만 가져오기\n",
    "result = conn.execute(select([users.c.name, users.c.fullname]))"
   ]
  },
  {
   "cell_type": "code",
   "execution_count": 36,
   "metadata": {},
   "outputs": [
    {
     "name": "stdout",
     "output_type": "stream",
     "text": [
      "park soyoung park\n",
      "lee jieun lee\n",
      "won gangmin won\n"
     ]
    }
   ],
   "source": [
    "rows = result.fetchall()\n",
    "for row in rows :\n",
    "    print(row[0], row[1])"
   ]
  },
  {
   "cell_type": "markdown",
   "metadata": {},
   "source": [
    "* Where"
   ]
  },
  {
   "cell_type": "code",
   "execution_count": 59,
   "metadata": {
    "collapsed": true
   },
   "outputs": [],
   "source": [
    "from sqlalchemy import and_, or_, not_"
   ]
  },
  {
   "cell_type": "markdown",
   "metadata": {},
   "source": [
    "파이썬 문법으로 만들어진 sql 구문"
   ]
  },
  {
   "cell_type": "code",
   "execution_count": 60,
   "metadata": {},
   "outputs": [
    {
     "name": "stdout",
     "output_type": "stream",
     "text": [
      "users.id = addresses.user_id\n"
     ]
    }
   ],
   "source": [
    "print(users.c.id == address.c.user_id) "
   ]
  },
  {
   "cell_type": "code",
   "execution_count": 61,
   "metadata": {},
   "outputs": [
    {
     "name": "stdout",
     "output_type": "stream",
     "text": [
      "users.id = addresses.user_id OR users.id = :id_1\n"
     ]
    }
   ],
   "source": [
    "print(or_(users.c.id == address.c.user_id, users.c.id == 1))"
   ]
  },
  {
   "cell_type": "code",
   "execution_count": 64,
   "metadata": {},
   "outputs": [
    {
     "name": "stdout",
     "output_type": "stream",
     "text": [
      "users.id = addresses.user_id OR users.id = :id_1\n"
     ]
    }
   ],
   "source": [
    "print(((users.c.id == address.c.user_id) | (users.c.id == 1)))"
   ]
  },
  {
   "cell_type": "code",
   "execution_count": 65,
   "metadata": {},
   "outputs": [
    {
     "name": "stdout",
     "output_type": "stream",
     "text": [
      "2018-07-10 14:38:22,524 INFO sqlalchemy.engine.base.Engine SELECT users.id, users.name, users.fullname \n",
      "FROM users \n",
      "WHERE users.id = ?\n",
      "2018-07-10 14:38:22,530 INFO sqlalchemy.engine.base.Engine (1,)\n"
     ]
    }
   ],
   "source": [
    "result  = conn.execute(select([users]).\n",
    "                      where(users.c.id == 1))"
   ]
  },
  {
   "cell_type": "code",
   "execution_count": 67,
   "metadata": {},
   "outputs": [
    {
     "name": "stdout",
     "output_type": "stream",
     "text": [
      "[(1, 'park', 'soyoung park')]\n"
     ]
    }
   ],
   "source": [
    "print(result.fetchall())"
   ]
  },
  {
   "cell_type": "code",
   "execution_count": 68,
   "metadata": {},
   "outputs": [
    {
     "name": "stdout",
     "output_type": "stream",
     "text": [
      "2018-07-10 14:43:14,522 INFO sqlalchemy.engine.base.Engine SELECT users.fullname, addresses.email_address \n",
      "FROM users, addresses \n",
      "WHERE users.id = addresses.user_id\n",
      "2018-07-10 14:43:14,529 INFO sqlalchemy.engine.base.Engine ()\n"
     ]
    }
   ],
   "source": [
    "# join 없는 join\n",
    "result = conn.execute(select([users.c.fullname, address.c.email_address]).\n",
    "                      where(users.c.id == address.c.user_id))"
   ]
  },
  {
   "cell_type": "code",
   "execution_count": 69,
   "metadata": {},
   "outputs": [
    {
     "name": "stdout",
     "output_type": "stream",
     "text": [
      "[('soyoung park', 'soyng.park@gmail.com'), ('gangmin won', 'rkdals52@naver.com')]\n"
     ]
    }
   ],
   "source": [
    "print(result.fetchall())"
   ]
  },
  {
   "cell_type": "code",
   "execution_count": 74,
   "metadata": {},
   "outputs": [
    {
     "name": "stdout",
     "output_type": "stream",
     "text": [
      "2018-07-10 14:46:08,772 INFO sqlalchemy.engine.base.Engine SELECT users.id, users.name, users.fullname \n",
      "FROM users \n",
      "WHERE users.name LIKE ?\n",
      "2018-07-10 14:46:08,778 INFO sqlalchemy.engine.base.Engine ('p%',)\n"
     ]
    }
   ],
   "source": [
    "# 특정 문자열 포함\n",
    "result = conn.execute(select([users]).\n",
    "                      where(users.c.name.like(\"p%\")))"
   ]
  },
  {
   "cell_type": "code",
   "execution_count": 75,
   "metadata": {},
   "outputs": [
    {
     "name": "stdout",
     "output_type": "stream",
     "text": [
      "[(1, 'park', 'soyoung park'), (2, 'park', 'soyoung park')]\n"
     ]
    }
   ],
   "source": [
    "print(result.fetchall())"
   ]
  },
  {
   "cell_type": "code",
   "execution_count": 76,
   "metadata": {
    "scrolled": true
   },
   "outputs": [
    {
     "name": "stdout",
     "output_type": "stream",
     "text": [
      "2018-07-10 14:48:03,043 INFO sqlalchemy.engine.base.Engine SELECT users.fullname, addresses.email_address \n",
      "FROM users, addresses \n",
      "WHERE users.id = addresses.user_id AND users.name LIKE ?\n",
      "2018-07-10 14:48:03,049 INFO sqlalchemy.engine.base.Engine ('p%',)\n"
     ]
    }
   ],
   "source": [
    "# where 2개 -> and\n",
    "result = conn.execute(select([users.c.fullname, address.c.email_address]).\n",
    "                      where(users.c.id == address.c.user_id).\n",
    "                      where(users.c.name.like(\"p%\")))"
   ]
  },
  {
   "cell_type": "code",
   "execution_count": 77,
   "metadata": {},
   "outputs": [
    {
     "name": "stdout",
     "output_type": "stream",
     "text": [
      "[('soyoung park', 'soyng.park@gmail.com')]\n"
     ]
    }
   ],
   "source": [
    "print(result.fetchall())"
   ]
  },
  {
   "cell_type": "markdown",
   "metadata": {},
   "source": [
    "* join"
   ]
  },
  {
   "cell_type": "code",
   "execution_count": 11,
   "metadata": {
    "collapsed": true
   },
   "outputs": [],
   "source": [
    "from sqlalchemy import join"
   ]
  },
  {
   "cell_type": "code",
   "execution_count": 79,
   "metadata": {},
   "outputs": [
    {
     "name": "stdout",
     "output_type": "stream",
     "text": [
      "users JOIN addresses ON users.id = addresses.user_id\n"
     ]
    }
   ],
   "source": [
    "print(users.join(address))"
   ]
  },
  {
   "cell_type": "code",
   "execution_count": 81,
   "metadata": {},
   "outputs": [
    {
     "name": "stdout",
     "output_type": "stream",
     "text": [
      "users JOIN addresses ON users.id = addresses.user_id\n"
     ]
    }
   ],
   "source": [
    "print(users.join(address, users.c.id == address.c.user_id))\n",
    "# fk를 설정해주었다면 굳이 이렇게 할 필요없음"
   ]
  },
  {
   "cell_type": "code",
   "execution_count": 84,
   "metadata": {},
   "outputs": [
    {
     "name": "stdout",
     "output_type": "stream",
     "text": [
      "2018-07-10 15:12:08,498 INFO sqlalchemy.engine.base.Engine SELECT users.name, addresses.email_address \n",
      "FROM users JOIN addresses ON users.id = addresses.user_id\n",
      "2018-07-10 15:12:08,504 INFO sqlalchemy.engine.base.Engine ()\n"
     ]
    }
   ],
   "source": [
    "result = conn.execute(select([users.c.name, address.c.email_address]).\n",
    "                      select_from(users.join(address)))\n",
    "# on 절이 없음에도 잘했다"
   ]
  },
  {
   "cell_type": "code",
   "execution_count": 85,
   "metadata": {},
   "outputs": [
    {
     "name": "stdout",
     "output_type": "stream",
     "text": [
      "[('park', 'soyng.park@gmail.com'), ('won', 'rkdals52@naver.com')]\n"
     ]
    }
   ],
   "source": [
    "print(result.fetchall())"
   ]
  },
  {
   "cell_type": "markdown",
   "metadata": {},
   "source": [
    "* 예제"
   ]
  },
  {
   "cell_type": "code",
   "execution_count": 4,
   "metadata": {
    "collapsed": true
   },
   "outputs": [],
   "source": [
    "artist = Table(\"artist\", metadata,\n",
    "              Column(\"id\", Integer, primary_key=True),\n",
    "              Column(\"name\", String, nullable=False))\n",
    "\n",
    "album = Table(\"album\", metadata,\n",
    "              Column(\"id\", Integer, primary_key=True),\n",
    "              Column(\"title\", String, nullable=False),\n",
    "              Column(\"artist_id\", Integer, ForeignKey(\"artist.id\")))\n",
    "\n",
    "genre = Table(\"genre\", metadata,\n",
    "              Column(\"id\", Integer, primary_key=True),\n",
    "              Column(\"name\", String, nullable=False))"
   ]
  },
  {
   "cell_type": "code",
   "execution_count": 5,
   "metadata": {
    "collapsed": true
   },
   "outputs": [],
   "source": [
    "track = Table(\"track\", metadata,\n",
    "              Column(\"id\", Integer, primary_key=True),\n",
    "              Column(\"title\", String, nullable=False),\n",
    "              Column(\"album_id\", Integer, ForeignKey(\"album.id\")),\n",
    "              Column(\"genre_id\", Integer, ForeignKey(\"genre.id\")))"
   ]
  },
  {
   "cell_type": "code",
   "execution_count": 6,
   "metadata": {},
   "outputs": [
    {
     "name": "stdout",
     "output_type": "stream",
     "text": [
      "2018-07-10 16:28:15,778 INFO sqlalchemy.engine.base.Engine SELECT CAST('test plain returns' AS VARCHAR(60)) AS anon_1\n",
      "2018-07-10 16:28:15,812 INFO sqlalchemy.engine.base.Engine ()\n",
      "2018-07-10 16:28:15,822 INFO sqlalchemy.engine.base.Engine SELECT CAST('test unicode returns' AS VARCHAR(60)) AS anon_1\n",
      "2018-07-10 16:28:15,827 INFO sqlalchemy.engine.base.Engine ()\n",
      "2018-07-10 16:28:15,836 INFO sqlalchemy.engine.base.Engine PRAGMA table_info(\"artist\")\n",
      "2018-07-10 16:28:15,841 INFO sqlalchemy.engine.base.Engine ()\n",
      "2018-07-10 16:28:15,850 INFO sqlalchemy.engine.base.Engine PRAGMA table_info(\"album\")\n",
      "2018-07-10 16:28:15,856 INFO sqlalchemy.engine.base.Engine ()\n",
      "2018-07-10 16:28:15,862 INFO sqlalchemy.engine.base.Engine PRAGMA table_info(\"genre\")\n",
      "2018-07-10 16:28:15,867 INFO sqlalchemy.engine.base.Engine ()\n",
      "2018-07-10 16:28:15,873 INFO sqlalchemy.engine.base.Engine PRAGMA table_info(\"track\")\n",
      "2018-07-10 16:28:15,878 INFO sqlalchemy.engine.base.Engine ()\n",
      "2018-07-10 16:28:15,886 INFO sqlalchemy.engine.base.Engine \n",
      "CREATE TABLE artist (\n",
      "\tid INTEGER NOT NULL, \n",
      "\tname VARCHAR NOT NULL, \n",
      "\tPRIMARY KEY (id)\n",
      ")\n",
      "\n",
      "\n",
      "2018-07-10 16:28:15,891 INFO sqlalchemy.engine.base.Engine ()\n",
      "2018-07-10 16:28:15,955 INFO sqlalchemy.engine.base.Engine COMMIT\n",
      "2018-07-10 16:28:15,960 INFO sqlalchemy.engine.base.Engine \n",
      "CREATE TABLE genre (\n",
      "\tid INTEGER NOT NULL, \n",
      "\tname VARCHAR NOT NULL, \n",
      "\tPRIMARY KEY (id)\n",
      ")\n",
      "\n",
      "\n",
      "2018-07-10 16:28:15,965 INFO sqlalchemy.engine.base.Engine ()\n",
      "2018-07-10 16:28:16,004 INFO sqlalchemy.engine.base.Engine COMMIT\n",
      "2018-07-10 16:28:16,011 INFO sqlalchemy.engine.base.Engine \n",
      "CREATE TABLE album (\n",
      "\tid INTEGER NOT NULL, \n",
      "\ttitle VARCHAR NOT NULL, \n",
      "\tartist_id INTEGER, \n",
      "\tPRIMARY KEY (id), \n",
      "\tFOREIGN KEY(artist_id) REFERENCES artist (id)\n",
      ")\n",
      "\n",
      "\n",
      "2018-07-10 16:28:16,015 INFO sqlalchemy.engine.base.Engine ()\n",
      "2018-07-10 16:28:16,053 INFO sqlalchemy.engine.base.Engine COMMIT\n",
      "2018-07-10 16:28:16,063 INFO sqlalchemy.engine.base.Engine \n",
      "CREATE TABLE track (\n",
      "\tid INTEGER NOT NULL, \n",
      "\ttitle VARCHAR NOT NULL, \n",
      "\talbum_id INTEGER, \n",
      "\tgenre_id INTEGER, \n",
      "\tPRIMARY KEY (id), \n",
      "\tFOREIGN KEY(album_id) REFERENCES album (id), \n",
      "\tFOREIGN KEY(genre_id) REFERENCES genre (id)\n",
      ")\n",
      "\n",
      "\n",
      "2018-07-10 16:28:16,070 INFO sqlalchemy.engine.base.Engine ()\n",
      "2018-07-10 16:28:16,109 INFO sqlalchemy.engine.base.Engine COMMIT\n"
     ]
    }
   ],
   "source": [
    "metadata.create_all(engine)"
   ]
  },
  {
   "cell_type": "code",
   "execution_count": 90,
   "metadata": {},
   "outputs": [
    {
     "name": "stdout",
     "output_type": "stream",
     "text": [
      "users\n",
      "addresses\n",
      "artist\n",
      "album\n",
      "genre\n",
      "track\n"
     ]
    }
   ],
   "source": [
    "for t in metadata.tables :\n",
    "    print(t)"
   ]
  },
  {
   "cell_type": "code",
   "execution_count": 91,
   "metadata": {},
   "outputs": [
    {
     "name": "stdout",
     "output_type": "stream",
     "text": [
      "2018-07-10 15:25:15,405 INFO sqlalchemy.engine.base.Engine \n",
      "DROP TABLE users\n",
      "2018-07-10 15:25:15,412 INFO sqlalchemy.engine.base.Engine ()\n",
      "2018-07-10 15:25:15,418 INFO sqlalchemy.engine.base.Engine COMMIT\n"
     ]
    }
   ],
   "source": [
    "users.drop(engine)"
   ]
  },
  {
   "cell_type": "code",
   "execution_count": 92,
   "metadata": {},
   "outputs": [
    {
     "name": "stdout",
     "output_type": "stream",
     "text": [
      "2018-07-10 15:25:34,163 INFO sqlalchemy.engine.base.Engine \n",
      "DROP TABLE addresses\n",
      "2018-07-10 15:25:34,169 INFO sqlalchemy.engine.base.Engine ()\n",
      "2018-07-10 15:25:34,175 INFO sqlalchemy.engine.base.Engine COMMIT\n"
     ]
    }
   ],
   "source": [
    "address.drop(engine)"
   ]
  },
  {
   "cell_type": "code",
   "execution_count": 94,
   "metadata": {},
   "outputs": [
    {
     "name": "stdout",
     "output_type": "stream",
     "text": [
      "2018-07-10 15:26:08,451 INFO sqlalchemy.engine.base.Engine SELECT name FROM sqlite_master WHERE type='table' ORDER BY name\n",
      "2018-07-10 15:26:08,457 INFO sqlalchemy.engine.base.Engine ()\n",
      "album\n",
      "artist\n",
      "genre\n",
      "track\n"
     ]
    }
   ],
   "source": [
    "for t in engine.table_names() :\n",
    "    print(t)"
   ]
  },
  {
   "cell_type": "code",
   "execution_count": 95,
   "metadata": {},
   "outputs": [
    {
     "name": "stdout",
     "output_type": "stream",
     "text": [
      "users\n",
      "addresses\n",
      "artist\n",
      "album\n",
      "genre\n",
      "track\n"
     ]
    }
   ],
   "source": [
    "for t in metadata.tables :\n",
    "    print(t)"
   ]
  },
  {
   "cell_type": "markdown",
   "metadata": {},
   "source": [
    "engine에서는 drop한 테이블들 지워졌지면 metadata에서는 안지워짐"
   ]
  },
  {
   "cell_type": "code",
   "execution_count": 9,
   "metadata": {},
   "outputs": [
    {
     "name": "stdout",
     "output_type": "stream",
     "text": [
      "2018-07-10 16:28:46,811 INFO sqlalchemy.engine.base.Engine INSERT INTO artist (name) VALUES (?)\n",
      "2018-07-10 16:28:46,817 INFO sqlalchemy.engine.base.Engine (('IU',), ('AKMU',))\n",
      "2018-07-10 16:28:46,834 INFO sqlalchemy.engine.base.Engine COMMIT\n",
      "2018-07-10 16:28:46,869 INFO sqlalchemy.engine.base.Engine INSERT INTO album (title, artist_id) VALUES (?, ?)\n",
      "2018-07-10 16:28:46,874 INFO sqlalchemy.engine.base.Engine (('Pallete', 1), ('Four Springs', 2))\n",
      "2018-07-10 16:28:46,885 INFO sqlalchemy.engine.base.Engine COMMIT\n",
      "2018-07-10 16:28:46,923 INFO sqlalchemy.engine.base.Engine INSERT INTO genre (name) VALUES (?)\n",
      "2018-07-10 16:28:46,928 INFO sqlalchemy.engine.base.Engine (('Duet',), ('Single',))\n",
      "2018-07-10 16:28:46,939 INFO sqlalchemy.engine.base.Engine COMMIT\n",
      "2018-07-10 16:28:46,973 INFO sqlalchemy.engine.base.Engine INSERT INTO track (title, album_id, genre_id) VALUES (?, ?, ?)\n",
      "2018-07-10 16:28:46,978 INFO sqlalchemy.engine.base.Engine (('To Name', 1, 2), ('Four Springs', 2, 1), ('Love is so so', 1, 1))\n",
      "2018-07-10 16:28:46,989 INFO sqlalchemy.engine.base.Engine COMMIT\n"
     ]
    },
    {
     "data": {
      "text/plain": [
       "<sqlalchemy.engine.result.ResultProxy at 0x1091e6ed68>"
      ]
     },
     "execution_count": 9,
     "metadata": {},
     "output_type": "execute_result"
    }
   ],
   "source": [
    "conn.execute(artist.insert(), [\n",
    "    {\"name\" : \"IU\"},\n",
    "    {\"name\" : \"AKMU\"}\n",
    "])\n",
    "\n",
    "conn.execute(album.insert(), [\n",
    "    {\"title\" : \"Pallete\", \"artist_id\" : 1},\n",
    "    {\"title\" : \"Four Springs\", \"artist_id\" : 2}\n",
    "])\n",
    "\n",
    "conn.execute(genre.insert(), [\n",
    "    {\"name\" : \"Duet\"},\n",
    "    {\"name\" : \"Single\"}\n",
    "])\n",
    "\n",
    "conn.execute(track.insert(), [\n",
    "    {\"title\" : \"To Name\", \"album_id\" : 1, \"genre_id\" : 2},\n",
    "    {\"title\" : \"Four Springs\",  \"album_id\" : 2, \"genre_id\" : 1},\n",
    "    {\"title\" : \"Love is so so\",  \"album_id\" : 1, \"genre_id\" : 1}\n",
    "])"
   ]
  },
  {
   "cell_type": "code",
   "execution_count": 99,
   "metadata": {},
   "outputs": [
    {
     "name": "stdout",
     "output_type": "stream",
     "text": [
      "2018-07-10 15:36:49,990 INFO sqlalchemy.engine.base.Engine SELECT artist.id, artist.name \n",
      "FROM artist\n",
      "2018-07-10 15:36:49,996 INFO sqlalchemy.engine.base.Engine ()\n",
      "<sqlalchemy.engine.result.ResultProxy object at 0x000000B95527E630> \n",
      " [(1, 'IU'), (2, 'AKMU')]\n"
     ]
    }
   ],
   "source": [
    "artistResult = conn.execute(artist.select())\n",
    "print(artistResult,'\\n', artistResult.fetchall())"
   ]
  },
  {
   "cell_type": "code",
   "execution_count": 104,
   "metadata": {},
   "outputs": [
    {
     "name": "stdout",
     "output_type": "stream",
     "text": [
      "2018-07-10 15:41:52,203 INFO sqlalchemy.engine.base.Engine SELECT album.title, track.title \n",
      "FROM album, track \n",
      "WHERE album.id = ? AND album.id = track.album_id\n",
      "2018-07-10 15:41:52,209 INFO sqlalchemy.engine.base.Engine (1,)\n",
      "<sqlalchemy.engine.result.ResultProxy object at 0x000000B956A54240>\n",
      "('Pallete', 'To Name')\n",
      "('Pallete', 'Love is so so')\n"
     ]
    }
   ],
   "source": [
    "r = conn.execute(select([album.c.title, track.c.title]).\n",
    "                where(and_(album.c.id == 1, \n",
    "                           album.c.id == track.c.album_id)))\n",
    "print(r)\n",
    "for i in r :\n",
    "    print(i)"
   ]
  },
  {
   "cell_type": "markdown",
   "metadata": {},
   "source": [
    "* update"
   ]
  },
  {
   "cell_type": "code",
   "execution_count": 105,
   "metadata": {
    "collapsed": true
   },
   "outputs": [],
   "source": [
    "from sqlalchemy import update"
   ]
  },
  {
   "cell_type": "code",
   "execution_count": 107,
   "metadata": {},
   "outputs": [
    {
     "name": "stdout",
     "output_type": "stream",
     "text": [
      "2018-07-10 15:48:11,978 INFO sqlalchemy.engine.base.Engine UPDATE track SET genre_id=? WHERE track.title = ?\n",
      "2018-07-10 15:48:11,984 INFO sqlalchemy.engine.base.Engine (1, 'Love is so so')\n",
      "2018-07-10 15:48:11,990 INFO sqlalchemy.engine.base.Engine COMMIT\n"
     ]
    },
    {
     "data": {
      "text/plain": [
       "<sqlalchemy.engine.result.ResultProxy at 0xb956aab400>"
      ]
     },
     "execution_count": 107,
     "metadata": {},
     "output_type": "execute_result"
    }
   ],
   "source": [
    "conn.execute(track.update().values(genre_id = 1)\n",
    "             .where(track.c.title == 'Love is so so'))"
   ]
  },
  {
   "cell_type": "code",
   "execution_count": 110,
   "metadata": {},
   "outputs": [
    {
     "name": "stdout",
     "output_type": "stream",
     "text": [
      "2018-07-10 15:50:46,604 INFO sqlalchemy.engine.base.Engine SELECT track.title, album.title \n",
      "FROM track JOIN album ON album.id = track.album_id\n",
      "2018-07-10 15:50:46,611 INFO sqlalchemy.engine.base.Engine ()\n",
      "[('To Name', 'Pallete'), ('Four Springs', 'Four Springs'), ('Love is so so', 'Pallete')]\n"
     ]
    }
   ],
   "source": [
    "r = conn.execute(select([track.c.title, album.c.title]).\n",
    "            select_from(track.join(album)))\n",
    "print(r.fetchall())"
   ]
  },
  {
   "cell_type": "code",
   "execution_count": 115,
   "metadata": {},
   "outputs": [
    {
     "name": "stdout",
     "output_type": "stream",
     "text": [
      "2018-07-10 16:13:05,343 INFO sqlalchemy.engine.base.Engine UPDATE track SET title=? WHERE track.title = ?\n",
      "2018-07-10 16:13:05,349 INFO sqlalchemy.engine.base.Engine ('Way to go back home', 'Four Springs')\n",
      "2018-07-10 16:13:05,355 INFO sqlalchemy.engine.base.Engine COMMIT\n"
     ]
    },
    {
     "data": {
      "text/plain": [
       "<sqlalchemy.engine.result.ResultProxy at 0xb956a899b0>"
      ]
     },
     "execution_count": 115,
     "metadata": {},
     "output_type": "execute_result"
    }
   ],
   "source": [
    "conn.execute(track.update().values(title = 'Way to go back home')\n",
    "             .where(track.c.title == 'Four Springs'))"
   ]
  },
  {
   "cell_type": "code",
   "execution_count": 116,
   "metadata": {},
   "outputs": [
    {
     "name": "stdout",
     "output_type": "stream",
     "text": [
      "2018-07-10 16:13:07,639 INFO sqlalchemy.engine.base.Engine SELECT track.id, track.title, track.album_id, track.genre_id \n",
      "FROM track\n",
      "2018-07-10 16:13:07,645 INFO sqlalchemy.engine.base.Engine ()\n",
      "[(1, 'To Name', 1, 2), (2, 'Way to go back home', 2, 1), (3, 'Love is so so', 1, 1)]\n"
     ]
    }
   ],
   "source": [
    "r = conn.execute(select([track]))\n",
    "print(r.fetchall())"
   ]
  },
  {
   "cell_type": "markdown",
   "metadata": {},
   "source": [
    "* 다중 조인"
   ]
  },
  {
   "cell_type": "code",
   "execution_count": 117,
   "metadata": {},
   "outputs": [
    {
     "name": "stdout",
     "output_type": "stream",
     "text": [
      "track JOIN album ON album.id = track.album_id\n"
     ]
    }
   ],
   "source": [
    "print(track.join(album))"
   ]
  },
  {
   "cell_type": "code",
   "execution_count": 118,
   "metadata": {},
   "outputs": [
    {
     "name": "stdout",
     "output_type": "stream",
     "text": [
      "track JOIN genre ON genre.id = track.genre_id\n"
     ]
    }
   ],
   "source": [
    "print(track.join(genre))"
   ]
  },
  {
   "cell_type": "code",
   "execution_count": 119,
   "metadata": {},
   "outputs": [
    {
     "name": "stdout",
     "output_type": "stream",
     "text": [
      "track JOIN album ON album.id = track.album_id JOIN genre ON genre.id = track.genre_id\n"
     ]
    }
   ],
   "source": [
    "print(track.join(album).join(genre))"
   ]
  },
  {
   "cell_type": "code",
   "execution_count": 121,
   "metadata": {},
   "outputs": [
    {
     "name": "stdout",
     "output_type": "stream",
     "text": [
      "track JOIN album ON album.id = track.album_id JOIN genre ON genre.id = track.genre_id JOIN artist ON artist.id = album.artist_id\n"
     ]
    }
   ],
   "source": [
    "print(track.join(album).join(genre).join(artist))"
   ]
  },
  {
   "cell_type": "code",
   "execution_count": 123,
   "metadata": {},
   "outputs": [
    {
     "name": "stdout",
     "output_type": "stream",
     "text": [
      "2018-07-10 16:16:50,126 INFO sqlalchemy.engine.base.Engine SELECT track.title, genre.name, album.title, artist.name \n",
      "FROM track JOIN album ON album.id = track.album_id JOIN genre ON genre.id = track.genre_id JOIN artist ON artist.id = album.artist_id\n",
      "2018-07-10 16:16:50,132 INFO sqlalchemy.engine.base.Engine ()\n"
     ]
    }
   ],
   "source": [
    "r = conn.execute(select([\n",
    "    track.c.title, genre.c.name, album.c.title, artist.c.name\n",
    "]).select_from(track.join(album).join(genre).join(artist)))"
   ]
  },
  {
   "cell_type": "code",
   "execution_count": 124,
   "metadata": {},
   "outputs": [
    {
     "name": "stdout",
     "output_type": "stream",
     "text": [
      "('To Name', 'Single', 'Pallete', 'IU')\n",
      "('Way to go back home', 'Duet', 'Four Springs', 'AKMU')\n",
      "('Love is so so', 'Duet', 'Pallete', 'IU')\n"
     ]
    }
   ],
   "source": [
    "for i in r :\n",
    "    print(i)"
   ]
  },
  {
   "cell_type": "code",
   "execution_count": 133,
   "metadata": {},
   "outputs": [
    {
     "name": "stdout",
     "output_type": "stream",
     "text": [
      "2018-07-10 16:22:19,839 INFO sqlalchemy.engine.base.Engine SELECT track.title, genre.name, album.title, artist.name \n",
      "FROM track JOIN album ON album.id = track.album_id JOIN genre ON genre.id = track.genre_id JOIN artist ON artist.id = album.artist_id \n",
      "WHERE artist.name = ? AND track.title LIKE ?\n",
      "2018-07-10 16:22:19,845 INFO sqlalchemy.engine.base.Engine ('IU', '%Love%')\n"
     ]
    }
   ],
   "source": [
    "r = conn.execute(select([\n",
    "    track.c.title, genre.c.name, album.c.title, artist.c.name\n",
    "]).select_from(track.join(album).join(genre).join(artist)).where(artist.c.name == 'IU').where(track.c.title.like(\"%Love%\")))"
   ]
  },
  {
   "cell_type": "code",
   "execution_count": 134,
   "metadata": {},
   "outputs": [
    {
     "name": "stdout",
     "output_type": "stream",
     "text": [
      "('Love is so so', 'Duet', 'Pallete', 'IU')\n"
     ]
    }
   ],
   "source": [
    "for i in r :\n",
    "    print(i)"
   ]
  },
  {
   "cell_type": "code",
   "execution_count": null,
   "metadata": {
    "collapsed": true
   },
   "outputs": [],
   "source": []
  }
 ],
 "metadata": {
  "kernelspec": {
   "display_name": "Python 3",
   "language": "python",
   "name": "python3"
  },
  "language_info": {
   "codemirror_mode": {
    "name": "ipython",
    "version": 3
   },
   "file_extension": ".py",
   "mimetype": "text/x-python",
   "name": "python",
   "nbconvert_exporter": "python",
   "pygments_lexer": "ipython3",
   "version": "3.6.1"
  }
 },
 "nbformat": 4,
 "nbformat_minor": 2
}
