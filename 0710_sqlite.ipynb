{
 "cells": [
  {
   "cell_type": "markdown",
   "metadata": {},
   "source": [
    "# Week2 7월 10일 화요일 \n",
    "\n",
    "# RDBMS, Sqlite"
   ]
  },
  {
   "cell_type": "code",
   "execution_count": 45,
   "metadata": {
    "collapsed": true
   },
   "outputs": [],
   "source": [
    "import sqlite3"
   ]
  },
  {
   "cell_type": "code",
   "execution_count": 52,
   "metadata": {
    "collapsed": true
   },
   "outputs": [],
   "source": [
    "conn = sqlite3.connect(\":memory:\")"
   ]
  },
  {
   "cell_type": "code",
   "execution_count": 53,
   "metadata": {
    "collapsed": true
   },
   "outputs": [],
   "source": [
    "cur = conn.cursor()"
   ]
  },
  {
   "cell_type": "code",
   "execution_count": 54,
   "metadata": {},
   "outputs": [
    {
     "data": {
      "text/plain": [
       "<sqlite3.Cursor at 0xed11a5a650>"
      ]
     },
     "execution_count": 54,
     "metadata": {},
     "output_type": "execute_result"
    }
   ],
   "source": [
    "cur.executescript(\n",
    "'''\n",
    "        CREATE TABLE Artist(\n",
    "            id INTEGER PRIMARY KEY AUTOINCREMENT,\n",
    "            name TEXT NOT NULL\n",
    "        );\n",
    "        \n",
    "        CREATE TABLE Genre(\n",
    "            id INTEGER PRIMARY KEY AUTOINCREMENT,\n",
    "            name TEXT NOT NULL\n",
    "        );\n",
    "        \n",
    "        CREATE TABLE Album(\n",
    "            id INTEGER PRIMARY KEY AUTOINCREMENT,\n",
    "            title TEXT NOT NULL,\n",
    "            artist_id INTEGER\n",
    "        );\n",
    "        \n",
    "        CREATE TABLE Track(\n",
    "            id INTEGER PRIMARY KEY AUTOINCREMENT,\n",
    "            title TEXT NOT NULL,\n",
    "            length INTEGER,\n",
    "            rating INTERGER,\n",
    "            count INTERGER,\n",
    "            album_id INTEGER,\n",
    "            genre_id INTEGER\n",
    "        );\n",
    "        \n",
    "        INSERT INTO Artist (name) VALUES('IU');\n",
    "        INSERT INTO Artist (name) VALUES('AKMU');\n",
    "        \n",
    "        INSERT INTO Genre (name) VALUES('Duet');\n",
    "        INSERT INTO Genre (name) VALUES('Solo');\n",
    "\n",
    "''')"
   ]
  },
  {
   "cell_type": "code",
   "execution_count": 55,
   "metadata": {},
   "outputs": [
    {
     "data": {
      "text/plain": [
       "<sqlite3.Cursor at 0xed11a5a650>"
      ]
     },
     "execution_count": 55,
     "metadata": {},
     "output_type": "execute_result"
    }
   ],
   "source": [
    "cur.execute(\"SELECT * FROM Artist;\")"
   ]
  },
  {
   "cell_type": "code",
   "execution_count": 56,
   "metadata": {},
   "outputs": [
    {
     "name": "stdout",
     "output_type": "stream",
     "text": [
      "[(1, 'IU'), (2, 'AKMU')]\n"
     ]
    }
   ],
   "source": [
    "print(cur.fetchall())"
   ]
  },
  {
   "cell_type": "code",
   "execution_count": 58,
   "metadata": {},
   "outputs": [],
   "source": [
    "try :\n",
    "    cur.executescript('''\n",
    "        INSERT INTO Album (title, artist_id) VALUES('Pallete', 1);\n",
    "        INSERT INTO Album (title, artist_id) VALUES('FourSpring', 2);\n",
    "        \n",
    "        INSERT INTO Track (title, album_id, genre_id) VALUES('Pallete', 1, 2);\n",
    "        INSERT INTO Track (title, album_id, genre_id) VALUES('Go back home', 2, 1);\n",
    "    \n",
    "    ''')\n",
    "except Exception as e :\n",
    "    if conn :\n",
    "        conn.rollback()\n",
    "        \n",
    "        print(\"Error:\", e)"
   ]
  },
  {
   "cell_type": "code",
   "execution_count": 60,
   "metadata": {},
   "outputs": [
    {
     "name": "stdout",
     "output_type": "stream",
     "text": [
      "[(1, 'Pallete', 1), (2, 'FourSpring', 2)]\n"
     ]
    }
   ],
   "source": [
    "cur.execute(\"SELECT * FROM Album;\")\n",
    "print(cur.fetchall())"
   ]
  },
  {
   "cell_type": "code",
   "execution_count": 61,
   "metadata": {},
   "outputs": [
    {
     "name": "stdout",
     "output_type": "stream",
     "text": [
      "[(1, 'Pallete', None, None, None, 1, 2), (2, 'Go back home', None, None, None, 2, 1)]\n"
     ]
    }
   ],
   "source": [
    "cur.execute(\"SELECT * FROM Track;\")\n",
    "print(cur.fetchall())"
   ]
  },
  {
   "cell_type": "code",
   "execution_count": 62,
   "metadata": {},
   "outputs": [
    {
     "name": "stdout",
     "output_type": "stream",
     "text": [
      "[(1, 'IU', 1, 'Pallete', 1), (1, 'IU', 2, 'FourSpring', 2), (2, 'AKMU', 1, 'Pallete', 1), (2, 'AKMU', 2, 'FourSpring', 2)]\n"
     ]
    }
   ],
   "source": [
    "# cross join 1\n",
    "cur.execute(\"SELECT * FROM Artist, Album;\")\n",
    "print(cur.fetchall())"
   ]
  },
  {
   "cell_type": "code",
   "execution_count": 63,
   "metadata": {},
   "outputs": [
    {
     "name": "stdout",
     "output_type": "stream",
     "text": [
      "[(1, 'IU', 1, 'Pallete', 1), (1, 'IU', 2, 'FourSpring', 2), (2, 'AKMU', 1, 'Pallete', 1), (2, 'AKMU', 2, 'FourSpring', 2)]\n"
     ]
    }
   ],
   "source": [
    "# cross join 2\n",
    "cur.execute(\"SELECT * FROM Artist join Album;\")\n",
    "print(cur.fetchall())"
   ]
  },
  {
   "cell_type": "code",
   "execution_count": 64,
   "metadata": {},
   "outputs": [
    {
     "name": "stdout",
     "output_type": "stream",
     "text": [
      "[(1, 'IU', 1, 'Pallete', 1), (1, 'IU', 2, 'FourSpring', 2), (2, 'AKMU', 1, 'Pallete', 1), (2, 'AKMU', 2, 'FourSpring', 2)]\n"
     ]
    }
   ],
   "source": [
    "# cross join 2\n",
    "cur.execute(\"SELECT * FROM Artist cross join Album;\")\n",
    "print(cur.fetchall())"
   ]
  },
  {
   "cell_type": "code",
   "execution_count": 66,
   "metadata": {},
   "outputs": [
    {
     "name": "stdout",
     "output_type": "stream",
     "text": [
      "[('IU', 'Pallete'), ('AKMU', 'FourSpring')]\n"
     ]
    }
   ],
   "source": [
    "# inner join\n",
    "cur.execute('''\n",
    "            SELECT at.name, ab.title\n",
    "            FROM Artist as at JOIN Album as ab ON at.id = ab.artist_id;\n",
    "            ''')\n",
    "print(cur.fetchall())"
   ]
  },
  {
   "cell_type": "code",
   "execution_count": 67,
   "metadata": {},
   "outputs": [
    {
     "name": "stdout",
     "output_type": "stream",
     "text": [
      "[('Pallete', 'Pallete'), ('FourSpring', 'Go back home')]\n"
     ]
    }
   ],
   "source": [
    "# inner join\n",
    "cur.execute('''\n",
    "            SELECT ab.title, tr.title\n",
    "            FROM Track as tr JOIN Album as ab ON tr.album_id = ab.id;\n",
    "            ''')\n",
    "print(cur.fetchall())"
   ]
  },
  {
   "cell_type": "code",
   "execution_count": 69,
   "metadata": {},
   "outputs": [
    {
     "name": "stdout",
     "output_type": "stream",
     "text": [
      "[('IU', 'Pallete', 'Pallete', 'Solo'), ('AKMU', 'FourSpring', 'Go back home', 'Duet')]\n"
     ]
    }
   ],
   "source": [
    "# inner join 3중 join\n",
    "cur.execute('''\n",
    "    select Artist.name, Album.title, Track.title, Genre.name\n",
    "    from Track\n",
    "    join Artist join Album join Genre on\n",
    "    Track.album_id = Album.id\n",
    "    and\n",
    "    Track.genre_id = Genre.id\n",
    "    and\n",
    "    Album.artist_id = Artist.id;\n",
    "''')\n",
    "print(cur.fetchall())"
   ]
  },
  {
   "cell_type": "code",
   "execution_count": 70,
   "metadata": {
    "collapsed": true
   },
   "outputs": [],
   "source": [
    "# dump 쓰기\n",
    "with open('dump.sql', 'w') as f :\n",
    "    for line in conn.iterdump() :\n",
    "        f.write('%s\\n' % line) # 변수 출력하기 : %s 자리에 변수 들어감 "
   ]
  },
  {
   "cell_type": "code",
   "execution_count": 71,
   "metadata": {},
   "outputs": [
    {
     "name": "stdout",
     "output_type": "stream",
     "text": [
      "BEGIN TRANSACTION;\n",
      "CREATE TABLE Album(\n",
      "            id INTEGER PRIMARY KEY,\n",
      "            title TEXT NOT NULL,\n",
      "            artist_id INTEGER\n",
      "        );\n",
      "INSERT INTO \"Album\" VALUES(1,'Pallete',1);\n",
      "INSERT INTO \"Album\" VALUES(2,'FourSpring',2);\n",
      "CREATE TABLE Artist(\n",
      "            id INTEGER PRIMARY KEY AUTOINCREMENT,\n",
      "            name TEXT NOT NULL\n",
      "        );\n",
      "INSERT INTO \"Artist\" VALUES(1,'IU');\n",
      "INSERT INTO \"Artist\" VALUES(2,'AKMU');\n",
      "CREATE TABLE Genre(\n",
      "            id INTEGER PRIMARY KEY AUTOINCREMENT,\n",
      "            name TEXT NOT NULL\n",
      "        );\n",
      "INSERT INTO \"Genre\" VALUES(1,'Duet');\n",
      "INSERT INTO \"Genre\" VALUES(2,'Solo');\n",
      "CREATE TABLE Track(\n",
      "            id INTEGER PRIMARY KEY,\n",
      "            title TEXT NOT NULL,\n",
      "            length INTEGER,\n",
      "            rating INTERGER,\n",
      "            count INTERGER,\n",
      "            album_id INTEGER,\n",
      "            genre_id INTEGER\n",
      "        );\n",
      "INSERT INTO \"Track\" VALUES(1,'Pallete',NULL,NULL,NULL,1,2);\n",
      "INSERT INTO \"Track\" VALUES(2,'Go back home',NULL,NULL,NULL,2,1);\n",
      "DELETE FROM \"sqlite_sequence\";\n",
      "INSERT INTO \"sqlite_sequence\" VALUES('Artist',2);\n",
      "INSERT INTO \"sqlite_sequence\" VALUES('Genre',2);\n",
      "COMMIT;\n",
      "\n"
     ]
    }
   ],
   "source": [
    "# dump 읽기\n",
    "with open('dump.sql', 'r') as f :\n",
    "    data = f.read()\n",
    "\n",
    "print(data)"
   ]
  },
  {
   "cell_type": "code",
   "execution_count": 73,
   "metadata": {},
   "outputs": [
    {
     "name": "stdout",
     "output_type": "stream",
     "text": [
      "[(1, 'IU'), (2, 'AKMU')]\n"
     ]
    }
   ],
   "source": [
    "# cursor 에서 dump 사용하기\n",
    "conn1 = sqlite3.connect('dump.db')\n",
    "cur = conn1.cursor()\n",
    "cur.executescript(data)\n",
    "cur.execute(\"select * from Artist;\")\n",
    "print(cur.fetchall())"
   ]
  },
  {
   "cell_type": "code",
   "execution_count": 74,
   "metadata": {},
   "outputs": [
    {
     "data": {
      "text/plain": [
       "<sqlite3.Cursor at 0xed12bd2ab0>"
      ]
     },
     "execution_count": 74,
     "metadata": {},
     "output_type": "execute_result"
    }
   ],
   "source": [
    "cur.execute(\"insert into track (title) values ('baby')\")"
   ]
  },
  {
   "cell_type": "code",
   "execution_count": 76,
   "metadata": {},
   "outputs": [
    {
     "name": "stdout",
     "output_type": "stream",
     "text": [
      "[('Pallete', 'Pallete'), ('Go back home', 'FourSpring'), ('baby', None)]\n"
     ]
    }
   ],
   "source": [
    "# left join 파이썬은 left join 만 지원함 (full, right X)\n",
    "cur.execute(\"select track.title, album.title from track left join album on track.album_id = album.id\")\n",
    "print(cur.fetchall())"
   ]
  },
  {
   "cell_type": "code",
   "execution_count": 80,
   "metadata": {},
   "outputs": [
    {
     "data": {
      "text/plain": [
       "generator"
      ]
     },
     "execution_count": 80,
     "metadata": {},
     "output_type": "execute_result"
    }
   ],
   "source": [
    "type(conn.iterdump())"
   ]
  },
  {
   "cell_type": "code",
   "execution_count": 81,
   "metadata": {},
   "outputs": [
    {
     "name": "stdout",
     "output_type": "stream",
     "text": [
      "<generator object _iterdump at 0x000000ED12BFDFC0>\n"
     ]
    }
   ],
   "source": [
    "print(conn.iterdump())"
   ]
  },
  {
   "cell_type": "code",
   "execution_count": 82,
   "metadata": {},
   "outputs": [
    {
     "name": "stdout",
     "output_type": "stream",
     "text": [
      "BEGIN TRANSACTION;\n",
      "CREATE TABLE Album(\n",
      "            id INTEGER PRIMARY KEY,\n",
      "            title TEXT NOT NULL,\n",
      "            artist_id INTEGER\n",
      "        );\n",
      "INSERT INTO \"Album\" VALUES(1,'Pallete',1);\n",
      "INSERT INTO \"Album\" VALUES(2,'FourSpring',2);\n",
      "CREATE TABLE Artist(\n",
      "            id INTEGER PRIMARY KEY AUTOINCREMENT,\n",
      "            name TEXT NOT NULL\n",
      "        );\n",
      "INSERT INTO \"Artist\" VALUES(1,'IU');\n",
      "INSERT INTO \"Artist\" VALUES(2,'AKMU');\n",
      "CREATE TABLE Genre(\n",
      "            id INTEGER PRIMARY KEY AUTOINCREMENT,\n",
      "            name TEXT NOT NULL\n",
      "        );\n",
      "INSERT INTO \"Genre\" VALUES(1,'Duet');\n",
      "INSERT INTO \"Genre\" VALUES(2,'Solo');\n",
      "CREATE TABLE Track(\n",
      "            id INTEGER PRIMARY KEY,\n",
      "            title TEXT NOT NULL,\n",
      "            length INTEGER,\n",
      "            rating INTERGER,\n",
      "            count INTERGER,\n",
      "            album_id INTEGER,\n",
      "            genre_id INTEGER\n",
      "        );\n",
      "INSERT INTO \"Track\" VALUES(1,'Pallete',NULL,NULL,NULL,1,2);\n",
      "INSERT INTO \"Track\" VALUES(2,'Go back home',NULL,NULL,NULL,2,1);\n",
      "DELETE FROM \"sqlite_sequence\";\n",
      "INSERT INTO \"sqlite_sequence\" VALUES('Artist',2);\n",
      "INSERT INTO \"sqlite_sequence\" VALUES('Genre',2);\n",
      "COMMIT;\n"
     ]
    }
   ],
   "source": [
    "print('\\n'.join(conn.iterdump()))"
   ]
  },
  {
   "cell_type": "code",
   "execution_count": 83,
   "metadata": {},
   "outputs": [
    {
     "name": "stdout",
     "output_type": "stream",
     "text": [
      "BEGIN TRANSACTION;\n",
      "CREATE TABLE Album(\n",
      "            id INTEGER PRIMARY KEY,\n",
      "            title TEXT NOT NULL,\n",
      "            artist_id INTEGER\n",
      "        );\n",
      "INSERT INTO \"Album\" VALUES(1,'Pallete',1);\n",
      "INSERT INTO \"Album\" VALUES(2,'FourSpring',2);\n",
      "CREATE TABLE Artist(\n",
      "            id INTEGER PRIMARY KEY AUTOINCREMENT,\n",
      "            name TEXT NOT NULL\n",
      "        );\n",
      "INSERT INTO \"Artist\" VALUES(1,'IU');\n",
      "INSERT INTO \"Artist\" VALUES(2,'AKMU');\n",
      "CREATE TABLE Genre(\n",
      "            id INTEGER PRIMARY KEY AUTOINCREMENT,\n",
      "            name TEXT NOT NULL\n",
      "        );\n",
      "INSERT INTO \"Genre\" VALUES(1,'Duet');\n",
      "INSERT INTO \"Genre\" VALUES(2,'Solo');\n",
      "CREATE TABLE Track(\n",
      "            id INTEGER PRIMARY KEY,\n",
      "            title TEXT NOT NULL,\n",
      "            length INTEGER,\n",
      "            rating INTERGER,\n",
      "            count INTERGER,\n",
      "            album_id INTEGER,\n",
      "            genre_id INTEGER\n",
      "        );\n",
      "INSERT INTO \"Track\" VALUES(1,'Pallete',NULL,NULL,NULL,1,2);\n",
      "INSERT INTO \"Track\" VALUES(2,'Go back home',NULL,NULL,NULL,2,1);\n",
      "DELETE FROM \"sqlite_sequence\";\n",
      "INSERT INTO \"sqlite_sequence\" VALUES('Artist',2);\n",
      "INSERT INTO \"sqlite_sequence\" VALUES('Genre',2);\n",
      "COMMIT;\n"
     ]
    }
   ],
   "source": [
    "for line in conn.iterdump() :\n",
    "    print(line)"
   ]
  }
 ],
 "metadata": {
  "kernelspec": {
   "display_name": "Python 3",
   "language": "python",
   "name": "python3"
  },
  "language_info": {
   "codemirror_mode": {
    "name": "ipython",
    "version": 3
   },
   "file_extension": ".py",
   "mimetype": "text/x-python",
   "name": "python",
   "nbconvert_exporter": "python",
   "pygments_lexer": "ipython3",
   "version": "3.6.5"
  }
 },
 "nbformat": 4,
 "nbformat_minor": 2
}
