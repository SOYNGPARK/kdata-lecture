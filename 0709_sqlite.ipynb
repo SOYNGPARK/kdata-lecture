{
 "cells": [
  {
   "cell_type": "markdown",
   "metadata": {},
   "source": [
    "# Week2 7월 9일 월요일 \n",
    "\n",
    "# RDBMS, Sqlite"
   ]
  },
  {
   "cell_type": "code",
   "execution_count": 2,
   "metadata": {
    "collapsed": true
   },
   "outputs": [],
   "source": [
    "import sqlite3"
   ]
  },
  {
   "cell_type": "code",
   "execution_count": 3,
   "metadata": {},
   "outputs": [
    {
     "data": {
      "text/plain": [
       "['Binary',\n",
       " 'Cache',\n",
       " 'Connection',\n",
       " 'Cursor',\n",
       " 'DataError',\n",
       " 'DatabaseError',\n",
       " 'Date',\n",
       " 'DateFromTicks',\n",
       " 'Error',\n",
       " 'IntegrityError',\n",
       " 'InterfaceError',\n",
       " 'InternalError',\n",
       " 'NotSupportedError',\n",
       " 'OperationalError',\n",
       " 'OptimizedUnicode',\n",
       " 'PARSE_COLNAMES',\n",
       " 'PARSE_DECLTYPES',\n",
       " 'PrepareProtocol',\n",
       " 'ProgrammingError',\n",
       " 'Row',\n",
       " 'SQLITE_ALTER_TABLE',\n",
       " 'SQLITE_ANALYZE',\n",
       " 'SQLITE_ATTACH',\n",
       " 'SQLITE_CREATE_INDEX',\n",
       " 'SQLITE_CREATE_TABLE',\n",
       " 'SQLITE_CREATE_TEMP_INDEX',\n",
       " 'SQLITE_CREATE_TEMP_TABLE',\n",
       " 'SQLITE_CREATE_TEMP_TRIGGER',\n",
       " 'SQLITE_CREATE_TEMP_VIEW',\n",
       " 'SQLITE_CREATE_TRIGGER',\n",
       " 'SQLITE_CREATE_VIEW',\n",
       " 'SQLITE_DELETE',\n",
       " 'SQLITE_DENY',\n",
       " 'SQLITE_DETACH',\n",
       " 'SQLITE_DROP_INDEX',\n",
       " 'SQLITE_DROP_TABLE',\n",
       " 'SQLITE_DROP_TEMP_INDEX',\n",
       " 'SQLITE_DROP_TEMP_TABLE',\n",
       " 'SQLITE_DROP_TEMP_TRIGGER',\n",
       " 'SQLITE_DROP_TEMP_VIEW',\n",
       " 'SQLITE_DROP_TRIGGER',\n",
       " 'SQLITE_DROP_VIEW',\n",
       " 'SQLITE_IGNORE',\n",
       " 'SQLITE_INSERT',\n",
       " 'SQLITE_OK',\n",
       " 'SQLITE_PRAGMA',\n",
       " 'SQLITE_READ',\n",
       " 'SQLITE_REINDEX',\n",
       " 'SQLITE_SELECT',\n",
       " 'SQLITE_TRANSACTION',\n",
       " 'SQLITE_UPDATE',\n",
       " 'Statement',\n",
       " 'Time',\n",
       " 'TimeFromTicks',\n",
       " 'Timestamp',\n",
       " 'TimestampFromTicks',\n",
       " 'Warning',\n",
       " '__builtins__',\n",
       " '__cached__',\n",
       " '__doc__',\n",
       " '__file__',\n",
       " '__loader__',\n",
       " '__name__',\n",
       " '__package__',\n",
       " '__path__',\n",
       " '__spec__',\n",
       " 'adapt',\n",
       " 'adapters',\n",
       " 'apilevel',\n",
       " 'collections',\n",
       " 'complete_statement',\n",
       " 'connect',\n",
       " 'converters',\n",
       " 'datetime',\n",
       " 'dbapi2',\n",
       " 'enable_callback_tracebacks',\n",
       " 'enable_shared_cache',\n",
       " 'paramstyle',\n",
       " 'register_adapter',\n",
       " 'register_converter',\n",
       " 'sqlite_version',\n",
       " 'sqlite_version_info',\n",
       " 'threadsafety',\n",
       " 'time',\n",
       " 'version',\n",
       " 'version_info']"
      ]
     },
     "execution_count": 3,
     "metadata": {},
     "output_type": "execute_result"
    }
   ],
   "source": [
    "dir(sqlite3)"
   ]
  },
  {
   "cell_type": "markdown",
   "metadata": {},
   "source": [
    "* sql 버전 확인"
   ]
  },
  {
   "cell_type": "code",
   "execution_count": 4,
   "metadata": {},
   "outputs": [
    {
     "data": {
      "text/plain": [
       "'2.6.0'"
      ]
     },
     "execution_count": 4,
     "metadata": {},
     "output_type": "execute_result"
    }
   ],
   "source": [
    "sqlite3.version"
   ]
  },
  {
   "cell_type": "code",
   "execution_count": 6,
   "metadata": {},
   "outputs": [
    {
     "data": {
      "text/plain": [
       "'3.14.2'"
      ]
     },
     "execution_count": 6,
     "metadata": {},
     "output_type": "execute_result"
    }
   ],
   "source": [
    "sqlite3.sqlite_version"
   ]
  },
  {
   "cell_type": "markdown",
   "metadata": {},
   "source": [
    "* Databse 연결"
   ]
  },
  {
   "cell_type": "code",
   "execution_count": 7,
   "metadata": {
    "collapsed": true
   },
   "outputs": [],
   "source": [
    "conn = sqlite3.connect(\":memory:\")"
   ]
  },
  {
   "cell_type": "code",
   "execution_count": 8,
   "metadata": {},
   "outputs": [
    {
     "data": {
      "text/plain": [
       "<sqlite3.Connection at 0x85c2754030>"
      ]
     },
     "execution_count": 8,
     "metadata": {},
     "output_type": "execute_result"
    }
   ],
   "source": [
    "conn"
   ]
  },
  {
   "cell_type": "markdown",
   "metadata": {},
   "source": [
    "* Cursor 생성"
   ]
  },
  {
   "cell_type": "code",
   "execution_count": 9,
   "metadata": {
    "collapsed": true
   },
   "outputs": [],
   "source": [
    "cur = conn.cursor()"
   ]
  },
  {
   "cell_type": "code",
   "execution_count": 10,
   "metadata": {},
   "outputs": [
    {
     "data": {
      "text/plain": [
       "<sqlite3.Cursor at 0x85c3b91570>"
      ]
     },
     "execution_count": 10,
     "metadata": {},
     "output_type": "execute_result"
    }
   ],
   "source": [
    "cur"
   ]
  },
  {
   "cell_type": "markdown",
   "metadata": {},
   "source": [
    "cur.execute # 커리 실행\n",
    "\n",
    "cur.fetchall # 실행 결과를 받아오기"
   ]
  },
  {
   "cell_type": "code",
   "execution_count": 11,
   "metadata": {},
   "outputs": [
    {
     "data": {
      "text/plain": [
       "<sqlite3.Cursor at 0x85c3b91570>"
      ]
     },
     "execution_count": 11,
     "metadata": {},
     "output_type": "execute_result"
    }
   ],
   "source": [
    "cur.execute(\"create table people (name_last, age)\")"
   ]
  },
  {
   "cell_type": "code",
   "execution_count": 13,
   "metadata": {
    "collapsed": true
   },
   "outputs": [],
   "source": [
    "who = 'Yeltsin'\n",
    "age = 72"
   ]
  },
  {
   "cell_type": "code",
   "execution_count": 14,
   "metadata": {},
   "outputs": [
    {
     "data": {
      "text/plain": [
       "<sqlite3.Cursor at 0x85c3b91570>"
      ]
     },
     "execution_count": 14,
     "metadata": {},
     "output_type": "execute_result"
    }
   ],
   "source": [
    "cur.execute(\"insert into people values (?, ?)\", (who, age)) \n",
    "# qmark style 뭘 넣을지는 ? (question mark)를 사용한다"
   ]
  },
  {
   "cell_type": "code",
   "execution_count": 16,
   "metadata": {},
   "outputs": [
    {
     "data": {
      "text/plain": [
       "<sqlite3.Cursor at 0x85c3b91570>"
      ]
     },
     "execution_count": 16,
     "metadata": {},
     "output_type": "execute_result"
    }
   ],
   "source": [
    "cur.execute(\"select * from people where name_last=:who and age=:age\", \n",
    "            {\"who\" : who, \"age\" : age})\n",
    "# named style 뭘 넣을지 :(변수이름) 을 사용"
   ]
  },
  {
   "cell_type": "markdown",
   "metadata": {},
   "source": [
    "fetchone() : 데이터 하나씩 하나씩 꺼내옴, 반복문과 함께 사용"
   ]
  },
  {
   "cell_type": "code",
   "execution_count": 17,
   "metadata": {},
   "outputs": [
    {
     "name": "stdout",
     "output_type": "stream",
     "text": [
      "('Yeltsin', 72)\n"
     ]
    }
   ],
   "source": [
    "print(cur.fetchone()) # 튜플 형태로 반환"
   ]
  },
  {
   "cell_type": "code",
   "execution_count": 19,
   "metadata": {},
   "outputs": [
    {
     "name": "stdout",
     "output_type": "stream",
     "text": [
      "None\n"
     ]
    }
   ],
   "source": [
    "print(cur.fetchone()) # 두번째로 할때는 암것도 안나옴 (이미 한번 뱉어냈으니깐)"
   ]
  },
  {
   "cell_type": "markdown",
   "metadata": {},
   "source": [
    "* 여러개를 한꺼번에 처리할 때"
   ]
  },
  {
   "cell_type": "code",
   "execution_count": 20,
   "metadata": {
    "collapsed": true
   },
   "outputs": [],
   "source": [
    "sql = \"insert into people values(?, ?)\""
   ]
  },
  {
   "cell_type": "code",
   "execution_count": 21,
   "metadata": {
    "collapsed": true
   },
   "outputs": [],
   "source": [
    "curData = [('A', 1), ('B', 2), ('C',3)]"
   ]
  },
  {
   "cell_type": "code",
   "execution_count": 22,
   "metadata": {},
   "outputs": [
    {
     "data": {
      "text/plain": [
       "<sqlite3.Cursor at 0x85c3b91570>"
      ]
     },
     "execution_count": 22,
     "metadata": {},
     "output_type": "execute_result"
    }
   ],
   "source": [
    "cur.executemany(sql, curData)"
   ]
  },
  {
   "cell_type": "markdown",
   "metadata": {},
   "source": [
    "* sql문을 여러개 입력할 때"
   ]
  },
  {
   "cell_type": "code",
   "execution_count": 23,
   "metadata": {},
   "outputs": [
    {
     "data": {
      "text/plain": [
       "<sqlite3.Cursor at 0x85c3b91570>"
      ]
     },
     "execution_count": 23,
     "metadata": {},
     "output_type": "execute_result"
    }
   ],
   "source": [
    "cur.executescript(\n",
    "    '''\n",
    "    create table person (\n",
    "        first_name text primary key,\n",
    "        last_name text not null\n",
    "        );\n",
    "        \n",
    "    insert into person values ('name', 'kim');\n",
    "''')"
   ]
  },
  {
   "cell_type": "markdown",
   "metadata": {},
   "source": [
    "executescript 에는 select 써봤자 못읽어옴 커서가 뭘 읽어야할지 몰라함"
   ]
  },
  {
   "cell_type": "code",
   "execution_count": 26,
   "metadata": {},
   "outputs": [
    {
     "data": {
      "text/plain": [
       "<sqlite3.Cursor at 0x85c3b91570>"
      ]
     },
     "execution_count": 26,
     "metadata": {},
     "output_type": "execute_result"
    }
   ],
   "source": [
    "cur.execute(\"select * from person\")"
   ]
  },
  {
   "cell_type": "code",
   "execution_count": 27,
   "metadata": {},
   "outputs": [
    {
     "name": "stdout",
     "output_type": "stream",
     "text": [
      "[('name', 'kim')]\n"
     ]
    }
   ],
   "source": [
    "print(cur.fetchall())"
   ]
  },
  {
   "cell_type": "code",
   "execution_count": 45,
   "metadata": {
    "collapsed": true
   },
   "outputs": [],
   "source": [
    "conn.close()"
   ]
  },
  {
   "cell_type": "code",
   "execution_count": 46,
   "metadata": {
    "collapsed": true
   },
   "outputs": [],
   "source": [
    "conn1 = sqlite3.connect(\"test1.db\") # db를 만듦"
   ]
  },
  {
   "cell_type": "code",
   "execution_count": 47,
   "metadata": {},
   "outputs": [
    {
     "data": {
      "text/plain": [
       "<sqlite3.Cursor at 0x85c3b91b20>"
      ]
     },
     "execution_count": 47,
     "metadata": {},
     "output_type": "execute_result"
    }
   ],
   "source": [
    "conn1.execute(\n",
    "'''\n",
    "    create table company(\n",
    "        ID int primary key not null,\n",
    "        name text not null,\n",
    "        age int not null,\n",
    "        address char(50),\n",
    "        salary real\n",
    "        );\n",
    "'''\n",
    ")"
   ]
  },
  {
   "cell_type": "code",
   "execution_count": 48,
   "metadata": {},
   "outputs": [
    {
     "data": {
      "text/plain": [
       "<sqlite3.Cursor at 0x85c3b91810>"
      ]
     },
     "execution_count": 48,
     "metadata": {},
     "output_type": "execute_result"
    }
   ],
   "source": [
    "# insert 방법 1 : 그냥 값을 넣기\n",
    "conn1.execute(\"INSERT INTO COMPANY \\\n",
    "                VALUES (1, 'Paul', 32, 'California', 20000.00);\")"
   ]
  },
  {
   "cell_type": "code",
   "execution_count": 49,
   "metadata": {},
   "outputs": [
    {
     "data": {
      "text/plain": [
       "<sqlite3.Cursor at 0x85c3b91b90>"
      ]
     },
     "execution_count": 49,
     "metadata": {},
     "output_type": "execute_result"
    }
   ],
   "source": [
    "# insert 방법 2 : named style 사용\n",
    "conn1.execute(\"INSERT INTO COMPANY \\\n",
    "                VALUES (:id, :name, :age, :address, :salary);\",\n",
    "             {'id' : 2, 'name':'Allen', 'age':25, 'address':'Texas', 'salary':15000.00})"
   ]
  },
  {
   "cell_type": "code",
   "execution_count": 52,
   "metadata": {
    "collapsed": true
   },
   "outputs": [],
   "source": [
    "data = [(3, 'Teddy', 23, 'Norway', 20000.00),\n",
    "       (4, 'Mark', 25, 'Rich-Mond', 65000.00)]"
   ]
  },
  {
   "cell_type": "code",
   "execution_count": 54,
   "metadata": {},
   "outputs": [
    {
     "data": {
      "text/plain": [
       "<sqlite3.Cursor at 0x85c3b91d50>"
      ]
     },
     "execution_count": 54,
     "metadata": {},
     "output_type": "execute_result"
    }
   ],
   "source": [
    "# insert 방법 3 : qmark style 사용\n",
    "# 한꺼번에 많이 insert 방법 1 : executemany\n",
    "conn1.executemany(\"INSERT INTO COMPANY \\\n",
    "                VALUES (?, ?, ?, ?, ?);\", data)"
   ]
  },
  {
   "cell_type": "code",
   "execution_count": 55,
   "metadata": {},
   "outputs": [
    {
     "data": {
      "text/plain": [
       "<sqlite3.Cursor at 0x85c3b91dc0>"
      ]
     },
     "execution_count": 55,
     "metadata": {},
     "output_type": "execute_result"
    }
   ],
   "source": [
    "# 한꺼번에 많이 insert 방법 2 : executescript\n",
    "conn1.executescript(\n",
    "    '''\n",
    "    INSERT INTO COMPANY \\\n",
    "    VALUES (5, 'Jane', 32, 'Rich-Mond', 30000.00);\n",
    "    \n",
    "    INSERT INTO COMPANY \\\n",
    "    VALUES (6, 'Tim', 32, 'Rich-Mond', 40000.00);\n",
    "\n",
    "''')"
   ]
  },
  {
   "cell_type": "code",
   "execution_count": 56,
   "metadata": {
    "collapsed": true
   },
   "outputs": [],
   "source": [
    "conn1.commit()"
   ]
  },
  {
   "cell_type": "code",
   "execution_count": 58,
   "metadata": {
    "collapsed": true
   },
   "outputs": [],
   "source": [
    "temp = conn1.execute(\"select * from company\")"
   ]
  },
  {
   "cell_type": "code",
   "execution_count": 59,
   "metadata": {},
   "outputs": [
    {
     "data": {
      "text/plain": [
       "sqlite3.Cursor"
      ]
     },
     "execution_count": 59,
     "metadata": {},
     "output_type": "execute_result"
    }
   ],
   "source": [
    "type(temp) # 안녕 나는 커서야 데이터를 물고 있지"
   ]
  },
  {
   "cell_type": "code",
   "execution_count": 60,
   "metadata": {
    "scrolled": true
   },
   "outputs": [
    {
     "name": "stdout",
     "output_type": "stream",
     "text": [
      "(1, 'Paul', 32, 'California', 20000.0)\n",
      "(2, 'Allen', 25, 'Texas', 15000.0)\n",
      "(3, 'Teddy', 23, 'Norway', 20000.0)\n",
      "(4, 'Mark', 25, 'Rich-Mond', 65000.0)\n",
      "(5, 'Jane', 32, 'Rich-Mond', 30000.0)\n",
      "(6, 'Tim', 32, 'Rich-Mond', 40000.0)\n"
     ]
    }
   ],
   "source": [
    "for row in temp :\n",
    "    print(row) # cursor.fetchone 이랑 같은 결과"
   ]
  },
  {
   "cell_type": "code",
   "execution_count": 61,
   "metadata": {},
   "outputs": [
    {
     "data": {
      "text/plain": [
       "<sqlite3.Cursor at 0x85c3b91f10>"
      ]
     },
     "execution_count": 61,
     "metadata": {},
     "output_type": "execute_result"
    }
   ],
   "source": [
    "conn1.execute(\"update company set salary = 25000.00 where ID=:id;\", {'id':1})"
   ]
  },
  {
   "cell_type": "code",
   "execution_count": 62,
   "metadata": {
    "collapsed": true
   },
   "outputs": [],
   "source": [
    "conn1.commit()"
   ]
  },
  {
   "cell_type": "code",
   "execution_count": 73,
   "metadata": {
    "collapsed": true
   },
   "outputs": [],
   "source": [
    "cur1 = conn1.cursor()"
   ]
  },
  {
   "cell_type": "code",
   "execution_count": 74,
   "metadata": {},
   "outputs": [
    {
     "data": {
      "text/plain": [
       "<sqlite3.Cursor at 0x85c41b5110>"
      ]
     },
     "execution_count": 74,
     "metadata": {},
     "output_type": "execute_result"
    }
   ],
   "source": [
    "cur1.execute(\"select * from company\")"
   ]
  },
  {
   "cell_type": "code",
   "execution_count": 75,
   "metadata": {},
   "outputs": [
    {
     "name": "stdout",
     "output_type": "stream",
     "text": [
      "[(1, 'Paul', 32, 'California', 25000.0), (2, 'Allen', 25, 'Texas', 15000.0), (3, 'Teddy', 23, 'Norway', 20000.0), (4, 'Mark', 25, 'Rich-Mond', 65000.0), (5, 'Jane', 32, 'Rich-Mond', 30000.0), (6, 'Tim', 32, 'Rich-Mond', 40000.0)]\n"
     ]
    }
   ],
   "source": [
    "print(cur1.fetchall())"
   ]
  },
  {
   "cell_type": "code",
   "execution_count": 76,
   "metadata": {},
   "outputs": [
    {
     "data": {
      "text/plain": [
       "<sqlite3.Cursor at 0x85c41b51f0>"
      ]
     },
     "execution_count": 76,
     "metadata": {},
     "output_type": "execute_result"
    }
   ],
   "source": [
    "conn1.execute(\"delete from company where ID=2;\")"
   ]
  },
  {
   "cell_type": "code",
   "execution_count": 77,
   "metadata": {},
   "outputs": [
    {
     "name": "stdout",
     "output_type": "stream",
     "text": [
      "(1, 'Paul', 32, 'California', 25000.0)\n",
      "(3, 'Teddy', 23, 'Norway', 20000.0)\n",
      "(4, 'Mark', 25, 'Rich-Mond', 65000.0)\n",
      "(5, 'Jane', 32, 'Rich-Mond', 30000.0)\n",
      "(6, 'Tim', 32, 'Rich-Mond', 40000.0)\n"
     ]
    }
   ],
   "source": [
    "for row in conn1.execute(\"select * from company;\") :\n",
    "    print(row)"
   ]
  },
  {
   "cell_type": "code",
   "execution_count": 79,
   "metadata": {
    "collapsed": true
   },
   "outputs": [],
   "source": [
    "conn1.commit() # DB browser에 반영 확인"
   ]
  }
 ],
 "metadata": {
  "kernelspec": {
   "display_name": "Python 3",
   "language": "python",
   "name": "python3"
  },
  "language_info": {
   "codemirror_mode": {
    "name": "ipython",
    "version": 3
   },
   "file_extension": ".py",
   "mimetype": "text/x-python",
   "name": "python",
   "nbconvert_exporter": "python",
   "pygments_lexer": "ipython3",
   "version": "3.6.1"
  }
 },
 "nbformat": 4,
 "nbformat_minor": 2
}
