{
 "cells": [
  {
   "cell_type": "markdown",
   "metadata": {},
   "source": [
    "# Week2 7월 10일 화요일 \n",
    "\n",
    "# SQLAlchemy Core "
   ]
  },
  {
   "cell_type": "markdown",
   "metadata": {},
   "source": [
    "* 기존 DB를 불러오기"
   ]
  },
  {
   "cell_type": "code",
   "execution_count": 1,
   "metadata": {
    "collapsed": true
   },
   "outputs": [],
   "source": [
    "from sqlalchemy import *"
   ]
  },
  {
   "cell_type": "code",
   "execution_count": 2,
   "metadata": {
    "scrolled": true
   },
   "outputs": [
    {
     "name": "stdout",
     "output_type": "stream",
     "text": [
      "2018-07-13 16:13:17,320 INFO sqlalchemy.engine.base.Engine SELECT CAST('test plain returns' AS VARCHAR(60)) AS anon_1\n",
      "2018-07-13 16:13:17,333 INFO sqlalchemy.engine.base.Engine ()\n",
      "2018-07-13 16:13:17,338 INFO sqlalchemy.engine.base.Engine SELECT CAST('test unicode returns' AS VARCHAR(60)) AS anon_1\n",
      "2018-07-13 16:13:17,341 INFO sqlalchemy.engine.base.Engine ()\n"
     ]
    }
   ],
   "source": [
    "engine = create_engine(\"sqlite:///alchemy_core.db\", echo = True)\n",
    "conn = engine.connect()"
   ]
  },
  {
   "cell_type": "code",
   "execution_count": 3,
   "metadata": {},
   "outputs": [
    {
     "name": "stdout",
     "output_type": "stream",
     "text": [
      "2018-07-13 16:13:18,952 INFO sqlalchemy.engine.base.Engine SELECT name FROM sqlite_master WHERE type='table' ORDER BY name\n",
      "2018-07-13 16:13:18,957 INFO sqlalchemy.engine.base.Engine ()\n",
      "2018-07-13 16:13:18,971 INFO sqlalchemy.engine.base.Engine PRAGMA table_info(\"addresses\")\n",
      "2018-07-13 16:13:18,975 INFO sqlalchemy.engine.base.Engine ()\n",
      "2018-07-13 16:13:18,986 INFO sqlalchemy.engine.base.Engine SELECT sql FROM  (SELECT * FROM sqlite_master UNION ALL   SELECT * FROM sqlite_temp_master) WHERE name = 'addresses' AND type = 'table'\n",
      "2018-07-13 16:13:18,990 INFO sqlalchemy.engine.base.Engine ()\n",
      "2018-07-13 16:13:19,002 INFO sqlalchemy.engine.base.Engine PRAGMA foreign_key_list(\"addresses\")\n",
      "2018-07-13 16:13:19,007 INFO sqlalchemy.engine.base.Engine ()\n",
      "2018-07-13 16:13:19,015 INFO sqlalchemy.engine.base.Engine SELECT sql FROM  (SELECT * FROM sqlite_master UNION ALL   SELECT * FROM sqlite_temp_master) WHERE name = 'addresses' AND type = 'table'\n",
      "2018-07-13 16:13:19,019 INFO sqlalchemy.engine.base.Engine ()\n",
      "2018-07-13 16:13:19,044 INFO sqlalchemy.engine.base.Engine PRAGMA table_info(\"users\")\n",
      "2018-07-13 16:13:19,054 INFO sqlalchemy.engine.base.Engine ()\n",
      "2018-07-13 16:13:19,067 INFO sqlalchemy.engine.base.Engine SELECT sql FROM  (SELECT * FROM sqlite_master UNION ALL   SELECT * FROM sqlite_temp_master) WHERE name = 'users' AND type = 'table'\n",
      "2018-07-13 16:13:19,071 INFO sqlalchemy.engine.base.Engine ()\n",
      "2018-07-13 16:13:19,083 INFO sqlalchemy.engine.base.Engine PRAGMA foreign_key_list(\"users\")\n",
      "2018-07-13 16:13:19,089 INFO sqlalchemy.engine.base.Engine ()\n",
      "2018-07-13 16:13:19,096 INFO sqlalchemy.engine.base.Engine SELECT sql FROM  (SELECT * FROM sqlite_master UNION ALL   SELECT * FROM sqlite_temp_master) WHERE name = 'users' AND type = 'table'\n",
      "2018-07-13 16:13:19,106 INFO sqlalchemy.engine.base.Engine ()\n",
      "2018-07-13 16:13:19,114 INFO sqlalchemy.engine.base.Engine PRAGMA index_list(\"users\")\n",
      "2018-07-13 16:13:19,118 INFO sqlalchemy.engine.base.Engine ()\n",
      "2018-07-13 16:13:19,125 INFO sqlalchemy.engine.base.Engine PRAGMA index_list(\"users\")\n",
      "2018-07-13 16:13:19,129 INFO sqlalchemy.engine.base.Engine ()\n",
      "2018-07-13 16:13:19,136 INFO sqlalchemy.engine.base.Engine SELECT sql FROM  (SELECT * FROM sqlite_master UNION ALL   SELECT * FROM sqlite_temp_master) WHERE name = 'users' AND type = 'table'\n",
      "2018-07-13 16:13:19,141 INFO sqlalchemy.engine.base.Engine ()\n"
     ]
    },
    {
     "name": "stderr",
     "output_type": "stream",
     "text": [
      "C:\\ProgramData\\Anaconda3\\lib\\site-packages\\ipykernel_launcher.py:1: SADeprecationWarning: reflect=True is deprecate; please use the reflect() method.\n",
      "  \"\"\"Entry point for launching an IPython kernel.\n"
     ]
    },
    {
     "name": "stdout",
     "output_type": "stream",
     "text": [
      "2018-07-13 16:13:19,167 INFO sqlalchemy.engine.base.Engine PRAGMA index_list(\"addresses\")\n",
      "2018-07-13 16:13:19,176 INFO sqlalchemy.engine.base.Engine ()\n",
      "2018-07-13 16:13:19,186 INFO sqlalchemy.engine.base.Engine PRAGMA index_list(\"addresses\")\n",
      "2018-07-13 16:13:19,194 INFO sqlalchemy.engine.base.Engine ()\n",
      "2018-07-13 16:13:19,201 INFO sqlalchemy.engine.base.Engine SELECT sql FROM  (SELECT * FROM sqlite_master UNION ALL   SELECT * FROM sqlite_temp_master) WHERE name = 'addresses' AND type = 'table'\n",
      "2018-07-13 16:13:19,206 INFO sqlalchemy.engine.base.Engine ()\n",
      "2018-07-13 16:13:19,226 INFO sqlalchemy.engine.base.Engine SELECT name FROM sqlite_master WHERE type='table' ORDER BY name\n",
      "2018-07-13 16:13:19,231 INFO sqlalchemy.engine.base.Engine ()\n"
     ]
    }
   ],
   "source": [
    "metadata = MetaData(bind = engine, reflect = True) # engine 가져오기\n",
    "metadata.reflect(bind=engine)"
   ]
  },
  {
   "cell_type": "code",
   "execution_count": 4,
   "metadata": {},
   "outputs": [
    {
     "name": "stdout",
     "output_type": "stream",
     "text": [
      "addresses\n",
      "users\n"
     ]
    }
   ],
   "source": [
    "for t in metadata.tables :\n",
    "    print(t)"
   ]
  },
  {
   "cell_type": "code",
   "execution_count": 5,
   "metadata": {},
   "outputs": [
    {
     "name": "stdout",
     "output_type": "stream",
     "text": [
      "2018-07-13 16:13:22,927 INFO sqlalchemy.engine.base.Engine SELECT users.id, users.name, users.fullname \n",
      "FROM users\n",
      "2018-07-13 16:13:22,933 INFO sqlalchemy.engine.base.Engine ()\n",
      "[(1, 'park', 'soyoung park'), (2, 'lee', 'jieun lee'), (3, 'won', 'gangmin won')]\n"
     ]
    }
   ],
   "source": [
    "users = metadata.tables[\"users\"]\n",
    "r = conn.execute(users.select())\n",
    "print(r.fetchall())"
   ]
  }
 ],
 "metadata": {
  "kernelspec": {
   "display_name": "Python 3",
   "language": "python",
   "name": "python3"
  },
  "language_info": {
   "codemirror_mode": {
    "name": "ipython",
    "version": 3
   },
   "file_extension": ".py",
   "mimetype": "text/x-python",
   "name": "python",
   "nbconvert_exporter": "python",
   "pygments_lexer": "ipython3",
   "version": "3.6.1"
  }
 },
 "nbformat": 4,
 "nbformat_minor": 2
}
